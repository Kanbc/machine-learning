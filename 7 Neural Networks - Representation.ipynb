{
 "cells": [
  {
   "cell_type": "markdown",
   "metadata": {},
   "source": [
    "# Intro\n",
    "\n",
    "## Pain\n",
    "สมมติเรามีรูปนึง ขนาด 100x100 pixel ถ้าเราจะทำ classification ด้วย logistic regression โดยให้แต่ละ pixel ของรูปเป็น feature ประกอบการพิจารณา จะได้ว่ามี feature $10^4$ ตัว แล้วดูทรงเส้น decision boundary น่าจะเป็นแบบ non-linear ต้องพิจารณาฟีเจอร์แบบ Quadatic ($\\theta_0 + \\theta_1x_1 + \\theta_2x_2 + \\theta_3x_1^2 + ...$) ซึ่งทำแล้วจะมีจะมีฟีเจอร์ทั้งหมดประมาณนี้"
   ]
  },
  {
   "cell_type": "code",
   "execution_count": 185,
   "metadata": {},
   "outputs": [
    {
     "name": "stdout",
     "output_type": "stream",
     "text": [
      "50015000.0\n"
     ]
    }
   ],
   "source": [
    "n = 10000\n",
    "x = n+n*(n+1)/2 # number of feature\n",
    "print(x)"
   ]
  },
  {
   "cell_type": "markdown",
   "metadata": {},
   "source": [
    "#### Note : \n",
    "\n",
    "ถ้ามี 2 features ทำ Quadatic จะได้ : $\\theta_0 + \\theta_1x_1 + \\theta_2x_2+\\theta_3x_1x_2 + \\theta_4x_1^2 + \\theta_5x_2^2$ --> มีฟีเจอร์เพิ่มมา 3 ตัว (2+1) + 2 (feature ตั้งต้น)เป็น 5 ตัว\n",
    "\n",
    "ถ้ามี 3 features ทำ Quadatic จะได้ : $\\theta_0 + \\theta_1x_1 + \\theta_2x_2 + \\theta_3x_3  + \\theta_1x_1x_2 + \\theta_1x_1x_3 + \\theta_1x_2x_3 + \\theta_1x_1^2 + \\theta_1x_2^2 + \\theta_3x_3^2$ --> มีฟีเจอร์เพิ่มมา 6 ตัว (3+2+1) + 3 (feature ตั้งต้น)เป็น 5 ตัว\n",
    "\n",
    "$\\vdots$\n",
    "\n",
    "จะได้สูตรของการหาจำนวน feature ทั้งหมดถ้าทำ Quadatic คือ $n + \\{n+(n-1)+(n-2)+\\cdots+1\\} = n + \\frac{n(n+1)}{2}$ \n"
   ]
  },
  {
   "cell_type": "markdown",
   "metadata": {},
   "source": [
    "# Model Representation I\n",
    "\n",
    "Let's examine how we will represent a hypothesis function using neural networks. At a very simple level, neurons are basically computational units that take inputs (**dendrites**) as electrical inputs (called \"spikes\") that are channeled to outputs (**axons**). In our model, our dendrites are like the input features $x_1 \\cdots x_n$, and the output is the result of our hypothesis function. \n",
    "\n",
    "In this model our $x_0$ input node is sometimes called the \"bias unit.\" It is always equal to 1. \n",
    "\n",
    "In neural networks, we use the same logistic function as in classification, $\\frac{1}{1+e^{−\\theta^Tx}}$, yet we sometimes call it a sigmoid (logistic) **activation** function. In this situation, our \"theta\" parameters are sometimes called **\"weights\"**.\n",
    "\n",
    "Visually, a simplistic representation looks like:\n",
    "\n",
    "$\\begin{bmatrix}x_0 \\newline x_1 \\newline x_2 \\newline \\end{bmatrix}\\rightarrow\\begin{bmatrix}\\ \\ \\ \\newline \\end{bmatrix}\\rightarrow h_\\theta(x)$\n",
    "\n",
    "Our input nodes (layer 1), also known as the \"input layer\", go into another node (layer 2), which finally outputs the hypothesis function, known as the \"output layer\".\n",
    "\n",
    "We can have intermediate layers of nodes between the input and output layers called the **\"hidden layers.\"**\n",
    "\n",
    "In this example, we label these intermediate or \"hidden\" layer nodes $a^2_0 \\cdots a^2_n$ and call them \"activation units.\"\n",
    "\n",
    "$\\begin{align*}& a_i^{(j)} = \\text{\"activation\" of unit $i$ in layer $j$} \\newline& \\Theta^{(j)} = \\text{matrix of weights controlling function mapping from layer $j$ to layer $j+1$}\\end{align*}$\n",
    "\n",
    "If we had one hidden layer, it would look like:\n",
    "\n",
    "$\\begin{bmatrix}x_0 \\newline x_1 \\newline x_2 \\newline x_3\\end{bmatrix}\\rightarrow\\begin{bmatrix}a_1^{(2)} \\newline a_2^{(2)} \\newline a_3^{(2)} \\newline \\end{bmatrix}\\rightarrow h_\\theta(x)$\n",
    "\n",
    "The values for each of the \"activation\" nodes is obtained as follows:\n",
    "\n",
    "$\\begin{align*} a_1^{(2)} = g(\\Theta_{10}^{(1)}x_0 + \\Theta_{11}^{(1)}x_1 + \\Theta_{12}^{(1)}x_2 + \\Theta_{13}^{(1)}x_3) \\newline a_2^{(2)} = g(\\Theta_{20}^{(1)}x_0 + \\Theta_{21}^{(1)}x_1 + \\Theta_{22}^{(1)}x_2 + \\Theta_{23}^{(1)}x_3) \\newline a_3^{(2)} = g(\\Theta_{30}^{(1)}x_0 + \\Theta_{31}^{(1)}x_1 + \\Theta_{32}^{(1)}x_2 + \\Theta_{33}^{(1)}x_3) \\newline \\end{align*}$\n",
    "\n",
    "ได้ว่า พารามิเตอร์ $\\Theta^{(1)} = \\begin{bmatrix} \\Theta_{10}^{(1)} & \\Theta_{11}^{(1)} & \\Theta_{12}^{(1)} & \\Theta_{13}^{(1)} \\newline \\Theta_{20}^{(1)} & \\Theta_{21}^{(1)} & \\Theta_{22}^{(1)} & \\Theta_{23}^{(1)} \\newline \\Theta_{30}^{(1)} & \\Theta_{31}^{(1)} & \\Theta_{32}^{(1)} & \\Theta_{33}^{(1)} \\end{bmatrix} \\in \\mathbb{R}^{3x4}$\n",
    "\n",
    "และ\n",
    "\n",
    "$h_\\Theta(x) = a_1^{(3)} = g(\\Theta_{10}^{(2)}a_0^{(2)} + \\Theta_{11}^{(2)}a_1^{(2)} + \\Theta_{12}^{(2)}a_2^{(2)} + \\Theta_{13}^{(2)}a_3^{(2)}) $\n",
    "\n",
    "ได้ว่า พารามิเตอร์ $\\Theta^{(2)} = \\begin{bmatrix} \\Theta_{10}^{(2)} & \\Theta_{11}^{(2)} & \\Theta_{12}^{(2)} & \\Theta_{13}^{(2)} \\end{bmatrix} \\in \\mathbb{R}^{1x4}$ (มีรวมส่วนพารามิเตอร์จาก \"bias unit.\" ด้วย)\n",
    "\n",
    "This is saying that we compute our activation nodes by using a 3×4 matrix of parameters. We apply each row of the parameters to our inputs to obtain the value for one activation node. Our hypothesis output is the logistic function applied to the sum of the values of our activation nodes, which have been multiplied by yet another parameter matrix $\\Theta^{(2)}$ containing the weights for our second layer of nodes.\n",
    "\n",
    "Each layer gets its own matrix of weights, $\\Theta^{(j)}$.\n",
    "\n",
    "The dimensions of these matrices of weights is determined as follows:\n",
    "\n",
    "## $\\text{If network has $s_j$ units in layer $j$ and $s_{j+1}$ units in layer $j+1$, then $\\Theta^{(j)}$ will be of dimension $s_{j+1} \\times (s_j + 1)$.}$\n",
    "\n",
    "The +1 comes from the addition in $\\Theta^{(j)}$ of the \"bias nodes,\" $x_0$ and $\\Theta^{(j)}_0$. In other words the output nodes will not include the bias nodes while the inputs will. The following image summarizes our model representation:\n",
    "![](img/32.png)\n",
    "\n",
    "Example: If layer 1 has 2 input nodes and layer 2 has 4 activation nodes. Dimension of $\\Theta^{(1)}$ is going to be 4×3 where $s_j=2$ and $s_{j+1}=4$, so $s_{j+1}×(s_j+1)=4×3$.\n"
   ]
  },
  {
   "cell_type": "markdown",
   "metadata": {},
   "source": [
    "# Model Representation II\n",
    "\n",
    "To re-iterate, the following is an example of a neural network:\n",
    "\n",
    "$\\begin{align*} a_1^{(2)} = g(\\Theta_{10}^{(1)}x_0 + \\Theta_{11}^{(1)}x_1 + \\Theta_{12}^{(1)}x_2 + \\Theta_{13}^{(1)}x_3) \\newline a_2^{(2)} = g(\\Theta_{20}^{(1)}x_0 + \\Theta_{21}^{(1)}x_1 + \\Theta_{22}^{(1)}x_2 + \\Theta_{23}^{(1)}x_3) \\newline a_3^{(2)} = g(\\Theta_{30}^{(1)}x_0 + \\Theta_{31}^{(1)}x_1 + \\Theta_{32}^{(1)}x_2 + \\Theta_{33}^{(1)}x_3) \\newline h_\\Theta(x) = a_1^{(3)} = g(\\Theta_{10}^{(2)}a_0^{(2)} + \\Theta_{11}^{(2)}a_1^{(2)} + \\Theta_{12}^{(2)}a_2^{(2)} + \\Theta_{13}^{(2)}a_3^{(2)}) \\newline \\end{align*}$\n",
    "\n",
    "In this section we'll do a vectorized implementation of the above functions. We're going to define a new variable $z^{(j)}_k$ that encompasses the parameters inside our $g$ function. In our previous example if we replaced by the variable $z$ for all the parameters we would get:\n",
    "\n",
    "$\\begin{align*}a_1^{(2)} = g(z_1^{(2)}) \\newline a_2^{(2)} = g(z_2^{(2)}) \\newline a_3^{(2)} = g(z_3^{(2)}) \\newline \\end{align*}$\n",
    "\n",
    "In other words, for layer $j=2$ and node $k$, the variable $z$ will be:\n",
    "\n",
    "$z_k^{(2)} = \\Theta_{k,0}^{(1)}x_0 + \\Theta_{k,1}^{(1)}x_1 + \\cdots + \\Theta_{k,n}^{(1)}x_n$\n",
    "\n",
    "The vector representation of $x$ and $z^j$ is:\n",
    "\n",
    "$\\begin{align*}x = \\begin{bmatrix}x_0 \\newline x_1 \\newline\\cdots \\newline x_n\\end{bmatrix} &z^{(j)} = \\begin{bmatrix}z_1^{(j)} \\newline z_2^{(j)} \\newline\\cdots \\newline z_n^{(j)}\\end{bmatrix}\\end{align*}$\n",
    "\n",
    "Setting $x=a^{(1)}$, we can rewrite the equation as:\n",
    "\n",
    "$z^{(j)} = \\Theta^{(j-1)}a^{(j-1)}$\n",
    "\n",
    "We are multiplying our matrix $\\Theta^{(j-1)}$ with dimensions $s_j×(n+1)$ (where $s_j$ is the number of our activation nodes) by our vector $a^{(j−1)}$ with height (n+1). This gives us our vector $z^{(j)}$ with height $s_j$. Now we can get a vector of our activation nodes for layer $j$ as follows:\n",
    "\n",
    "$a^{(j)} = g(z^{(j)})$\n",
    "\n",
    "Where our function $g$ can be applied element-wise to our vector $z^{(j)}$.\n",
    "\n",
    "We can then add a bias unit (equal to 1) to layer j after we have computed $a^{(j)}$. This will be element $a^{(j)}_0$ and will be equal to 1. To compute our final hypothesis, let's first compute another $z$ vector:\n",
    "\n",
    "$z^{(j+1)} = \\Theta^{(j)}a^{(j)}$\n",
    "\n",
    "We get this final $z$ vector by multiplying the next theta matrix after $\\Theta^{(j−1)}$ with the values of all the activation nodes we just got. This last theta matrix $\\Theta^{(j)}$ will have only one row which is multiplied by one column $a^{(j)}$ so that our result is a single number. We then get our final result with:\n",
    "\n",
    "$h_\\Theta(x) = a^{(j+1)} = g(z^{(j+1)})$\n",
    "\n",
    "Notice that in this **last step**, between layer $j$ and layer $j+1$, we are doing **exactly the same thing** as we did in logistic regression. Adding all these intermediate layers in neural networks allows us to more elegantly produce interesting and more complex non-linear hypotheses."
   ]
  },
  {
   "cell_type": "markdown",
   "metadata": {},
   "source": [
    "# Examples and Intuitions I\n",
    "\n",
    "A simple example of applying neural networks is by predicting $x_1$ AND $x_2$, which is the logical 'and' operator and is only true if both $x_1$ and $x_2$ are 1.\n",
    "\n",
    "The graph of our functions will look like:\n",
    "\n",
    "$\\begin{align*}\\begin{bmatrix}x_0 \\newline x_1 \\newline x_2\\end{bmatrix} \\rightarrow\\begin{bmatrix}g(z^{(2)})\\end{bmatrix} \\rightarrow h_\\Theta(x)\\end{align*}$\n",
    "\n",
    "Remember that $x_0$ is our bias variable and is always 1.\n",
    "\n",
    "Let's set our first theta matrix as:\n",
    "\n",
    "$\\Theta^{(1)} =\\begin{bmatrix}-30 & 20 & 20\\end{bmatrix}$\n",
    "\n",
    "This will cause the output of our hypothesis to only be positive if both $x_1$ and $x_2$ are 1. In other words:\n",
    "\n",
    "$\\begin{align*}& h_\\Theta(x) = g(-30 + 20x_1 + 20x_2) \\newline \\newline & x_1 = 0 \\ \\ and \\ \\ x_2 = 0 \\ \\ then \\ \\ g(-30) \\approx 0 \\newline & x_1 = 0 \\ \\ and \\ \\ x_2 = 1 \\ \\ then \\ \\ g(-10) \\approx 0 \\newline & x_1 = 1 \\ \\ and \\ \\ x_2 = 0 \\ \\ then \\ \\ g(-10) \\approx 0 \\newline & x_1 = 1 \\ \\ and \\ \\ x_2 = 1 \\ \\ then \\ \\ g(10) \\approx 1\\end{align*}$\n",
    "\n",
    "So we have constructed one of the fundamental operations in computers by using a small neural network rather than using an actual AND gate. Neural networks can also be used to simulate all the other logical gates. The following is an example of the logical operator 'OR', meaning either $x_1$ is true or $x_2$ is true, or both:\n",
    "\n",
    "![](img/33.png)\n",
    "\n",
    "Where $g(z)$ is the following:\n",
    "\n",
    "![](img/34.png)\n",
    "\n",
    "### สรูปคือ ใช้ Neural Network สร้าง AND OR gate ขึ้นมา ... ซึ่งแน่นอนว่าสามารถนำไปใช้กับ logic ที่ซับซ้อนกว่านี้ได้เช่นกัน"
   ]
  },
  {
   "cell_type": "markdown",
   "metadata": {},
   "source": [
    "# Examples and Intuitions II\n",
    "\n",
    "The $Θ^{(1)}$ matrices for AND, NOR, and OR are:\n",
    "\n",
    "$\\begin{align*}AND:\\newline\\Theta^{(1)} &=\\begin{bmatrix}-30 & 20 & 20\\end{bmatrix} \\newline NOR:\\newline\\Theta^{(1)} &= \\begin{bmatrix}10 & -20 & -20\\end{bmatrix} \\newline OR:\\newline\\Theta^{(1)} &= \\begin{bmatrix}-10 & 20 & 20\\end{bmatrix} \\newline\\end{align*}$\n",
    "\n",
    "We can combine these to get the XNOR logical operator (which gives 1 if $x_1$ and $x_2$ are both 0 or both 1).\n",
    "\n",
    "$\\begin{align*}\\begin{bmatrix}x_0 \\newline x_1 \\newline x_2\\end{bmatrix} \\rightarrow\\begin{bmatrix}a_1^{(2)} \\newline a_2^{(2)} \\end{bmatrix} \\rightarrow\\begin{bmatrix}a^{(3)}\\end{bmatrix} \\rightarrow h_\\Theta(x)\\end{align*}$\n",
    "\n",
    "For the transition between the first and second layer, we'll use a $Θ^{(1)}$ matrix that combines the values for AND and NOR:\n",
    "\n",
    "$\\Theta^{(1)} =\\begin{bmatrix}-30 & 20 & 20 \\newline 10 & -20 & -20\\end{bmatrix}$\n",
    "\n",
    "For the transition between the second and third layer, we'll use a $Θ^{(2)}$ matrix that uses the value for OR:\n",
    "\n",
    "$\\Theta^{(2)} =\\begin{bmatrix}-10 & 20 & 20\\end{bmatrix}$\n",
    "\n",
    "Let's write out the values for all our nodes:\n",
    "\n",
    "$\\begin{align*}& a^{(2)} = g(\\Theta^{(1)} \\cdot x) \\newline& a^{(3)} = g(\\Theta^{(2)} \\cdot a^{(2)}) \\newline& h_\\Theta(x) = a^{(3)}\\end{align*}$\n",
    "\n",
    "And there we have the XNOR operator using a hidden layer with two nodes! The following summarizes the above algorithm:\n",
    "\n",
    "![](img/35.png)"
   ]
  },
  {
   "cell_type": "markdown",
   "metadata": {},
   "source": [
    "# Multiclass Classification\n",
    "\n",
    "To classify data into multiple classes, we let our hypothesis function return a vector of values. Say we wanted to classify our data into one of four categories. We will use the following example to see how this classification is done. This algorithm takes as input an image and classifies it accordingly:\n",
    "![](img/36.png)\n",
    "\n",
    "We can define our set of resulting classes as y:\n",
    "\n",
    "![](img/37.png)\n",
    "\n",
    "Each $y^{(i)}$ represents a different image corresponding to either a car, pedestrian, truck, or motorcycle. The inner layers, each provide us with some new information which leads to our final hypothesis function. The setup looks like:\n",
    "\n",
    "![](img/38.png)\n",
    "\n",
    "Our resulting hypothesis for one set of inputs may look like:\n",
    "\n",
    "$h_\\Theta(x) =\\begin{bmatrix}0 \\newline 0 \\newline 1 \\newline 0 \\newline\\end{bmatrix}$\n",
    "\n",
    "In which case our resulting class is the third one down, or $h_\\Theta(x)_3$, which represents the motorcycle."
   ]
  },
  {
   "cell_type": "markdown",
   "metadata": {},
   "source": [
    "# ====================== CODE ========================="
   ]
  },
  {
   "cell_type": "markdown",
   "metadata": {},
   "source": [
    "# Multi-class Classification (Multivariate Logistic Regression)"
   ]
  },
  {
   "cell_type": "code",
   "execution_count": 3,
   "metadata": {
    "collapsed": true
   },
   "outputs": [],
   "source": [
    "import numpy as np  \n",
    "import pandas as pd  \n",
    "import matplotlib.pyplot as plt  \n",
    "from scipy.io import loadmat  \n",
    "\n",
    "%matplotlib inline\n",
    "\n",
    "data = loadmat('programing/machine-learning-ex3/ex3/ex3data1.mat')\n",
    "\n",
    "# มีรูปขนาด 20x20 pixel 5000 รูป โดยเก็บสีของแต่ละรูปแบบ gray scale ไว้แต่ละ row ของ X (400 pixel)\n",
    "# และเก็บผลเฉลยว่ารูปแสดงถึงเลขอะไร (1-10 โดยที่ 10 แทนเลข 0) ไว้ใน y\n",
    "\n",
    "img_row = data['X']\n",
    "number = data['y']"
   ]
  },
  {
   "cell_type": "code",
   "execution_count": 4,
   "metadata": {},
   "outputs": [
    {
     "data": {
      "text/plain": [
       "((5000, 400), (5000, 1))"
      ]
     },
     "execution_count": 4,
     "metadata": {},
     "output_type": "execute_result"
    }
   ],
   "source": [
    "img_row.shape, number.shape"
   ]
  },
  {
   "cell_type": "markdown",
   "metadata": {},
   "source": [
    "# ตัวอย่างค่าจาก Y"
   ]
  },
  {
   "cell_type": "code",
   "execution_count": 5,
   "metadata": {
    "scrolled": true
   },
   "outputs": [
    {
     "data": {
      "text/plain": [
       "array([[10],\n",
       "       [10],\n",
       "       [10],\n",
       "       [10],\n",
       "       [10],\n",
       "       [10],\n",
       "       [10],\n",
       "       [10],\n",
       "       [10],\n",
       "       [10]], dtype=uint8)"
      ]
     },
     "execution_count": 5,
     "metadata": {},
     "output_type": "execute_result"
    }
   ],
   "source": [
    "number[0:10]"
   ]
  },
  {
   "cell_type": "markdown",
   "metadata": {},
   "source": [
    "# ตัวอย่างรูปจาก X"
   ]
  },
  {
   "cell_type": "code",
   "execution_count": 6,
   "metadata": {
    "scrolled": false
   },
   "outputs": [
    {
     "data": {
      "image/png": "[encoded data removed]",
      "text/plain": [
       "<matplotlib.figure.Figure at 0x10d7dae48>"
      ]
     },
     "metadata": {},
     "output_type": "display_data"
    }
   ],
   "source": [
    "img_matrix = img_row[0].reshape((20, 20)).T\n",
    "plt.imshow(img_matrix, cmap='gray')\n",
    "plt.show()"
   ]
  },
  {
   "cell_type": "markdown",
   "metadata": {},
   "source": [
    "# แสดง sample รูปบางส่วน"
   ]
  },
  {
   "cell_type": "code",
   "execution_count": 7,
   "metadata": {
    "collapsed": true
   },
   "outputs": [],
   "source": [
    "# สุ่มหยิบรูปจาก 5000 รูป เอาแค่ 100\n",
    "number_of_img = 100\n",
    "def displayData(img_row,img_number):\n",
    "    rand_indices = np.random.permutation(len(img_row)) # rand 0-5000\n",
    "    sample = img_row[rand_indices[0:img_number]] # get sample\n",
    "\n",
    "    side = img_number**(1/2)\n",
    "    if (side).is_integer() :\n",
    "        side = (int)(side)\n",
    "        space_3d = np.zeros((side*20,side*20))\n",
    "        for i in range(side):\n",
    "            row_num = side*i\n",
    "            for j in range(side):\n",
    "                space_3d[20*i:20*i+20,j*20:20*j+20] = sample[row_num+j].reshape((20,20)).T\n",
    "\n",
    "        plt.imshow(space_3d, cmap='gray')\n",
    "        plt.show()\n",
    "    else:\n",
    "        print(\"Sqrt of number should be integer\")"
   ]
  },
  {
   "cell_type": "code",
   "execution_count": 8,
   "metadata": {},
   "outputs": [
    {
     "data": {
      "image/png": "[encoded data removed]",
      "text/plain": [
       "<matplotlib.figure.Figure at 0x107b94550>"
      ]
     },
     "metadata": {},
     "output_type": "display_data"
    }
   ],
   "source": [
    "displayData(img_row,100)"
   ]
  },
  {
   "cell_type": "markdown",
   "metadata": {},
   "source": [
    "# Function พื้นฐานที่ต้องใช้\n",
    "\n",
    "- sigmoid\n",
    "- ใช้หาค่าของ cost function และ vector gradient ของ Logistic Regression แบบทำ Regularization ด้วย"
   ]
  },
  {
   "cell_type": "code",
   "execution_count": 16,
   "metadata": {
    "collapsed": true
   },
   "outputs": [],
   "source": [
    "def sigmoid(z):  \n",
    "    g = 1/(1+np.exp(-z))\n",
    "    return g\n",
    "\n",
    "def lrCostFunction(theta, X, y, learningRate):  \n",
    "    theta = np.matrix(theta) # nx1\n",
    "    X = np.matrix(X) # m x n\n",
    "    y = np.matrix(y).astype(int) # m x 1\n",
    "    m = len(y) \n",
    "    \n",
    "    # -------- Cost -----------    \n",
    "    # Unregularizing\n",
    "    J = 0\n",
    "    h = sigmoid(X.dot(theta))\n",
    "    first = (-y.T).dot(np.log(h))\n",
    "    second = (-(1 - y).T).dot(np.log(1 - h))\n",
    "    J = J + (1/m)*(first + second)\n",
    "    # Regularizing\n",
    "    reg = (learningRate/(2*m))*(theta[1:theta.shape[0]].T).dot(theta[1:theta.shape[0]])[0,0]\n",
    "    J = J + reg\n",
    "#     # -------- Grad -----------\n",
    "    # Unregularizing\n",
    "    errorhy = h-y\n",
    "    grad = (1/m)*(X.T).dot(errorhy)\n",
    "    # Regularizing\n",
    "    zero = np.matrix([0])\n",
    "    reg_term = np.vstack((zero,(learningRate/m)*theta[1:theta.shape[0]]))\n",
    "    grad = grad + reg_term\n",
    "    \n",
    "    return [J,grad]"
   ]
  },
  {
   "cell_type": "markdown",
   "metadata": {},
   "source": [
    "Testing lrCostFunction() with regularization\n",
    "\n",
    "ถ้าทดสอบด้วย\n",
    "- theta_t = [-2; -1; 1; 2];\n",
    "- X_t = [ones(5,1) reshape(1:15,5,3)/10];\n",
    "- y_t = ([1;0;1;0;1] >= 0.5);\n",
    "- lambda_t = 3;\n",
    "\n",
    "จะได้\n",
    "- Expected cost: 2.534819\n",
    "- Expected gradients: [ 0.146561 -0.548558 0.724722 1.398003 ].T"
   ]
  },
  {
   "cell_type": "code",
   "execution_count": 18,
   "metadata": {},
   "outputs": [
    {
     "name": "stdout",
     "output_type": "stream",
     "text": [
      "[[ 2.5348194]]\n",
      "[[ 0.14656137]\n",
      " [-0.54855841]\n",
      " [ 0.72472227]\n",
      " [ 1.39800296]]\n"
     ]
    }
   ],
   "source": [
    "# ตัวแปรทดสอบฟังก์ชั่น\n",
    "theta_t = np.matrix([-2,-1,1,2]).T\n",
    "ones = np.ones((5,1))\n",
    "rand = np.arange(1,16).reshape((3, 5)).T/10\n",
    "X_t = np.hstack((ones,rand))\n",
    "y_t = np.matrix([1,0,1,0,1]).T >= 0.5\n",
    "lambda_t = 3\n",
    "\n",
    "[J,grad] = lrCostFunction(theta_t, X_t, y_t, lambda_t)\n",
    "print(J)\n",
    "print(grad)"
   ]
  },
  {
   "cell_type": "markdown",
   "metadata": {},
   "source": [
    "ถึงจุดนี้ Cost Function กับ Gradient ทำงานถูกต้องแล้ว แต่เพื่อให้ใช้งานกับ `opt.fmin_tnc(..)` ได้ ต้องแยกฟังชั่นกัน "
   ]
  },
  {
   "cell_type": "code",
   "execution_count": 102,
   "metadata": {
    "collapsed": true
   },
   "outputs": [],
   "source": [
    "def cost(theta, X, y, learningRate):  \n",
    "    theta = np.matrix(theta).T # theta ต้องนอนเข้ามาเป็น 1xn แล้วทำให้เป็น nx1 \n",
    "    X = np.matrix(X) # m x n\n",
    "    y = np.matrix(y).astype(int) # m x 1\n",
    "    m = len(y) \n",
    "    \n",
    "    # -------- Cost -----------    \n",
    "    # Unregularizing\n",
    "    J = 0\n",
    "    h = sigmoid(X.dot(theta))\n",
    "    first = (-y.T).dot(np.log(h))\n",
    "    second = (-(1 - y).T).dot(np.log(1 - h))\n",
    "    J = J + (1/m)*(first + second)\n",
    "    # Regularizing\n",
    "    reg = (learningRate/(2*m))*(theta[1:theta.shape[0]].T).dot(theta[1:theta.shape[0]])[0,0]\n",
    "    J = J + reg\n",
    "    return J[0,0]"
   ]
  },
  {
   "cell_type": "code",
   "execution_count": 103,
   "metadata": {
    "collapsed": true
   },
   "outputs": [],
   "source": [
    "def grad(theta, X, y, learningRate):\n",
    "    theta = np.matrix(theta).T # theta ต้องนอนเข้ามาเป็น 1xn แล้วทำให้เป็น nx1 \n",
    "    X = np.matrix(X) # m x n\n",
    "    y = np.matrix(y).astype(int) # m x 1\n",
    "    m = len(y)\n",
    "    \n",
    "    h = sigmoid(X.dot(theta))\n",
    "    # -------- Grad -----------\n",
    "    # Unregularizing\n",
    "    errorhy = h-y\n",
    "    grad = (1/m)*(X.T).dot(errorhy)\n",
    "    # Regularizing\n",
    "    zero = np.matrix([0])\n",
    "    reg_term = np.vstack((zero,(learningRate/m)*theta[1:theta.shape[0]]))\n",
    "    grad = grad + reg_term\n",
    "    \n",
    "    return grad.tolist()"
   ]
  },
  {
   "cell_type": "code",
   "execution_count": 104,
   "metadata": {},
   "outputs": [
    {
     "data": {
      "text/plain": [
       "2.5348193961097438"
      ]
     },
     "execution_count": 104,
     "metadata": {},
     "output_type": "execute_result"
    }
   ],
   "source": [
    "cost(theta_t.T, X_t, y_t, lambda_t)"
   ]
  },
  {
   "cell_type": "code",
   "execution_count": 105,
   "metadata": {},
   "outputs": [
    {
     "data": {
      "text/plain": [
       "[[0.14656136792489802],\n",
       " [-0.5485584118531603],\n",
       " [0.7247222721092885],\n",
       " [1.3980029560717375]]"
      ]
     },
     "execution_count": 105,
     "metadata": {},
     "output_type": "execute_result"
    }
   ],
   "source": [
    "grad(theta_t.T, X_t, y_t, lambda_t)"
   ]
  },
  {
   "cell_type": "markdown",
   "metadata": {},
   "source": [
    "# One-vs-All Classification\n",
    "\n",
    "ใช้ Logistic Regression แยกกลุ่มรูป 0-9 โดยที่คิดแบบแยกทีละเลข\n",
    "\n",
    "เช่น ถ้าพิจารณาที่รูปของเลข 1 ก็ให้อะไรที่เป็นเลข 1 มี $y_i=1$ ส่วนเลขอื่นๆ 2,3,4,...,9 มี $y_i=0$\n",
    "\n",
    "ทำซ้ำๆทีละเลขตั้งแต่ 0-9 ให้ครบทุกเลข เพื่อหาพารามิเตอร์ $\\theta$ ของแต่ละเลข "
   ]
  },
  {
   "cell_type": "code",
   "execution_count": 123,
   "metadata": {},
   "outputs": [],
   "source": [
    "import scipy.optimize as opt\n",
    "\n",
    "def oneVsAll(X,y,num_labels, learningRate):\n",
    "    # ONEVSALL trains multiple logistic regression classifiers and returns all\n",
    "    # the classifiers in a matrix all_theta, where the i-th row of all_theta \n",
    "    # corresponds to the classifier for label i\n",
    "    #   [all_theta] = ONEVSALL(X, y, num_labels, lambda) trains num_labels\n",
    "    #   logistic regression classifiers and returns each of these classifiers\n",
    "    #   in a matrix all_theta, where the i-th row of all_theta corresponds \n",
    "    #   to the classifier for label i\n",
    "\n",
    "    X = np.matrix(X) # m x n\n",
    "    y = np.matrix(y) # m x 1\n",
    "    \n",
    "    # Add ones to the X data matrix\n",
    "    m = X.shape[0]\n",
    "    ones = np.ones((m,1))\n",
    "    X = np.hstack((ones,X))\n",
    "    n = X.shape[1]\n",
    "    \n",
    "    # You need to return the following variables correctly \n",
    "    all_theta = np.zeros((num_labels, n))\n",
    "    \n",
    "    # ====================== YOUR CODE HERE ======================\n",
    "    # Instructions: You should complete the following code to train num_labels\n",
    "    #               logistic regression classifiers with regularization\n",
    "    #               parameter lambda. \n",
    "    #\n",
    "    # Hint: theta(:) will return a column vector.\n",
    "    #\n",
    "    # Hint: You can use y == c to obtain a vector of 1's and 0's that tell you\n",
    "    #       whether the ground truth is true/false for this class.\n",
    "    #\n",
    "    # Note: For this assignment, we recommend using fmincg to optimize the cost\n",
    "    #       function. It is okay to use a for-loop (for c = 1:num_labels) to\n",
    "    #       loop over the different classes.\n",
    "    \n",
    "    initial_theta = np.zeros((1,n))\n",
    "\n",
    "    # หาพารามิเตอร์ของเลข 0,1,2,...,9\n",
    "    for c in range(0,num_labels):\n",
    "        yi = (y==c+1).astype(int)\n",
    "        result = opt.fmin_tnc(func=cost, x0=initial_theta, fprime=grad, args=(X,yi,learningRate))  \n",
    "        theta = np.matrix(result[0])\n",
    "        all_theta[c,0:all_theta.shape[1]] = theta;\n",
    "\n",
    "    return all_theta"
   ]
  },
  {
   "cell_type": "code",
   "execution_count": 124,
   "metadata": {
    "scrolled": true
   },
   "outputs": [],
   "source": [
    "all_theta = oneVsAll(img_row, number, 10, 0.1); # num_labels = 1-10"
   ]
  },
  {
   "cell_type": "code",
   "execution_count": 125,
   "metadata": {},
   "outputs": [
    {
     "data": {
      "text/plain": [
       "array([[ -3.07461901e+00,   0.00000000e+00,   0.00000000e+00, ...,\n",
       "          6.82331248e-03,  -5.34096695e-12,   0.00000000e+00],\n",
       "       [ -3.73282608e+00,   0.00000000e+00,   0.00000000e+00, ...,\n",
       "          2.33336406e-02,  -2.55925362e-03,   0.00000000e+00],\n",
       "       [ -5.71252404e+00,   0.00000000e+00,   0.00000000e+00, ...,\n",
       "         -6.26655678e-05,  -3.60327985e-07,   0.00000000e+00],\n",
       "       ..., \n",
       "       [ -9.12766897e+00,   0.00000000e+00,   0.00000000e+00, ...,\n",
       "         -6.13491333e-04,   6.92396124e-05,   0.00000000e+00],\n",
       "       [ -5.62554465e+00,   0.00000000e+00,   0.00000000e+00, ...,\n",
       "         -1.12837590e-02,   8.59937997e-04,   0.00000000e+00],\n",
       "       [ -8.06363116e+00,   0.00000000e+00,   0.00000000e+00, ...,\n",
       "         -3.50493984e-05,   9.80599485e-07,   0.00000000e+00]])"
      ]
     },
     "execution_count": 125,
     "metadata": {},
     "output_type": "execute_result"
    }
   ],
   "source": [
    "all_theta"
   ]
  },
  {
   "cell_type": "markdown",
   "metadata": {
    "collapsed": true
   },
   "source": [
    "# One-vs-All Prediction\n",
    "\n",
    "เมื่อ\n",
    "$$y \\in \\lbrace0, 1 ... n\\rbrace$$\n",
    "\n",
    "จะได้\n",
    "\n",
    "$\\begin{align*}& h_\\theta^{(0)}(x) = P(y = 0 | x ; \\theta^{(0)}) = g(\\theta^{(0)}_0 + \\theta^{(0)}_1x_1 + \\theta^{(0)}_2x_2 + \\cdots + \\theta^{(0)}_nx_n) \\newline& h_\\theta^{(1)}(x) = P(y = 1 | x ; \\theta^{(1)}) = g(\\theta^{(1)}_0 + \\theta^{(1)}_1x_1 + \\theta^{(1)}_2x_2 + \\cdots + \\theta^{(1)}_nx_n) \\newline& \\vdots \\newline& h_\\theta^{(n)}(x) = P(y = n | x ; \\theta^{(n)}) = g(\\theta^{(n)}_0 + \\theta^{(n)}_1x_1 + \\theta^{(n)}_2x_2 + \\cdots + \\theta^{(n)}_nx_n) \\newline\\end{align*}$\n",
    "\n",
    "ดังนั้น\n",
    "\n",
    "$$\\mathrm{prediction} = \\max_i( h_\\theta ^{(i)}(x) )$$\n"
   ]
  },
  {
   "cell_type": "code",
   "execution_count": 177,
   "metadata": {
    "collapsed": true
   },
   "outputs": [],
   "source": [
    "def predictOneVsAll(all_theta, X):\n",
    "    #PREDICT Predict the label for a trained one-vs-all classifier. The labels \n",
    "    #are in the range 1..K, where K = size(all_theta, 1). \n",
    "    #  p = PREDICTONEVSALL(all_theta, X) will return a vector of predictions\n",
    "    #  for each example in the matrix X. Note that X contains the examples in\n",
    "    #  rows. all_theta is a matrix where the i-th row is a trained logistic\n",
    "    #  regression theta vector for the i-th class. You should set p to a vector\n",
    "    #  of values from 1..K (e.g., p = [1; 3; 1; 2] predicts classes 1, 3, 1, 2\n",
    "    #  for 4 examples) \n",
    "\n",
    "    X = np.matrix(X) # m x n\n",
    "    all_theta = np.matrix(all_theta) # number_of_label x n\n",
    "\n",
    "    m = X.shape[0]\n",
    "    num_labels = all_theta.shape[0]\n",
    "\n",
    "    # You need to return the following variables correctly \n",
    "    p = np.zeros((m, 1))\n",
    "\n",
    "    # Add ones to the X data matrix\n",
    "    ones = np.ones((m,1))\n",
    "    X = np.hstack((ones,X))\n",
    "\n",
    "    # ====================== YOUR CODE HERE ======================\n",
    "    # Instructions: Complete the following code to make predictions using\n",
    "    #               your learned logistic regression parameters (one-vs-all).\n",
    "    #               You should set p to a vector of predictions (from 1 to\n",
    "    #               num_labels).\n",
    "\n",
    "    h = X.dot(all_theta.T) # [1 2 3 4]\n",
    "    ind = h.argmax(axis=1) # หาตำแหน่งที่ค่าความน่าจะเป็นสูงที่สุด \n",
    "                           # โดยจาก matrix all_theta ที่สร้างขึ้นเรียงลำดับจาก \n",
    "                           # [1,2,3,4,...,8,9,0]แต่ python คือตำแหน่งมาเป็น 0,1,2,...,9\n",
    "    ind = ind+1\n",
    "    p = p+ind\n",
    "    return p"
   ]
  },
  {
   "cell_type": "code",
   "execution_count": 178,
   "metadata": {},
   "outputs": [
    {
     "data": {
      "text/plain": [
       "matrix([[ 10.],\n",
       "        [ 10.],\n",
       "        [ 10.],\n",
       "        ..., \n",
       "        [  9.],\n",
       "        [  9.],\n",
       "        [  7.]])"
      ]
     },
     "execution_count": 178,
     "metadata": {},
     "output_type": "execute_result"
    }
   ],
   "source": [
    "predict = predictOneVsAll(all_theta, img_row)\n",
    "predict"
   ]
  },
  {
   "cell_type": "markdown",
   "metadata": {},
   "source": [
    "# Accuracy"
   ]
  },
  {
   "cell_type": "code",
   "execution_count": 179,
   "metadata": {},
   "outputs": [
    {
     "data": {
      "text/plain": [
       "96.460000000000008"
      ]
     },
     "execution_count": 179,
     "metadata": {},
     "output_type": "execute_result"
    }
   ],
   "source": [
    "percent_accuracy = np.mean((predict == number).astype(int))*100\n",
    "percent_accuracy"
   ]
  },
  {
   "cell_type": "markdown",
   "metadata": {},
   "source": [
    "# Neural Network"
   ]
  },
  {
   "cell_type": "code",
   "execution_count": 181,
   "metadata": {},
   "outputs": [],
   "source": [
    "import numpy as np  \n",
    "import pandas as pd  \n",
    "import matplotlib.pyplot as plt  \n",
    "from scipy.io import loadmat  \n",
    "\n",
    "%matplotlib inline\n",
    "\n",
    "data = loadmat('programing/machine-learning-ex3/ex3/ex3weights.mat')\n",
    "\n",
    "# มีรูปขนาด 20x20 pixel 5000 รูป โดยเก็บสีของแต่ละรูปแบบ gray scale ไว้แต่ละ row ของ X (400 pixel)\n",
    "# และเก็บผลเฉลยว่ารูปแสดงถึงเลขอะไร (1-10 โดยที่ 10 แทนเลข 0) ไว้ใน y\n",
    "\n",
    "theta1 = data['Theta1']\n",
    "theta2 = data['Theta2']"
   ]
  },
  {
   "cell_type": "code",
   "execution_count": 183,
   "metadata": {},
   "outputs": [
    {
     "data": {
      "text/plain": [
       "(25, 401)"
      ]
     },
     "execution_count": 183,
     "metadata": {},
     "output_type": "execute_result"
    }
   ],
   "source": [
    "theta1.shape"
   ]
  },
  {
   "cell_type": "code",
   "execution_count": 184,
   "metadata": {},
   "outputs": [
    {
     "data": {
      "text/plain": [
       "(10, 26)"
      ]
     },
     "execution_count": 184,
     "metadata": {},
     "output_type": "execute_result"
    }
   ],
   "source": [
    "theta2.shape"
   ]
  },
  {
   "cell_type": "code",
   "execution_count": null,
   "metadata": {
    "collapsed": true
   },
   "outputs": [],
   "source": []
  }
 ],
 "metadata": {
  "kernelspec": {
   "display_name": "Python 3",
   "language": "python",
   "name": "python3"
  },
  "language_info": {
   "codemirror_mode": {
    "name": "ipython",
    "version": 3
   },
   "file_extension": ".py",
   "mimetype": "text/x-python",
   "name": "python",
   "nbconvert_exporter": "python",
   "pygments_lexer": "ipython3",
   "version": "3.6.3"
  }
 },
 "nbformat": 4,
 "nbformat_minor": 2
}
