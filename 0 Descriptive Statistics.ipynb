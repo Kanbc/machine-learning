{
 "cells": [
  {
   "cell_type": "markdown",
   "metadata": {},
   "source": [
    "# Variable (ตัวแปร)\n",
    "\n",
    "ปริมาณที่เปลี่ยนค่าได้ตามแต่ละสถานการณ์ของแต่ละ object\n",
    "\n",
    "### ลักษณะของตัวแปร\n",
    "1. ตัวแปรรูปธรรม (concept variable) วัดได้ตรงๆ ค่าที่ได้จะออกมาเป็นจำนวน เช่น เพศ(ชาย) ความสูง(120cm) ฯลฯ\n",
    "2. ตัวแปรนามธรรม (construct variable) บางครั้งเรียก **hypothesis variable** เช่น ความจำ ความสุข ความกังวล **ตัวแปรเหล่านี้ต้องนิยามให้ชัดว่า \"จะวัดค่าอย่างไร?\"**\n",
    "\n",
    "#### ตัวอย่าง\n",
    "สมมติว่าเรามีสมมติฐานว่า Memory ทำให้ได้ A+ ดังนั้นถ้าเราอยากได้ A+ เราจะทำยังไงก็ได้ให้ Memory มีค่ามากๆ \n",
    "\n",
    "**คำถาม : ** จะวัด Memory ยังไง?\n",
    "\n",
    "**คำตอบ : ** เมื่อเราไม่สามารถวัดปริมาณนี้ได้ตรงๆ เราก็ต้องกำหนดวิธีอ้อมๆขึ้นมาวัดค่าเหล่านี้แทน เช่น คะแนนจากการทำ BBC Memory test สูง หมายความว่า Memory สูง\n",
    "\n",
    "> วิธีการที่คิดขึ้นมาเพื่อใช้วัดค่าของ construct variable เรียกว่า  Operation Definition (น้อย,กลาง,มาก)"
   ]
  },
  {
   "cell_type": "markdown",
   "metadata": {},
   "source": [
    "# Population VS Sample\n",
    "\n",
    "![](img/pop_sample.gif)\n",
    "\n",
    "*สุ่มหยิบ sample จาก population แล้วคาดเดา population จาก sample ที่หยิบมา*\n",
    "\n",
    "* ค่าเฉลี่ยของ population เรียกว่า $\\mu$ (mu)\n",
    "* ค่าเฉลี่ยของ sample เรียกว่า $\\bar{x}$\n",
    "* $\\mu-\\bar{x} = \\text{Sampling error}$\n",
    "\n",
    "bigger sample (พิจารณาที่ sample หลายๆตัว) จะลด sampling error ลงได้\n",
    "\n",
    "## Better Sample\n",
    "นอกจากจะเลือก sample ให้เยอะที่สุดเท่าที่ทำได้แล้ว ยังมีอีกวิธีที่จะ**ทำให้  sample เรามีพฤติกรรมคล้ายๆกับ population ก็คือการเลือกแบบ randomness** สุ่มเลือก กระจายๆ"
   ]
  },
  {
   "cell_type": "markdown",
   "metadata": {},
   "source": [
    "# Correlation & Causation\n",
    "\n",
    "![](img/correlation.png)\n",
    "\n",
    "สมมติว่าเรามีข้อมูล (ซึ่งได้จากการ Observational, Studies, Survey) เมื่อนำมา plot ได้รูปดังข้างบน \n",
    "\n",
    "**เราสามารถบอกได้ว่า $x$ และ $y$ มี correlation ต่อกัน แต่ไม่สามารถบอกได้ว่า $x$ มี causation ต่อ $y$**\n",
    "\n",
    "> Correlation Does Not Imply Causation\n",
    "\n",
    "มีความสัมพันธ์กันไม่ได้หมายความว่า เป็นเหตุ-ผลต่อกัน (แต่ถ้าไม่มี correlation ต่อกันเลย รับประกันได้เลยว่าแม่งไม่มี causation ต่อกันแน่ๆ)\n",
    "\n",
    "ความเป็นเหตุ-ผลต่อกัน (causation) ไม่สามารถเชื่อมโยงได้ในทางตรรกะและปรัชญา แต่สามารถ**เชื่อมได้ด้วย วิทยาศาสตร์**\n",
    "\n",
    "การจะหา Causation ต้อง Controlled Experiment (ควบคุมการทดลอง ที่เรามีสมมติฐานมาบ้างแล้ว อาจจะรู้อยู่แล้วว่ามันมี Correlation ต่อกัน แล้วก็ควบคุมตัวแปรอื่นๆให้แม่งเหมือนกันให้หมด)\n",
    "\n",
    "![](img/independent-variable-vs-dependent-variable.png)\n",
    "\n",
    "ตัวแปรที่เป็นเหตุ เรียกว่าตัวแปรต้น(independent variable) ตัวแปรที่เป็นผลเรียกว่าตัวแปรตาม(dependent variable)"
   ]
  },
  {
   "cell_type": "markdown",
   "metadata": {},
   "source": [
    "# Frequency Plot \n",
    "![](img/freq_table.gif)\n",
    "\n",
    "สมมติเรามีข้อมูลเยอะๆ แม่งยากที่จะดูภาพรวมออก การแบ่งช่วงพิจารณาก็ช่วยให้ group ข้อมูลเป็นช่วงๆได้ เราจะเห็นการกระจายตัวของข้อมูลว่ากระจุกอยู่ช่วงไหน\n",
    "\n",
    "เมื่อนำมา plot histrogram จะได้ดังนี้\n",
    "\n",
    "![](img/frequency.png)\n",
    "\n"
   ]
  },
  {
   "cell_type": "markdown",
   "metadata": {},
   "source": [
    "# การเปรียบเทียบคุณสมบัติของข้อมูลจาก Set ที่ต่างกัน\n",
    "\n",
    "สมมติว่า กานต์มีเพื่อนใน Facebook 120 คน ในขณะที่ค่าเฉลี่ยของจำนวนเพื่อนใน Facebook อยู่ที่ 300 คน และมะตอยมีเพื่อนในทวิตเตอร์ 150 คน ในขณะที่ค่าเฉลี่ยของจำนวนเพื่อนใน Twitter อยู่ที่ 250 คน **เราจะบอกได้ไหมว่ามะตอยฮอตกว่ากานต์?**\n",
    "\n",
    "คำตอบคือ ไม่ได้ คือนอกจากจะดูว่าห่างจาก mean เท่าไหร่แล้ว ต้องดูด้วยว่า จำนวนเพื่อนของคนอื่นๆที่เล่น FB และ Twit เป็นยังไง? (ค่าส่วนมากมันกระจายตัวยังไง?)\n",
    "\n",
    "> นอกจากจะดูว่าห่างจาก mean เท่าไหร่แล้ว ต้องดูด้วยว่า ค่าส่วนมากมันกระจายตัวยังไง?\n",
    "\n",
    "ตัวอย่าง สมมติว่ารูปนี้เป็นการกระจายตัวของจำนวนเพื่อนใน Facebook (แดง) และ Twitter (น้ำเงิน)\n",
    "\n",
    "![](img/compare_freq.png)\n",
    "\n",
    "แม้กานต์จะห่างจาก mean (300-120=180) มากกว่ามะตอย (250-150=100) แต่ถ้าส่วนมากแล้วคนที่เล่น FB มีเพื่อนประมาณ 50-500 คน ขณะที่ทวิตเตอร์ส่วนมากคนมีเพื่อน 200-300 คน อย่างนี้จะหมายความว่ากานต์ฮอตกว่ามะตอย\n",
    "\n",
    "**ค่าที่เค้านิยมใช้วัดการกระจายตัวของข้อมูลก็คือ SD (standard deviation)**\n",
    "\n",
    "(ค่าตัวเลขเช่น mean, SD ที่เอาไว้อธิบาย\n",
    "- Population เรียกว่า parameter\n",
    "- Sample เรียกว่า Statistic)\n",
    "\n",
    "เมื่อ SD แสดงถึงการกระจายตัวของข้อมูล พอเราแปลงตัวเลขที่ห่างจาก mean (180 กับ 100 ที่ว่า)เป็นว่าห่างจาก mean กี่ SD แทน จะเปรียบเทียบกันได้ตรงๆเลยว่าใครฮอดกว่ากัน \n",
    "\n",
    "![](img/z-score.gif)\n",
    "\n",
    "การแปลงปริมาณที่วัดได้ให้อยู่ในรูป**จำนวนเท่าของ SD(Z score)** เรียกว่าการทำ Standardizing"
   ]
  },
  {
   "cell_type": "markdown",
   "metadata": {},
   "source": [
    "# Standardizing \n",
    "\n",
    "จากหัวข้อที่แล้ว เรารู้แล้วว่าถ้าจะเปรียบเทียบปริมาณของข้อมูลคนละกลุ่ม ให้ convert มันเป็น Z-score ก่อน แล้วเทียบกันที่ Z-score (จะทำให้ distribution มีหน้าตาไปทางเดียวกัน)\n",
    "\n",
    "ทีนี้ขอทวนหน่อยว่าจะหา Z-score ได้ต้องรู้อะไรบ้าง\n",
    "\n",
    "สำหรับ Population ใดๆ\n",
    "\n",
    "$$\\text{Mean}_{pop} = \\mu = \\frac{\\sum_{i=1}^{n} x_i}{n}$$\n",
    "\n",
    "$$\\text{SD}_{pop} = \\sigma = \\sqrt{\\frac{\\sum_{i=1}^{n}(x_i-\\mu)^2}{n}}$$\n",
    "\n",
    "$$Z_{score} = \\text{number of SD away from the mean} = \\frac{x-\\mu}{\\sigma}$$\n",
    "\n",
    "ถ้าหา $Z_{score}$ ได้แล้ว สมมติเรามีสมมติฐานว่า distribution ของเรานี้กระจายตัวแบบ normal ก็สามารถรู้ได้ว่า $Z_{score}$ นั้นอยู่ที่ % ไทล์เท่าไหร่ ดังนี้\n",
    "\n",
    "![](img/zscore09.jpg)\n",
    "\n",
    "*Note : นอกจากเปิดตารางแล้ว ยังมีวิธีการหา % ของ $Z_{score}$* จากวิธีการทาง Calculus ด้วย"
   ]
  },
  {
   "cell_type": "markdown",
   "metadata": {},
   "source": [
    "# Normal Distribution\n",
    "![](img/prob_normal_distribution.jpg)\n",
    "\n",
    "ทบทวน\n",
    "- พื้นที่ทั้งหมดได้กราฟ area = 1 \n",
    "- เส้นกราฟเรียกว่า Probability Density Function (PDF)\n",
    "- เส้น PDF ไม่ตัดแกน X\n",
    "- เราไม่รู้ว่าจุดไหนถึงจะครอบคลุม 100% มันแค่ลู่เข้าใกล้\n",
    "- % ที่ได้จากการเปิดตาราง คือโอกาสที่อาจจะเกิดเหตุการณ์ที่ $Z_{score}$ น้อยกว่าหรือเท่ากับ $Z_{score}$ นั้น\n",
    "\n",
    "![](img/standard-normal-distribution.jpg)"
   ]
  },
  {
   "cell_type": "markdown",
   "metadata": {},
   "source": [
    "# Sampling Distribution (การกระจายตัวของ means ของกลุ่มตัวอย่าง)\n",
    "\n",
    "> Distribution of sample means = Sampling distribution\n",
    "\n",
    "สมมติเรามีกลุ่มประชากรอยู่ 100 ล้านคน ใหญ่มาก เราอยากรู้การกระจายตัวของรายได้ของประชากร เราไม่สามารถจับมาถามทีละคนได้หมดแน่ๆ \n",
    "\n",
    "ที่เราจะทำคือสุ่มหยิบ sample มากลุ่มนึง ถามรายได้แต่ละคน ก็จะได้ distribution ของรายได้เป็นรูปสีเทาๆข้างล่าง (พอรู้ distribution ก็หา mean ได้)\n",
    "\n",
    "![](img/samp.gif)\n",
    "\n",
    "ถ้าเราทำซ้ำเรื่อยๆๆๆๆ แล้วเอา mean ของแต่ละ distribution มา plot ดู distribution อีกที อันนี้แหละที่เรียกว่า Sampling distribution ถ้าทำเยอะพอสุดท้ายแล้ว เราจะได้กราฟที่เป็น normal distribution \n",
    "\n",
    "$$\\text{Mean of Sampling distribution} = \\text{Population Mean}$$\n",
    "$$M = \\mu$$\n",
    "\n",
    "<img src=\"img/central.png\" style=\"width:500px\">\n",
    "\n",
    "**จาก Central Limit Theorem** ไม่ว่า population จะมี distribution หน้าตายังไง หากเราสุ่ม sample มาหา mean ($\\bar{x}$) เอาค่า mean ของ sample มา plot ดู distribution จะได้ normal distribution เสมอซึ่ง Population distribution และ Sampling distribution จะมี mean เท่ากัน\n",
    "\n",
    "หาก sample ที่หยิบมาแต่ละกลุ่มมีสมาชิก $n$ ตัวจะได้ว่า SD ของ Sampling distribution (the SD of sampling distribution) คือ \n",
    "\n",
    "$$\\text{standard error} = SE = \\frac{\\sigma}{\\sqrt{n}}$$\n",
    "\n",
    "> **ถ้าทำเยอะพอ mean ของ Sampling distribution จะเท่ากับ mean ของ Population**\n",
    "\n",
    "คำถามคือ ไอ้ Sampling distribution มันมีประโยชน์อะไร\n",
    "\n",
    "ปกติถ้าเราจะหา SD ของ Population จากข้อมูลของ Population ทั้งหมดเราจะได้\n",
    "\n",
    "$$\\text{The population SD (from population data)}= \\sigma = \\sqrt{\\frac{\\sum_{i=1}^{n}(x_i-\\mu)^2}{n}}$$\n",
    "\n",
    "- $n$ คือ population size\n",
    "\n",
    "แต่ในความเป็นจริงแล้วเรามักจะไม่มีข้อมูลของ Population ทั้งหมดหรอก **เรามีแต่ข้อมูลของ sample!**\n",
    "\n",
    "แต่เราอยากรู้ข้อมูลของ Population อะ ดังนั้นที่เราจะทำต่อไปนี้คือ *\"การเดาข้อมูลของ population จาก sample\"* ในที่นี้ค่าที่เราจะเดาก็คือ SD \n",
    "\n",
    "เราสามารถประมาณค่า SD ของ Population ได้ว่า (มาจาก Bessel's correction)\n",
    "\n",
    "$$\\text{The population SD (from sample data)}= \\sqrt{\\frac{\\sum_{i=1}^{n}(x_i-\\bar{x})^2}{n-1}}$$\n",
    "\n",
    "- $n$ คือ sample size\n",
    "- $\\bar{x}$ คือ mean ของ sample\n",
    "\n",
    "### ตัวอย่าง \n",
    "การทอยลูกเต๋า 6 หน้า population คือ choice ทั้งหมดที่อาจเกิดขึ้นได้ ก็คือแต้ม 1-6 (โอกาสเท่ากันทุกหน้า เป็น uniform distribution)\n",
    "\n",
    "ทีนี้ถ้าเราทอยมัน 2 ครั้งขึ้นไป จะได้ **sampling = เหตุการณ์ทั้งหมดที่เป็นไปได้** (เช่น ทอยสองครั้งจะได้ 1-1,1-2,1-3,1-4,1-5,1-6,2-1,...,6-6)\n",
    "\n",
    "หากเราหาค่าเฉลี่ยที่ได้จากการทอย 2 ครั้ง 3 ครั้ง... แล้วเอามา plot ดู distribution จะได้ดังนี้\n",
    "\n",
    "![](img/mean-of-dice.gif)\n",
    "\n",
    "ตั้งแต่รูปที่ 2 ลงมาคือการเอา mean ของ sample มา plot (รูปแรกเอา population มา plot) จะเห็นว่า sampling distribution ของลูกเต๋าหน้าตาก็เป็นแบบ normal distribution ตามตำราเป๊ะ"
   ]
  },
  {
   "cell_type": "code",
   "execution_count": null,
   "metadata": {
    "collapsed": true
   },
   "outputs": [],
   "source": []
  }
 ],
 "metadata": {
  "kernelspec": {
   "display_name": "Python 3",
   "language": "python",
   "name": "python3"
  },
  "language_info": {
   "codemirror_mode": {
    "name": "ipython",
    "version": 3
   },
   "file_extension": ".py",
   "mimetype": "text/x-python",
   "name": "python",
   "nbconvert_exporter": "python",
   "pygments_lexer": "ipython3",
   "version": "3.6.3"
  }
 },
 "nbformat": 4,
 "nbformat_minor": 2
}
