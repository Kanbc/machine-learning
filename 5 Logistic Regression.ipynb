{
 "cells": [
  {
   "cell_type": "markdown",
   "metadata": {},
   "source": [
    "# Intro"
   ]
  },
  {
   "cell_type": "markdown",
   "metadata": {
    "collapsed": true
   },
   "source": [
    "## Classification\n",
    "\n",
    "To attempt classification, one method is to use linear regression and map all predictions greater than 0.5 as a 1 and all less than 0.5 as a 0. However, this method doesn't work well because classification is not actually a linear function.\n",
    "\n",
    "The classification problem is just like the regression problem, except that the values we now want to predict take on only a small number of discrete values. For now, we will focus on the **binary classification problem** in which $y$ can take on only two values, $0$ and $1$. (Most of what we say here will also generalize to the multiple-class case.) \n",
    "\n",
    "For instance, if we are trying to build a spam classifier for email, then $x(i)$ may be some features of a piece of email, and $y$ may be $1$ if it is a piece of spam mail, and $0$ otherwise. \n",
    "\n",
    "Hence, $y\\in\\{0,1\\}$. **$0$ is also called the negative class**, and **$1$ the positive class**, and they are sometimes also denoted by the symbols **“-” and “+.”** Given $x(i)$, the corresponding $y(i)$ is also called the label for the training example."
   ]
  },
  {
   "cell_type": "markdown",
   "metadata": {},
   "source": [
    "## Hypothesis Representation\n",
    "\n",
    "We could approach the classification problem ignoring the fact that y is discrete-valued, and use our old linear regression algorithm to try to predict y given x.\n",
    "\n",
    "However, it is easy to construct examples where this method performs very poorly. Intuitively, it also doesn’t make sense for $h_{\\theta}(x)$ to take values larger than 1 or smaller than 0 when we know that $y \\in \\{0, 1\\}$.\n",
    "\n",
    "To fix this, let’s change the form for our hypotheses $h_{\\theta}(x)$ to satisfy $0 ≤ h_{\\theta}(x) ≤ 1$. This is accomplished by plugging $\\theta^{T}x$ into the Logistic Function.\n",
    "\n",
    "Our new form uses the \"Sigmoid Function,\" also called the \"Logistic Function\":\n",
    "\n",
    "$$\n",
    "\\begin{align*}& h_\\theta (x) = g ( \\theta^T x ) \\newline \\newline& z = \\theta^T x \\newline& g(z) = \\dfrac{1}{1 + e^{-z}}\\end{align*}\n",
    "$$\n",
    "\n",
    "The following image shows us what the sigmoid function looks like:\n",
    "\n",
    "![](img/20.png)\n",
    "\n",
    "The function g(z), shown here, maps any real number to the (0, 1) interval, making it useful for transforming an arbitrary-valued function into a function better suited for classification\n",
    "\n",
    "$h_{\\theta}(x)$ will give us the **probability** that our output is 1. For example, $h_{\\theta}(x)$ = 0.7 gives us a probability of 70% that our output is 1. Our probability that our prediction is 0 is just the complement of our probability that it is 1 (e.g. if probability that it is 1 is 70%, then the probability that it is 0 is 30%).\n",
    "\n",
    "$$\\begin{align*}& h_\\theta(x) = P(y=1 | x ; \\theta) = 1 - P(y=0 | x ; \\theta) \\newline& P(y = 0 | x;\\theta) + P(y = 1 | x ; \\theta) = 1\\end{align*}$$\n",
    "\n",
    "*Note : ค่าของ $\\hat{y}$  คือความน่าจะเป็นที่ output จะเป็น 1 (ไม่ใช่ 0)*"
   ]
  },
  {
   "cell_type": "markdown",
   "metadata": {},
   "source": [
    "## Decision Boundary\n",
    "\n",
    "In order to get our discrete 0 or 1 classification, we can translate the output of the hypothesis function as follows:\n",
    "\n",
    "$$\\begin{align*}& h_\\theta(x) \\geq 0.5 \\rightarrow y = 1 \\newline& h_\\theta(x) < 0.5 \\rightarrow y = 0 \\newline\\end{align*}$$\n",
    "\n",
    "The way our logistic function $g$ behaves is that when its input is greater than or equal to zero, its output is greater than or equal to 0.5:\n",
    "\n",
    "$$\\begin{align*}& g(z) \\geq 0.5 \\newline& when \\; z \\geq 0\\end{align*}$$\n",
    "\n",
    "Remember.\n",
    "\n",
    "$$\n",
    "\\begin{align*}z=0, e^{0}=1 \\Rightarrow g(z)=1/2\\newline z \\to \\infty, e^{-\\infty} \\to 0 \\Rightarrow g(z)=1 \\newline z \\to -\\infty, e^{\\infty}\\to \\infty \\Rightarrow g(z)=0 \\end{align*}\n",
    "$$\n",
    "\n",
    "So if our input to $g$ is $\\theta^{T}X$, then that means:\n",
    "\n",
    "$$\\begin{align*}& h_\\theta(x) = g(\\theta^T x) \\geq 0.5 \\newline& when \\; \\theta^T x \\geq 0\\end{align*}$$\n",
    "\n",
    "From these statements we can now say:\n",
    "\n",
    "$$\\begin{align*}& \\theta^T x \\geq 0 \\Rightarrow y = 1 \\newline& \\theta^T x < 0 \\Rightarrow y = 0 \\newline\\end{align*}$$\n",
    "\n",
    "The **decision boundary** is the line that separates the area where y = 0 and where y = 1. It is **created by our hypothesis function.**\n",
    "\n",
    "#### Example:\n",
    "ถ้า $h_{\\theta}(x) = g(\\theta_0 + \\theta_1x_1 + \\theta_2x_2)$\n",
    "\n",
    "เมื่อ $\\theta = \\begin{bmatrix}5 \\newline -1 \\newline 0\\end{bmatrix}$\n",
    "จะได้ว่า\n",
    "$$\\begin{align*} & y = 1 \\; ถ้า \\; 5 + (-1) x_1 + 0 x_2 \\geq 0 \\newline & 5 - x_1 \\geq 0 \\newline & - x_1 \\geq -5 \\newline& x_1 \\leq 5 \\newline \\end{align*}$$\n",
    "\n",
    "In this case, our decision boundary is a straight vertical line placed on the graph where $x_1=5$, and everything to the left of that denotes $y = 1$, while everything to the right denotes $y = 0$.\n",
    "\n",
    "Again, the input to the sigmoid function $g(z)$ (e.g. $\\theta^{T}X$) doesn't need to be linear, and could be a function that describes a circle (e.g. $z=\\theta_0+\\theta_1x^2_1+\\theta_2x^2_2$) or any shape to fit our data.\n",
    "\n"
   ]
  },
  {
   "cell_type": "markdown",
   "metadata": {},
   "source": [
    "# Logistic Regression Model"
   ]
  },
  {
   "cell_type": "markdown",
   "metadata": {},
   "source": [
    "## Cost Function\n",
    "We cannot use the same cost function that we use for linear regression because the Logistic Function will cause the output to be wavy, causing many local optima. In other words, it will not be a convex function.\n",
    "\n",
    "![](img/22.jpg)\n",
    "\n",
    "Logistic Function : $h_{\\theta}(x) = \\frac{1}{1+e^{-\\theta^{T}x}}$ เป็นฟังก์ชั่นที่มีลักษณะดังรูปข้างบน ซึ่งมีจุด Local Optima หลายจุด (เป็น Non-Convex function) แล้วด้วยลักษณะแบบนี้จะทำให้ ไม่สามารถใช้ Gradient Descent ซึ่งเป็น Algorithm สำหรับใช้หาจุด Global Minimun ของ Convex Function ได้\n",
    "\n",
    "![](img/21.jpg)\n",
    "*ตัวอย่าง Non-Convex Function*\n",
    "\n",
    "ดังนั้นจึงต้องหา Cost Function ของ Logistic Regression Model ในรูปของ Convex Function ซะก่อน\n",
    "\n",
    "สำหรับ Linear Regression มี Cost Function คือ \n",
    "\n",
    "$$J(\\theta) = \\dfrac{1}{2m} \\sum_{i=1}^m (h_\\theta(x^{(i)})-y^{(i)})^2$$\n",
    "\n",
    "ขอเรียกก้อน $(h_\\theta(x^{(i)})-y^{(i)})^2$ ว่า $\\text{Cost}(h_\\theta(x^{(i)}),y^{(i)})$ ซึ่งสะท้อนถึงปริมาณความต่างระหว่างค่าจริงกับค่า predict \n",
    "\n",
    "Instead, our cost function for logistic regression looks like:\n",
    "\n",
    "$$\\begin{align*}& J(\\theta) = \\dfrac{1}{m} \\sum_{i=1}^m \\mathrm{Cost}(h_\\theta(x^{(i)}),y^{(i)}) \\newline & \\mathrm{Cost}(h_\\theta(x),y) = -\\log(h_\\theta(x)) \\; & \\text{if y = 1} \\newline & \\mathrm{Cost}(h_\\theta(x),y) = -\\log(1-h_\\theta(x)) \\; & \\text{if y = 0}\\end{align*}$$\n",
    "\n",
    "> Writing the cost function in this way guarantees that $J(\\theta)$ is **convex for logistic regression**.\n",
    "\n",
    "When $y = 1$, we get the following plot for $J(\\theta)$ vs $h_{\\theta}(x)$ :\n",
    "\n",
    "![](img/23.png)\n",
    "\n",
    "เมื่อ $y = 1$ (ค่าจริง = 1) ยิ่ง $\\hat{y}$ (ค่า predict) เข้าใกล้ 1 มากเท่าไหร่ Cost ยิ่งน้อย\n",
    "\n",
    "Similarly, when $y = 0$, we get the following plot for $J(\\theta)$ vs $h_{\\theta}(x)$ :\n",
    "\n",
    "![](img/24.png)\n",
    "\n",
    "กลับกัน เมื่อ $y = 0$ (ค่าจริง = 0) ยิ่ง $\\hat{y}$ (ค่า predict) เข้าใกล้ 0 มากเท่าไหร่ Cost ยิ่งน้อย แต่จะมากขึ้นเรื่อยๆเข้าหา infinity เมื่อทำนายเป็น 1  \n",
    "\n",
    "**สรุป**\n",
    "$$\n",
    "\\begin{align*}& \\mathrm{Cost}(h_\\theta(x),y) = 0 \\text{ if } h_\\theta(x) = y \\newline & \\mathrm{Cost}(h_\\theta(x),y) \\rightarrow \\infty \\text{ if } y = 0 \\; \\mathrm{and} \\; h_\\theta(x) \\rightarrow 1 \\newline & \\mathrm{Cost}(h_\\theta(x),y) \\rightarrow \\infty \\text{ if } y = 1 \\; \\mathrm{and} \\; h_\\theta(x) \\rightarrow 0 \\newline \\end{align*}\n",
    "$$\n",
    "\n",
    "If our correct answer 'y' is 0, then the cost function will be 0 if our hypothesis function also outputs 0. If our hypothesis approaches 1, then the cost function will approach infinity.\n",
    "\n",
    "If our correct answer 'y' is 1, then the cost function will be 0 if our hypothesis function outputs 1. If our hypothesis approaches 0, then the cost function will approach infinity.\n",
    "\n",
    "Note that writing the cost function in this way guarantees that $J(\\theta)$ is **convex for logistic regression**."
   ]
  },
  {
   "cell_type": "markdown",
   "metadata": {},
   "source": [
    "## Simplified Cost Function and Gradient Descent\n",
    "\n",
    "$$\\begin{align*}& J(\\theta) = \\dfrac{1}{m} \\sum_{i=1}^m \\mathrm{Cost}(h_\\theta(x^{(i)}),y^{(i)}) \\newline & \\mathrm{Cost}(h_\\theta(x),y) = -\\log(h_\\theta(x)) \\; & \\text{if y = 1} \\newline & \\mathrm{Cost}(h_\\theta(x),y) = -\\log(1-h_\\theta(x)) \\; & \\text{if y = 0}\\end{align*}$$\n",
    "\n",
    "We can compress our cost function's two conditional cases into one case:\n",
    "\n",
    "$$\\mathrm{Cost}(h_\\theta(x),y) = - y \\; \\log(h_\\theta(x)) - (1 - y) \\log(1 - h_\\theta(x))$$\n",
    "\n",
    "Notice that when $y$ is equal to 1, then the second term $(1−y)\\text{log}(1−h_{\\theta}(x))$ will be zero and will not affect the result. If $y$ is equal to $0$, then the first term $−y\\text{log}(h_{\\theta}(x))$ will be zero and will not affect the result.\n",
    "\n",
    "We can fully write out our entire cost function as follows:\n",
    "\n",
    "#### สมการนี้ได้มาจากกระบวนการทาง Statistics ใช้วิธี Maximum Likelihood Estimation หา Cost Function ได้\n",
    "$J(\\theta) = - \\frac{1}{m} \\displaystyle \\sum_{i=1}^m [y^{(i)}\\log (h_\\theta (x^{(i)})) + (1 - y^{(i)})\\log (1 - h_\\theta(x^{(i)}))]$\n",
    "\n",
    "A vectorized implementation is:\n",
    "\n",
    "$\\begin{align*} & h = g(X\\theta)\\newline & J(\\theta) = \\frac{1}{m} \\cdot \\left(-y^{T}\\log(h)-(1-y)^{T}\\log(1-h)\\right) \\end{align*}$\n",
    "\n",
    "### Gradient Descent\n",
    "\n",
    "Remember that the general form of gradient descent is:\n",
    "\n",
    "$\\begin{align*}& Repeat \\; \\lbrace \\newline & \\; \\theta_j := \\theta_j - \\alpha \\dfrac{\\partial}{\\partial \\theta_j}J(\\theta) \\newline & \\rbrace\\end{align*}$\n",
    "\n",
    "We can work out the derivative part using calculus to get:\n",
    "\n",
    "$\\begin{align*} & Repeat \\; \\lbrace \\newline & \\; \\theta_j := \\theta_j - \\frac{\\alpha}{m} \\sum_{i=1}^m (h_\\theta(x^{(i)}) - y^{(i)}) x_j^{(i)} \\newline & \\rbrace \\end{align*}$\n",
    "\n",
    "Notice that this algorithm is identical to the **one we used in linear regression**. We still have to simultaneously update all values in theta.\n",
    "\n",
    "A vectorized implementation is:\n",
    "\n",
    "$$\\theta := \\theta - \\frac{\\alpha}{m} X^{T} (g(X \\theta ) - \\vec{y})$$"
   ]
  },
  {
   "cell_type": "markdown",
   "metadata": {},
   "source": [
    "## Advanced Optimization\n",
    "\n",
    "- \"Conjugate gradient\" \n",
    "- \"BFGS\"\n",
    "- \"L-BFGS\" \n",
    "\n",
    "**are more sophisticated, faster ways to optimize $\\theta$ that can be used instead of gradient descent**. We suggest that you should not write these more sophisticated algorithms yourself (unless you are an expert in numerical computing) but use the libraries instead, as they're already tested and highly optimized. Octave provides them.\n",
    "\n",
    "We first need to provide a function that evaluates the following two functions for a given input value $\\theta$:\n",
    "\n",
    "$\\begin{align*} & J(\\theta) \\newline & \\dfrac{\\partial}{\\partial \\theta_j}J(\\theta)\\end{align*}$\n",
    "\n",
    "We can write a single function that returns both of these:\n",
    "\n",
    "`\n",
    "function [jVal, gradient] = costFunction(theta)\n",
    "  jVal = [...code to compute J(theta)...];\n",
    "  gradient = [...code to compute derivative of J(theta)...];\n",
    "end\n",
    "`\n",
    "\n",
    "Then we can use octave's \"fminunc()\" optimization algorithm along with the \"optimset()\" function that creates an object containing the options we want to send to \"fminunc()\".\n",
    "\n",
    "`\n",
    "options = optimset('GradObj', 'on', 'MaxIter', 100);\n",
    "initialTheta = zeros(2,1);\n",
    "   [optTheta, functionVal, exitFlag] = fminunc(@costFunction, initialTheta, options);\n",
    "`\n",
    "\n",
    "We give to the function \"fminunc()\" our cost function, our initial vector of theta values, and the \"options\" object that we created beforehand.\n",
    "\n",
    "สรุปคือ เราอาจใช้ Optimization Algorithm อื่นๆที่มี function สำเร็จรูปให้ใช้อยู่แล้วในการค่าพารามิเตอร์ ซึ่งให้ผลไวกว่า GD แต่ต้องลองฝึกใช้ดู อาจต้องอ่าน Math เพิ่มเพื่อ debug ฟังก์ชั่นได้"
   ]
  },
  {
   "cell_type": "markdown",
   "metadata": {},
   "source": [
    "# Multiclass Classification\n",
    "\n",
    "## Multiclass Classification: One-vs-all\n",
    "\n",
    "Now we will approach the classification of data when we have **more than two categories**. Instead of $y = {0,1}$ we will expand our definition so that $y = {0,1...n}$.\n",
    "\n",
    "Since y = {0,1...n}, we divide our problem into n+1 (+1 because the index starts at 0) binary classification problems; in each one, **we predict the probability that 'y' is a member of one of our classes.**\n",
    "\n",
    "$\\begin{align*}& y \\in \\lbrace0, 1 ... n\\rbrace \\newline& h_\\theta^{(0)}(x) = P(y = 0 | x ; \\theta) \\newline& h_\\theta^{(1)}(x) = P(y = 1 | x ; \\theta) \\newline& \\cdots \\newline& h_\\theta^{(n)}(x) = P(y = n | x ; \\theta) \\newline& \\mathrm{prediction} = \\max_i( h_\\theta ^{(i)}(x) )\\newline\\end{align*}$\n",
    "\n",
    "(ถ้ามี $y = {0,1...n}$ ก็แบ่งคิดแบบ binary ทีละตัว หาความน่าจะเป็นของโอกาสที่น่าจะเกิด เหตุการณ์ $y=i$ พอได้ x ตัวใหม่มาแล้วจะ predict ว่าอยู่ใน class ไหน ก็ลองแทน x ไปใน $h_{\\theta}(x)$ ทุกค่าดู แล้วดูว่า $h_{\\theta}(x)$ ไหนมีค่ามากสุด ก็จะบอกได้ว่า x อยู่ในกลุ่มใด)\n",
    "\n",
    "We are basically choosing one class and then lumping all the others into a single second class. We do this repeatedly, applying binary logistic regression to each case, and then use the hypothesis that returned the highest value as our prediction.\n",
    "\n",
    "The following image shows how one could classify 3 classes:\n",
    "\n",
    "![](img/25.png)\n",
    "\n",
    "#### To summarize:\n",
    "\n",
    "Train a logistic regression classifier $h_{\\theta}(x)$ for each class￼ to predict the probability that ￼ ￼$y = i$￼￼.\n",
    "\n",
    "To make a prediction on a new $x$, pick the class ￼that maximizes $h_{\\theta}(x)$"
   ]
  },
  {
   "cell_type": "markdown",
   "metadata": {},
   "source": [
    "# ====================== CODE ========================="
   ]
  },
  {
   "cell_type": "markdown",
   "metadata": {},
   "source": [
    "### ตัวอย่างข้อมูลสำหรับ  Logistic Regression with One Variable\n",
    "\n",
    "มี independence variable 2 ตัว (x1,x2) และ dependence variable 1 ตัว (y)"
   ]
  },
  {
   "cell_type": "code",
   "execution_count": 1,
   "metadata": {},
   "outputs": [
    {
     "data": {
      "text/html": [
       "<div>\n",
       "<style>\n",
       "    .dataframe thead tr:only-child th {\n",
       "        text-align: right;\n",
       "    }\n",
       "\n",
       "    .dataframe thead th {\n",
       "        text-align: left;\n",
       "    }\n",
       "\n",
       "    .dataframe tbody tr th {\n",
       "        vertical-align: top;\n",
       "    }\n",
       "</style>\n",
       "<table border=\"1\" class=\"dataframe\">\n",
       "  <thead>\n",
       "    <tr style=\"text-align: right;\">\n",
       "      <th></th>\n",
       "      <th>Exam 1 score</th>\n",
       "      <th>Exam 2 score</th>\n",
       "      <th>Admitted</th>\n",
       "    </tr>\n",
       "  </thead>\n",
       "  <tbody>\n",
       "    <tr>\n",
       "      <th>0</th>\n",
       "      <td>34.623660</td>\n",
       "      <td>78.024693</td>\n",
       "      <td>0</td>\n",
       "    </tr>\n",
       "    <tr>\n",
       "      <th>1</th>\n",
       "      <td>30.286711</td>\n",
       "      <td>43.894998</td>\n",
       "      <td>0</td>\n",
       "    </tr>\n",
       "    <tr>\n",
       "      <th>2</th>\n",
       "      <td>35.847409</td>\n",
       "      <td>72.902198</td>\n",
       "      <td>0</td>\n",
       "    </tr>\n",
       "    <tr>\n",
       "      <th>3</th>\n",
       "      <td>60.182599</td>\n",
       "      <td>86.308552</td>\n",
       "      <td>1</td>\n",
       "    </tr>\n",
       "    <tr>\n",
       "      <th>4</th>\n",
       "      <td>79.032736</td>\n",
       "      <td>75.344376</td>\n",
       "      <td>1</td>\n",
       "    </tr>\n",
       "  </tbody>\n",
       "</table>\n",
       "</div>"
      ],
      "text/plain": [
       "   Exam 1 score  Exam 2 score  Admitted\n",
       "0     34.623660     78.024693         0\n",
       "1     30.286711     43.894998         0\n",
       "2     35.847409     72.902198         0\n",
       "3     60.182599     86.308552         1\n",
       "4     79.032736     75.344376         1"
      ]
     },
     "execution_count": 1,
     "metadata": {},
     "output_type": "execute_result"
    }
   ],
   "source": [
    "import pandas as pd\n",
    "import matplotlib.pyplot as plt\n",
    "\n",
    "data1 = pd.read_csv('programing/machine-learning-ex2/ex2/ex2data1.txt',names=['Exam 1 score','Exam 2 score','Admitted'])\n",
    "data1.head()"
   ]
  },
  {
   "cell_type": "markdown",
   "metadata": {},
   "source": [
    "ก่อนจะเริ่มทำอะไร ลอง visualize data ออกมาดูก่อนว่าเป็นยังไง จะได้ (ความสัมพันธ์ระหว่าง exam 1 score, exam 2 score และ การผ่าน)"
   ]
  },
  {
   "cell_type": "code",
   "execution_count": 2,
   "metadata": {},
   "outputs": [
    {
     "data": {
      "image/png": "[encoded data removed]",
      "text/plain": [
       "<matplotlib.figure.Figure at 0x116410160>"
      ]
     },
     "metadata": {},
     "output_type": "display_data"
    }
   ],
   "source": [
    "grp = data1.groupby('Admitted')\n",
    "admitted_data = grp.get_group(1)\n",
    "not_admitted_data = grp.get_group(0)\n",
    "\n",
    "plt.figure(figsize=(7,6))\n",
    "\n",
    "admitted     = plt.scatter(admitted_data.values[:,0], admitted_data.values[:,1], marker='+', color='black')\n",
    "not_admitted = plt.scatter(not_admitted_data.values[:,0], not_admitted_data.values[:,1], marker='o', color='y')\n",
    "\n",
    "plt.legend((admitted, not_admitted),('Admitted', 'Not admitted'),scatterpoints=1,loc='upper right',ncol=1,fontsize=8)\n",
    "plt.xlabel('Exam 1 Score')\n",
    "plt.ylabel('Exam 2 Score')\n",
    "plt.show()"
   ]
  },
  {
   "cell_type": "markdown",
   "metadata": {},
   "source": [
    "จะเห็นว่า output ปลายทางคือ ผ่าน(1)-ไม่ผ่าน(0) แค่ 2 อย่างเท่านั้นจาก input คือ ex-score1 และ ex-score2 หากเราอยากจะทำนายผลการผ่าน/ไม่ผ่านจากคะแนน ex-score1 และ ex-score2 ของข้อมูลใหม่ในอนาคต การใช้ Logistic Regression Model เป็นเครื่องมือ น่าจะเป็น good choice\n",
    "\n",
    "ดังนั้นต้องเริ่มจาก hypothesis ของ model ก่อน ดังนี้\n",
    "\n",
    "$h = g(X\\theta)$\n",
    "\n",
    "เมื่อ\n",
    "\n",
    "$g(z) = \\dfrac{1}{1 + e^{-z}} \\text{ -----> \"sigmoid function\"}$ ลู่เข้าสู่ 1 เมื่อ $z >= 0$ ลู่เข้า 0 เมื่อ $z < 0$ \n",
    "\n",
    "ดังนั้นเขียน sigmoid function ก่อน จะได้"
   ]
  },
  {
   "cell_type": "code",
   "execution_count": 3,
   "metadata": {
    "collapsed": true
   },
   "outputs": [],
   "source": [
    "# Instructions: Compute the sigmoid of each value of z (z is a scalar).\n",
    "import numpy as np\n",
    "\n",
    "def sigmoid(z):\n",
    "    g = 1/(1+np.exp(np.array(-z,dtype=np.float128)))\n",
    "    return g"
   ]
  },
  {
   "cell_type": "markdown",
   "metadata": {},
   "source": [
    "ทดสอบ Sigmoid function ที่เราสร้าง"
   ]
  },
  {
   "cell_type": "code",
   "execution_count": 4,
   "metadata": {},
   "outputs": [
    {
     "data": {
      "image/png": "[encoded data removed]",
      "text/plain": [
       "<matplotlib.figure.Figure at 0x11a3d1278>"
      ]
     },
     "metadata": {},
     "output_type": "display_data"
    }
   ],
   "source": [
    "nums = np.arange(-10, 10, step=1)\n",
    "\n",
    "fig, ax = plt.subplots(figsize=(5,3))  \n",
    "ax.plot(nums, sigmoid(nums), 'r') \n",
    "plt.show()"
   ]
  },
  {
   "cell_type": "markdown",
   "metadata": {},
   "source": [
    "ทีนี้เราจะมี function สำหรับหาค่า $h_{\\theta}(x)$ แล้ว (ความน่าจะเป็นที่ $y = 1$) ซึ่งก็คือ Model ที่เราจะใช้อธิบายข้อมูล ว่าอยู่กลุ่ม 0 หรือ กลุ่ม 1 \n",
    "\n",
    "ทีนี้สิ่งที่เราขาดก็คือ พารามิเตอร์ของ model ($\\theta$) ดังนั้นขั้นตอนถัดไปก็คือ การหาพารามิเตอร์ของ model จาก cost function (ฟังก์ชั่นที่ตัวแปรต้นคือ parameter)\n",
    "\n",
    "### Cost Function \n",
    "\n",
    "อันนี้คือ cost function ของ linear regression (least mean square)\n",
    "\n",
    "$ J(\\theta)=\\frac{1}{2m}\\sum_{i=1}^{m}(\\hat{y_{i}}−y_{i})^{2} = \\frac{1}{2m}\\sum_{i=1}^{m}(h_{\\theta}(x_{i})−y_{i})^{2} $\n",
    "\n",
    "#### เมื่อใช้วิธี Maximum Likelihood Estimation หา Cost Function ของ logistic regression จะได้\n",
    "$J(\\theta) = - \\frac{1}{m} \\displaystyle \\sum_{i=1}^m [y^{(i)}\\log (h_\\theta (x^{(i)})) + (1 - y^{(i)})\\log (1 - h_\\theta(x^{(i)}))]$\n",
    "\n",
    "A vectorized implementation is:\n",
    "\n",
    "$\\begin{align*}J(\\theta) = \\frac{1}{m} \\cdot \\left(-y^{T}\\log(h)-(1-y)^{T}\\log(1-h)\\right) \\end{align*}$\n",
    "\n",
    "เมื่อ $m$ คือจำนวนจุดทั้งหมด(แถว)ของ dataset ที่เรามี และ $h$ คือ sigmoid function ของ $X\\theta$\n",
    "\n",
    "*Note:log แต่ละ element ใน metric h*\n",
    "\n",
    "เขียนเป็น function ได้ดังนี้"
   ]
  },
  {
   "cell_type": "code",
   "execution_count": 13,
   "metadata": {
    "collapsed": true
   },
   "outputs": [],
   "source": [
    "import numpy as np\n",
    "# from math import log\n",
    "\n",
    "def costFunction(theta,X,y):\n",
    "    # Instructions: Compute the cost of a particular choice of theta.\n",
    "    #               You should set J to the cost.\n",
    "    #               Compute the partial derivatives and set grad to the partial\n",
    "    #               derivatives of the cost w.r.t. each parameter in theta\n",
    "    # Note: grad should have the same dimensions as theta\n",
    "    theta = np.matrix(theta)\n",
    "    X = np.matrix(X)\n",
    "    y = np.matrix(y)\n",
    "\n",
    "    m = y.shape[1] # number of training examples\n",
    "    h = np.matrix(sigmoid(X.dot(theta)))\n",
    "    \n",
    "    # Cost Function\n",
    "    J = (1/m)*(-y.dot(np.log(h)) - ((1-y).dot(np.log(1-h)) ) )\n",
    "    # Partial Derivatives\n",
    "    grad = (1/m)*X.T.dot(h-y.T)\n",
    "\n",
    "    return [J,grad]"
   ]
  },
  {
   "cell_type": "markdown",
   "metadata": {},
   "source": [
    "ทดสอบ function จะได้"
   ]
  },
  {
   "cell_type": "code",
   "execution_count": 14,
   "metadata": {
    "scrolled": false
   },
   "outputs": [
    {
     "name": "stdout",
     "output_type": "stream",
     "text": [
      "J =  [[ 0.69314718]]\n",
      "Grad =  [[-0.1]\n",
      " [-12.009217]\n",
      " [-11.262842]]\n"
     ]
    }
   ],
   "source": [
    "# x1 = data1.values[:,0]\n",
    "# x2 = data1.values[:,1]\n",
    "Xdata = data1.values[:,0:2]\n",
    "y = data1.values[:,2]\n",
    "m = len(Xdata)\n",
    "\n",
    "# Add intercept term to x and X_test\n",
    "X = np.hstack( (np.ones([m,1]),Xdata) )\n",
    "[m,n] = np.shape(X)\n",
    "\n",
    "# Initialize fitting parameters\n",
    "initial_theta = np.zeros([n])\n",
    "\n",
    "# Compute and display initial cost and gradient\n",
    "[cost, grad] = costFunction(initial_theta, X, y)\n",
    "print('J = ',cost)\n",
    "print('Grad = ',grad)\n"
   ]
  },
  {
   "cell_type": "markdown",
   "metadata": {},
   "source": [
    "เมื่อหา Cost Function ได้แล้ว ทำ GD ต่อ เพื่อหา $\\theta$ ที่ทำให้ Cost Function มีค่าน้อยสุด\n",
    "\n",
    "### Gradient Descent\n",
    "\n",
    "$\\begin{align*}& Repeat \\; \\lbrace \\newline & \\; \\theta_j := \\theta_j - \\alpha \\dfrac{\\partial}{\\partial \\theta_j}J(\\theta) \\newline & \\rbrace\\end{align*}$\n",
    "\n",
    "สำหรับ Logistic Regression จะได้ \n",
    "\n",
    "$\\theta := \\theta - \\frac{\\alpha}{m} X^{T} (g(X \\theta ) - \\vec{y})$\n",
    "\n",
    "จาก `costFunction` ข้างบน เราหา $\\frac{1}{m} X^{T} (g(X \\theta ) - \\vec{y})$ แล้ว ดังนั้นในฟังก์ชั่นนี้เราจะทำ iteration เพื่อหา $\\theta$\n",
    "ทำเป็น function ได้ดังนี้"
   ]
  },
  {
   "cell_type": "code",
   "execution_count": 15,
   "metadata": {
    "collapsed": true
   },
   "outputs": [],
   "source": [
    "import numpy as np\n",
    "import matplotlib.pyplot as plt\n",
    "\n",
    "def gradientDescent(X, y, initial_theta, alpha, num_iters):\n",
    "    J_history = np.zeros(num_iters)\n",
    "    theta = initial_theta\n",
    "    n = len(theta)\n",
    "\n",
    "    for i in range(num_iters):\n",
    "        [cost, grad] = costFunction(theta, X, y)\n",
    "        J_history[i] = cost\n",
    "        theta = theta - alpha*grad\n",
    "        \n",
    "    plt.plot(J_history)\n",
    "    plt.xlabel('Number of iterations')\n",
    "    plt.ylabel('Cost J')\n",
    "    plt.show()\n",
    "\n",
    "    return [theta, J_history]"
   ]
  },
  {
   "cell_type": "code",
   "execution_count": 28,
   "metadata": {},
   "outputs": [
    {
     "data": {
      "image/png": "[encoded data removed]",
      "text/plain": [
       "<matplotlib.figure.Figure at 0x11f7a16a0>"
      ]
     },
     "metadata": {},
     "output_type": "display_data"
    },
    {
     "name": "stdout",
     "output_type": "stream",
     "text": [
      "[[-24.749554]\n",
      " [ 0.20293811]\n",
      " [ 0.19813958]]\n"
     ]
    }
   ],
   "source": [
    "[theta, J_history] = gradientDescent(X,y,initial_theta,0.00101,10000000)\n",
    "print(theta)"
   ]
  },
  {
   "cell_type": "markdown",
   "metadata": {},
   "source": [
    "จากผลการรันโปรแกรมข้างบนจะเห็นว่า GD มีค่าน้อยเมื่อ $\\theta = \\begin{bmatrix} \\theta_0 \\\\ \\theta_1 \\\\ \\theta_2 \\end{bmatrix} = \\begin{bmatrix} -24.749554 \\\\ 0.20293811 \\\\ 0.19813958 \\end{bmatrix}$"
   ]
  },
  {
   "cell_type": "markdown",
   "metadata": {},
   "source": [
    "## ทดลองหา $\\theta$ ด้วยวิธีการอื่น \n",
    "เช่น\n",
    "- \"Conjugate gradient\" \n",
    "- \"BFGS\"\n",
    "- \"L-BFGS\" \n",
    "\n",
    "ซึ่งก็มี lib เช่น scipy ช่วยในเรื่องนี้ได้ ตัวอย่าง function \n",
    "\n",
    "- `fmin` : Nelder-Mead simplex\n",
    "- `fmin_bfgs` : BFGS\n",
    "- `fmin_ncg` : Newton Conjugate Gradient\n",
    "- `leastsq` : Levenberg-Marquardt\n",
    "- `fmin_cobyla` : COBYLA\n",
    "\n",
    "ในที่นี้จะลองหาด้วยวิธี `fminunc` ของ MATLAB เขียนด้วย Python ได้ดังนี้\n",
    "\n",
    "ก่อนอื่นสร้าง function สำหรับใช้กับ `fmin_tnc(...)` "
   ]
  },
  {
   "cell_type": "code",
   "execution_count": 349,
   "metadata": {
    "collapsed": true
   },
   "outputs": [],
   "source": [
    "def costOnly(theta,X,y):\n",
    "    theta = np.matrix(theta).T\n",
    "    X = np.matrix(X)\n",
    "    y = np.matrix(y)\n",
    "\n",
    "    m = len(y) # number of training examples\n",
    "    h = sigmoid(X.dot(theta))\n",
    "    # Cost Function\n",
    "    first  = -y.T.dot(np.log(h))\n",
    "    second = (1-y.T).dot(np.log(1-h))\n",
    "    J = (1/m)*(first - second)\n",
    "    return J[0,0]\n",
    "\n",
    "def gradOnly(theta,X,y):\n",
    "    theta = np.matrix(theta).T\n",
    "    X = np.matrix(X)\n",
    "    y = np.matrix(y)\n",
    "    m = len(y) # number of training examples\n",
    "    \n",
    "    h = sigmoid(X.dot(theta))\n",
    "    # Partial Derivatives\n",
    "    grad = (1/m)*(X.T.dot(h-y))\n",
    "    return grad.tolist()"
   ]
  },
  {
   "cell_type": "markdown",
   "metadata": {},
   "source": [
    "ทดสอบ `CostOnly` กับ `GradOnly`"
   ]
  },
  {
   "cell_type": "code",
   "execution_count": 350,
   "metadata": {},
   "outputs": [
    {
     "data": {
      "text/plain": [
       "((100, 3), (3,), (100, 1))"
      ]
     },
     "execution_count": 350,
     "metadata": {},
     "output_type": "execute_result"
    }
   ],
   "source": [
    "# Data\n",
    "thetax = initial_theta # (3,)\n",
    "Xx = np.matrix(X) # (100,3)\n",
    "yx = np.matrix(y).T # (100,1)\n",
    "\n",
    "Xx.shape, thetax.shape, yx.shape  "
   ]
  },
  {
   "cell_type": "code",
   "execution_count": 351,
   "metadata": {},
   "outputs": [
    {
     "data": {
      "text/plain": [
       "0.69314718055994532385"
      ]
     },
     "execution_count": 351,
     "metadata": {},
     "output_type": "execute_result"
    }
   ],
   "source": [
    "costOnly(thetax,Xx,yx)"
   ]
  },
  {
   "cell_type": "code",
   "execution_count": 352,
   "metadata": {},
   "outputs": [
    {
     "data": {
      "text/plain": [
       "[[-0.10000000000000000208], [-12.009216589291152159], [-11.262842205513593758]]"
      ]
     },
     "execution_count": 352,
     "metadata": {},
     "output_type": "execute_result"
    }
   ],
   "source": [
    "gradOnly(thetax,Xx,yx)"
   ]
  },
  {
   "cell_type": "markdown",
   "metadata": {},
   "source": [
    "ลองใช้กับ `fmin_tnc(...)` "
   ]
  },
  {
   "cell_type": "code",
   "execution_count": 354,
   "metadata": {},
   "outputs": [
    {
     "name": "stdout",
     "output_type": "stream",
     "text": [
      "Parameter : [-25.16131863   0.20623159   0.20147149]\n"
     ]
    },
    {
     "data": {
      "text/plain": [
       "0.20349770158947457638"
      ]
     },
     "execution_count": 354,
     "metadata": {},
     "output_type": "execute_result"
    }
   ],
   "source": [
    "import scipy.optimize as opt  \n",
    "result = opt.fmin_tnc(func=costOnly, x0=thetax, fprime=gradOnly, args=(Xx, yx))  \n",
    "print(\"Parameter :\",result[0])\n",
    "parameter = result[0]\n",
    "parameter.shape\n",
    "costOnly(parameter, Xx, yx)  "
   ]
  },
  {
   "cell_type": "markdown",
   "metadata": {},
   "source": [
    "จะเห็นว่าวิธีนี้ไวกว่า GD มากๆ \n",
    "\n",
    "ค่าจาก GD เมื่อทำ iteration 10 ล้านครั้ง $\\theta = \\begin{bmatrix} \\theta_0 \\\\ \\theta_1 \\\\ \\theta_2 \\end{bmatrix} = \\begin{bmatrix} -24.749554 \\\\ 0.20293811 \\\\ 0.19813958 \\end{bmatrix}$ เทียบกับที่ได้จาก `fmin_tnc(...)` คือ $\\begin{bmatrix} \\theta_0 \\\\ \\theta_1 \\\\ \\theta_2 \\end{bmatrix} = \\begin{bmatrix} -25.16131863 \\\\ 0.20623159 \\\\ 0.20147149 \\end{bmatrix}$ จะเห็นว่าต่างกันนิดหน่อย แต่คิดว่าถ้าทำ iteration เยอะกว่านี้จะได้ค่าเดียวกัน\n",
    "\n",
    "จะได้สมการของ Decision Boundary คือ\n",
    "\n",
    "$$\\theta_0 + \\theta_1x_1 + \\theta_2x_2 = 0$$\n",
    "\n",
    "แทนค่า\n",
    "\n",
    "$$-25.16 + 0.206x_1 + 0.201x_2 = 0$$\n",
    "\n",
    "ลอง plot ดู เตรียม data แปป"
   ]
  },
  {
   "cell_type": "code",
   "execution_count": 454,
   "metadata": {
    "collapsed": true
   },
   "outputs": [],
   "source": [
    "exam1 = np.arange(25,105)\n",
    "exam2 = (25.16131863 - 0.20623159*exam1)/0.20147149"
   ]
  },
  {
   "cell_type": "code",
   "execution_count": 455,
   "metadata": {},
   "outputs": [
    {
     "data": {
      "image/png": "[encoded data removed]",
      "text/plain": [
       "<matplotlib.figure.Figure at 0x11fb47208>"
      ]
     },
     "metadata": {},
     "output_type": "display_data"
    }
   ],
   "source": [
    "plt.figure(figsize=(7,6))\n",
    "admitted     = plt.scatter(admitted_data.values[:,0], admitted_data.values[:,1], marker='+', color='black')\n",
    "not_admitted = plt.scatter(not_admitted_data.values[:,0], not_admitted_data.values[:,1], marker='o', color='y')\n",
    "decision_boundary = plt.plot(exam1,exam2)\n",
    "\n",
    "plt.legend((admitted, not_admitted),('Admitted', 'Not admitted'),scatterpoints=1,loc='upper right',ncol=1,fontsize=8)\n",
    "plt.xlabel('Exam 1 Score')\n",
    "plt.ylabel('Exam 2 Score')\n",
    "plt.show()"
   ]
  },
  {
   "cell_type": "markdown",
   "metadata": {},
   "source": [
    "## Predict\n",
    "เมื่อได้ parameter ของ decision boundary มาแล้ว นำมาทดลองทำนายผลว่าจะเป็น 0 หรือ 1 ดังนี้\n",
    "\n",
    "$\n",
    "h_{\\theta}(x) = g(z) = \\frac{1}{1 + e^{-z}}\n",
    "$\n",
    "\n",
    "เมื่อ $z = -25.16 + 0.206x_1 + 0.201x_2$\n",
    "\n",
    "ถ้า $z>0$ จะได้ว่า $g(z)$ ลู่เข้า 1 ตรงกันข้าม ถ้า $z<0$ จะได้ว่า $g(z)$ ลู่เข้า 0 "
   ]
  },
  {
   "cell_type": "code",
   "execution_count": 433,
   "metadata": {
    "collapsed": true
   },
   "outputs": [],
   "source": [
    "def predict(theta, X):  \n",
    "    z = X.dot(theta)\n",
    "    predict = z>=0\n",
    "    return predict"
   ]
  },
  {
   "cell_type": "code",
   "execution_count": 434,
   "metadata": {},
   "outputs": [
    {
     "name": "stdout",
     "output_type": "stream",
     "text": [
      "accuracy = 89%\n"
     ]
    }
   ],
   "source": [
    "theta_min = np.matrix(parameter).T\n",
    "predictions = predict(theta_min, X)\n",
    "correct = (yx == predictions)\n",
    "accuracy = sum(correct)[0,0]%len(correct)\n",
    "print('accuracy = {0}%'.format(accuracy))"
   ]
  }
 ],
 "metadata": {
  "kernelspec": {
   "display_name": "Python 3",
   "language": "python",
   "name": "python3"
  },
  "language_info": {
   "codemirror_mode": {
    "name": "ipython",
    "version": 3
   },
   "file_extension": ".py",
   "mimetype": "text/x-python",
   "name": "python",
   "nbconvert_exporter": "python",
   "pygments_lexer": "ipython3",
   "version": "3.6.3"
  }
 },
 "nbformat": 4,
 "nbformat_minor": 2
}
