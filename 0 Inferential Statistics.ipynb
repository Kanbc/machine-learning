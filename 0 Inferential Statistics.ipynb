{
 "cells": [
  {
   "cell_type": "markdown",
   "metadata": {},
   "source": [
    "# Inferential Statistics"
   ]
  },
  {
   "cell_type": "markdown",
   "metadata": {},
   "source": [
    "*Note : Lesson 1-7 คือส่วนของ Descriptive Statistic ส่วน Lesson 8-16 คือส่วนที่จะได้เรียนต่อไปนี้*"
   ]
  },
  {
   "cell_type": "markdown",
   "metadata": {},
   "source": [
    "<img src=\"img/83.png\" width=\"500\">"
   ]
  },
  {
   "cell_type": "markdown",
   "metadata": {},
   "source": [
    "## Lesson 7 : Introduction"
   ]
  },
  {
   "cell_type": "markdown",
   "metadata": {},
   "source": [
    "### Case ตัวอย่าง : Klout \n",
    "ปกติพอเราได้ข้อมูลเชิงปริมาณมา ก่อนอื่นเลยเราต้องหา \n",
    "1. Mean\n",
    "2. Standard Deviation (SD)\n",
    "3. Plot distribution\n",
    "\n",
    "ซึ่ง distribution อาจจะไม่เป็น normal สิ่งที่เราจะทำคือ\n",
    "1. สุ่ม sampling มาจำนวนหนึ่ง จากข้อมูลกลุ่มตัวอย่าง\n",
    "2. หา Mean ของ sampling แต่ละครั้งที่สุ่มมา\n",
    "3. สุดท้าย Plot Distribution ของ Mean ของ Sampling ที่สุ่มมา จะได้เป็น Normal Distribution\n",
    "4. ลองเอาไป Plot เทียบกันกับ Distribution ของกลุ่มตัวอย่าง"
   ]
  },
  {
   "cell_type": "markdown",
   "metadata": {},
   "source": [
    "<img src=\"img/84.png\" width=\"500\">"
   ]
  },
  {
   "cell_type": "markdown",
   "metadata": {},
   "source": [
    "5). แปลงปริมาณเป็น Z-score ให้หมด\n"
   ]
  },
  {
   "cell_type": "code",
   "execution_count": null,
   "metadata": {},
   "outputs": [],
   "source": []
  }
 ],
 "metadata": {
  "kernelspec": {
   "display_name": "Python 3",
   "language": "python",
   "name": "python3"
  },
  "language_info": {
   "codemirror_mode": {
    "name": "ipython",
    "version": 3
   },
   "file_extension": ".py",
   "mimetype": "text/x-python",
   "name": "python",
   "nbconvert_exporter": "python",
   "pygments_lexer": "ipython3",
   "version": "3.6.3"
  }
 },
 "nbformat": 4,
 "nbformat_minor": 2
}
