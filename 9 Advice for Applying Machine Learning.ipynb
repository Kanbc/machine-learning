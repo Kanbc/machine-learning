{
 "cells": [
  {
   "cell_type": "markdown",
   "metadata": {
    "collapsed": true
   },
   "source": [
    "# Evaluating a Hypothesis\n",
    "\n",
    "Once we have done some trouble shooting for errors in our predictions by:\n",
    "\n",
    "- Getting more training examples\n",
    "- Trying smaller sets of features\n",
    "- Trying additional features\n",
    "- Trying polynomial features\n",
    "- Increasing or decreasing λ\n",
    "\n",
    "We can move on to evaluate our new hypothesis.\n",
    "\n",
    "A hypothesis may have a low error for the training examples but still be inaccurate (because of overfitting). Thus, to evaluate a hypothesis, given a dataset of training examples, we can split up the data into two sets: a **training set** and a **test set**. Typically, the training set consists of 70% of your data and the test set is the remaining 30%.\n",
    "\n",
    "The new procedure using these two sets is then:\n",
    "1. Learn $\\Theta$ and minimize $J_{train}(\\Theta)$  using the training set\n",
    "2. Compute the test set error $J_{test}(\\Theta)$\n",
    "\n",
    "### The test set error\n",
    "\n",
    "1. For linear regression: $J_{test}(\\Theta) = \\dfrac{1}{2m_{test}} \\sum_{i=1}^{m_{test}}(h_\\Theta(x^{(i)}_{test}) - y^{(i)}_{test})^2$\n",
    "\n",
    "2. For classification ~ Misclassification error (aka 0/1 misclassification error):\n",
    "\n",
    "$$err(h_\\Theta(x),y) = \\begin{matrix} 1 & \\mbox{if } h_\\Theta(x) \\geq 0.5\\ and\\ y = 0\\ or\\ h_\\Theta(x) < 0.5\\ and\\ y = 1\\newline 0 & \\mbox otherwise \\end{matrix}$$\n",
    "\n",
    "This gives us a binary 0 or 1 error result based on a misclassification. The average test error for the test set is:\n",
    "\n",
    "$\\text{Test Error} = \\dfrac{1}{m_{test}} \\sum^{m_{test}}_{i=1} err(h_\\Theta(x^{(i)}_{test}), y^{(i)}_{test})$\n",
    "\n",
    "This gives us the proportion of the test data that was misclassified."
   ]
  },
  {
   "cell_type": "markdown",
   "metadata": {},
   "source": [
    "# Model Selection and Train/Validation/Test Sets\n",
    "\n",
    "Just because a learning algorithm fits a training set well, that does not mean it is a good hypothesis. It could over fit and as a result your predictions on the test set would be poor. The error of your hypothesis as measured on the data set with which you trained the parameters will be lower than the error on any other data set.\n",
    "\n",
    "Given many models with *different polynomial degrees*, we can use a systematic approach to identify the 'best' function. In order to **choose the model of your hypothesis**, you can test each degree of polynomial and look at the error result.\n",
    "\n",
    "One way to break down our dataset into the three sets is:\n",
    "- Training set: 60%\n",
    "- Cross validation set: 20%\n",
    "- Test set: 20%\n",
    "\n",
    "We can now calculate three separate error values for the three different sets using the following method:\n",
    "\n",
    "1. Optimize the parameters in $\\Theta$ using the **training set** for each polynomial degree.\n",
    "2. Find the polynomial degree d with the least error using the **cross validation set**.\n",
    "3. Estimate the *generalization error* using the **test set** with $J_{test}(\\Theta^{(d)})$, (d = theta from polynomial with lower error);\n",
    "\n",
    "This way, **the degree of the polynomial d has not been trained using the test set**."
   ]
  },
  {
   "cell_type": "code",
   "execution_count": null,
   "metadata": {
    "collapsed": true
   },
   "outputs": [],
   "source": []
  }
 ],
 "metadata": {
  "kernelspec": {
   "display_name": "Python 3",
   "language": "python",
   "name": "python3"
  },
  "language_info": {
   "codemirror_mode": {
    "name": "ipython",
    "version": 3
   },
   "file_extension": ".py",
   "mimetype": "text/x-python",
   "name": "python",
   "nbconvert_exporter": "python",
   "pygments_lexer": "ipython3",
   "version": "3.6.3"
  }
 },
 "nbformat": 4,
 "nbformat_minor": 2
}
