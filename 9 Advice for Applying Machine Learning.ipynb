{
 "cells": [
  {
   "cell_type": "markdown",
   "metadata": {
    "collapsed": true
   },
   "source": [
    "# Evaluating a Hypothesis\n",
    "\n",
    "Once we have done some trouble shooting for errors in our predictions by:\n",
    "\n",
    "- Getting more training examples\n",
    "- Trying smaller sets of features\n",
    "- Trying additional features\n",
    "- Trying polynomial features\n",
    "- Increasing or decreasing λ\n",
    "\n",
    "We can move on to evaluate our new hypothesis.\n",
    "\n",
    "A hypothesis may have a low error for the training examples but still be inaccurate (because of overfitting). Thus, to evaluate a hypothesis, given a dataset of training examples, we can split up the data into two sets: a **training set** and a **test set**. Typically, the training set consists of 70% of your data and the test set is the remaining 30%.\n",
    "\n",
    "The new procedure using these two sets is then:\n",
    "1. Learn $\\Theta$ and minimize $J_{train}(\\Theta)$  using the training set\n",
    "2. Compute the test set error $J_{test}(\\Theta)$\n",
    "\n",
    "### The test set error\n",
    "\n",
    "1. For linear regression: $J_{test}(\\Theta) = \\dfrac{1}{2m_{test}} \\sum_{i=1}^{m_{test}}(h_\\Theta(x^{(i)}_{test}) - y^{(i)}_{test})^2$\n",
    "\n",
    "2. For classification ~ Misclassification error (aka 0/1 misclassification error):\n",
    "\n",
    "$$err(h_\\Theta(x),y) = \\begin{matrix} 1 & \\mbox{if } h_\\Theta(x) \\geq 0.5\\ and\\ y = 0\\ or\\ h_\\Theta(x) < 0.5\\ and\\ y = 1\\newline 0 & \\mbox otherwise \\end{matrix}$$\n",
    "\n",
    "This gives us a binary 0 or 1 error result based on a misclassification. The average test error for the test set is:\n",
    "\n",
    "$\\text{Test Error} = \\dfrac{1}{m_{test}} \\sum^{m_{test}}_{i=1} err(h_\\Theta(x^{(i)}_{test}), y^{(i)}_{test})$\n",
    "\n",
    "This gives us the proportion of the test data that was misclassified."
   ]
  },
  {
   "cell_type": "markdown",
   "metadata": {},
   "source": [
    "# Model Selection and Train/Validation/Test Sets\n",
    "\n",
    "Just because a learning algorithm fits a training set well, that does not mean it is a good hypothesis. It could over fit and as a result your predictions on the test set would be poor. The error of your hypothesis as measured on the data set with which you trained the parameters will be lower than the error on any other data set.\n",
    "\n",
    "Given many models with *different polynomial degrees*, we can use a systematic approach to identify the 'best' function. In order to **choose the model of your hypothesis**, you can test each degree of polynomial and look at the error result.\n",
    "\n",
    "One way to break down our dataset into the three sets is:\n",
    "- Training set: 60%\n",
    "- Cross validation set: 20%\n",
    "- Test set: 20%\n",
    "\n",
    "We can now calculate three separate error values for the three different sets using the following method:\n",
    "\n",
    "1. Optimize the parameters in $\\Theta$ using the **training set** for each polynomial degree.\n",
    "2. Find the polynomial degree d with the least error using the **cross validation set**.\n",
    "3. Estimate the *generalization error* using the **test set** with $J_{test}(\\Theta^{(d)})$, (d = theta from polynomial with lower error);\n",
    "\n",
    "This way, **the degree of the polynomial d has not been trained using the test set**."
   ]
  },
  {
   "cell_type": "markdown",
   "metadata": {},
   "source": [
    "# Diagnosing Bias vs. Variance\n",
    "\n",
    "In this section we examine the relationship between the degree of the polynomial d and the underfitting or overfitting of our hypothesis.\n",
    "\n",
    "- We need to distinguish whether **bias** or **variance** is the problem contributing to bad predictions.\n",
    "- **High bias is underfitting** and **high variance is overfitting**. Ideally, we need to find a golden mean between these two.\n",
    "\n",
    "The training error will tend to **decrease** as we increase the degree d of the polynomial.\n",
    "\n",
    "At the same time, the cross validation error will tend to **decrease** as we increase d up to a point, and then it will **increase** as d is increased, forming a convex curve.\n",
    "\n",
    "**High bias (underfitting):** both $J_{train}(\\Theta)$ and $J_{CV}(\\Theta)$ will be high. Also,  $J_{CV}(\\Theta) \\approx J_{train}(\\Theta)$\n",
    "\n",
    "**High variance (overfitting):** $J_{train}(\\Theta)$ will be low and $J_{CV}(\\Theta)$ will be much greater than $J_{train}(\\Theta)$.\n",
    "\n",
    "The is summarized in the figure below:\n",
    "\n",
    "![](img/47.png)"
   ]
  },
  {
   "cell_type": "markdown",
   "metadata": {},
   "source": [
    "# Regularization and Bias/Variance\n",
    "\n",
    "**Note:** [The regularization term below and through out the video should be $\\frac \\lambda {2m} \\sum _{j=1}^n \\theta_j ^2$ and NOT $\\frac \\lambda {2m} \\sum _{j=1}^m \\theta_j ^2$]\n",
    "\n",
    "![](img/48.png)\n",
    "\n",
    "In the figure above, we see that as $\\lambda$ increases, our fit becomes more rigid. On the other hand, as $\\lambda$ approaches 0, we tend to over overfit the data. So how do we choose our parameter $\\lambda$ to get it 'just right' ? In order to choose the model and the regularization term $\\lambda$, we need to:\n",
    "\n",
    "1. Create a list of lambdas (i.e. $\\lambda \\in \\{0,0.01,0.02,0.04,0.08,0.16,0.32,0.64,1.28,2.56,5.12,10.24\\}$);\n",
    "2. Create a set of models with different degrees or any other variants.\n",
    "3. Iterate through the $\\lambda$s and for each $\\lambda$ go through all the models to learn some $\\Theta$.\n",
    "4. Compute the cross validation error using the learned $\\Theta$ (computed with $\\lambda$) on the $J_{CV}(\\Theta)$ **without** regularization or $\\lambda = 0$.\n",
    "5. Select the best combo that produces the lowest error on the cross validation set.\n",
    "6. Using the best combo $\\Theta$ and $\\lambda$, apply it on $J_{test}(\\Theta)$ to see if it has a good generalization of the problem.\n",
    "\n",
    "![](img/49.png)"
   ]
  },
  {
   "cell_type": "markdown",
   "metadata": {},
   "source": [
    "# Learning Curves (ใช้แยกว่าเป็นปัญหาเพราะ Bias or Variance)\n",
    "\n",
    "ขนาดของ Error เทียบกับ จำนวนข้อมูลที่ใช้ train m\n",
    "\n",
    "Training an algorithm on a very few number of data points (such as 1, 2 or 3) will easily have 0 errors because we can always find a quadratic curve that touches exactly those number of points. Hence:\n",
    "\n",
    "- As the training set gets larger, the error for a quadratic function increases.\n",
    "- The error value will plateau out after a certain m, or training set size.\n",
    "\n",
    "### Experiencing high bias:\n",
    "\n",
    "**Low training set size:** causes $J_{train}(\\Theta)$  to be low and $J_{CV}(\\Theta)$ to be high.\n",
    "\n",
    "**Large training set size:** causes both $J_{train}(\\Theta)$ and $J_{CV}(\\Theta)$ to be high with $J_{train}(\\Theta) \\approx J_{CV}(\\Theta)$.\n",
    "\n",
    "If a learning algorithm is suffering from **high bias**, getting more training data will not **(by itself)** help much. (ได้ data มาเยอะขึ้นก็ไม่ค่อยช่วยให้อะไรดีขึ้น)\n",
    "\n",
    "![](img/50.png)\n",
    "\n",
    "### Experiencing high variance:\n",
    "\n",
    "**Low training set size:** $J_{train}(\\Theta)$ will be low and $J_{CV}(\\Theta)$ will be high.\n",
    "\n",
    "**Large training set size:** $J_{train}(\\Theta)$ increases with training set size and $J_{CV}(\\Theta)$ continues to decrease without leveling off. Also, $J_{train}(\\Theta) < J_{CV}(\\Theta)$ but the difference between them remains significant.\n",
    "\n",
    "If a learning algorithm is suffering from **high variance**, getting more training data is likely to help. (ได้ data มาเยอะขึ้นจะช่วยได้)\n",
    "\n",
    "![](img/51.png)"
   ]
  },
  {
   "cell_type": "markdown",
   "metadata": {},
   "source": [
    "# Deciding What to Do Next Revisited\n",
    "\n",
    "Our decision process can be broken down as follows: สิ่งที่สามารถทำได้เมื่อ error จาก CV set หรือ Test set มันเยอะมากจนเกินรับไหว\n",
    "\n",
    "- **Getting more training examples:** Fixes high variance\n",
    "- **Trying smaller sets of features:** Fixes high variance\n",
    "- **Adding features:** Fixes high bias\n",
    "- **Adding polynomial features:** Fixes high bias\n",
    "- **Decreasing λ:** Fixes high bias\n",
    "- **Increasing λ:** Fixes high variance.\n",
    "\n",
    "### Diagnosing Neural Networks\n",
    "- A neural network with fewer parameters is **prone to underfitting**. It is also **computationally cheaper**.\n",
    "- A large neural network with more parameters is **prone to overfitting**. It is also **computationally expensive**. In this case you can use regularization (increase λ) to address the overfitting.\n",
    "\n",
    "Using a single hidden layer is a good starting default. You can train your neural network on a number of hidden layers using your cross validation set. You can then select the one that performs best.\n",
    "\n",
    "### Model Complexity Effects:\n",
    "\n",
    "- Lower-order polynomials (low model complexity) have high bias and low variance. In this case, the model fits poorly consistently.\n",
    "- Higher-order polynomials (high model complexity) fit the training data extremely well and the test data extremely poorly. These have low bias on the training data, but very high variance.\n",
    "- In reality, we would want to choose a model somewhere in between, that can generalize well but also fits the data reasonably well."
   ]
  },
  {
   "cell_type": "markdown",
   "metadata": {
    "collapsed": true
   },
   "source": [
    "# ================== CODE ==================="
   ]
  },
  {
   "cell_type": "code",
   "execution_count": 1,
   "metadata": {
    "collapsed": true
   },
   "outputs": [],
   "source": [
    "import numpy as np  \n",
    "import pandas as pd  \n",
    "import matplotlib.pyplot as plt  \n",
    "from scipy.io import loadmat\n",
    "\n",
    "# ข้อมูล การเปลี่ยนแปลงของระดับน้ำ x กับจำนวนของการไหลของน้ำออกจาก dam y\n",
    "data = loadmat('programing/machine-learning-ex5/ex5/ex5data1.mat')\n",
    "\n",
    "# training set 60%\n",
    "X = data['X']\n",
    "y = data['y']\n",
    "\n",
    "# cross validation set 20%\n",
    "Xval = data['Xval']\n",
    "yval = data['yval']\n",
    "\n",
    "# test set 20%\n",
    "Xtest = data['Xtest']\n",
    "ytest = data['ytest']"
   ]
  },
  {
   "cell_type": "code",
   "execution_count": 2,
   "metadata": {},
   "outputs": [
    {
     "data": {
      "text/plain": [
       "((12, 1), 12, 21, 21, 21, 21)"
      ]
     },
     "execution_count": 2,
     "metadata": {},
     "output_type": "execute_result"
    }
   ],
   "source": [
    "X.shape,len(y),len(Xtest),len(ytest),len(Xval),len(yval)"
   ]
  },
  {
   "cell_type": "markdown",
   "metadata": {},
   "source": [
    "### 1.1 Plot ข้อมูล"
   ]
  },
  {
   "cell_type": "code",
   "execution_count": 3,
   "metadata": {},
   "outputs": [
    {
     "data": {
      "image/png": "[encoded data removed]",
      "text/plain": [
       "<matplotlib.figure.Figure at 0x10a7e6cc0>"
      ]
     },
     "metadata": {},
     "output_type": "display_data"
    }
   ],
   "source": [
    "plt.scatter(X,y,marker='x')\n",
    "plt.xlabel('Change in water level (x)')\n",
    "plt.ylabel('Water flowing out of the dam (y)')\n",
    "plt.show()"
   ]
  },
  {
   "cell_type": "markdown",
   "metadata": {},
   "source": [
    "### 1.2 Regularized linear regression cost function "
   ]
  },
  {
   "cell_type": "code",
   "execution_count": 4,
   "metadata": {
    "collapsed": true
   },
   "outputs": [],
   "source": [
    "def linearRegCostFunction(theta,X,y,lamb):\n",
    "    theta = np.matrix(theta).T # n x 1\n",
    "    X = np.matrix(X) # m x n (รวม column 1 แล้ว)\n",
    "    y = np.matrix(y) # m x 1\n",
    "    m = len(y)\n",
    "    \n",
    "    h = (X).dot(theta)\n",
    "    first = (1/(2*m))*((h-y).T).dot(h-y)\n",
    "    second = (lamb/(2*m))*np.sum(np.power(theta[1:theta.shape[0],:], 2))\n",
    "    return (first + second)[0,0]"
   ]
  },
  {
   "cell_type": "markdown",
   "metadata": {},
   "source": [
    "ทดสอบ `costLinearRegression(theta,X,y,lamb)`\n",
    "\n",
    "โดยถ้า theta = [1 ; 1] this value should be about 303.993192"
   ]
  },
  {
   "cell_type": "code",
   "execution_count": 5,
   "metadata": {},
   "outputs": [
    {
     "data": {
      "text/plain": [
       "303.99319222026429"
      ]
     },
     "execution_count": 5,
     "metadata": {},
     "output_type": "execute_result"
    }
   ],
   "source": [
    "theta1 = np.matrix([1,1])\n",
    "m1 = len(y)\n",
    "ones1 = np.ones((m1,1))     # mx1\n",
    "X1 = np.hstack((ones1,X))   # mxn = mx2 \n",
    "J1 = linearRegCostFunction(theta1,X1,y,1)\n",
    "J1"
   ]
  },
  {
   "cell_type": "markdown",
   "metadata": {},
   "source": [
    "ถูกต้องตามต้องการ"
   ]
  },
  {
   "cell_type": "markdown",
   "metadata": {},
   "source": [
    "### 1.3 Regularized linear regression gradient"
   ]
  },
  {
   "cell_type": "code",
   "execution_count": 6,
   "metadata": {
    "collapsed": true
   },
   "outputs": [],
   "source": [
    "def linearRegGradFunction(theta,X,y,lamb):\n",
    "    theta = np.matrix(theta).T # n x 1\n",
    "    X = np.matrix(X) # m x n (รวม column 1 แล้ว)\n",
    "    y = np.matrix(y) # m x 1\n",
    "    m = len(y)\n",
    "    \n",
    "    h = X.dot(theta) # m x 1\n",
    "    left = (1/m)*(h-y).T.dot(X) # 1xn\n",
    "    grad = np.zeros((len(theta),1))\n",
    "    for j in range(len(theta)):\n",
    "        if j is not 0:\n",
    "            grad[j,0] = left[0,j] + (lamb/m)*theta[j,0]\n",
    "        else:\n",
    "            grad[j,0] = left[0,j]\n",
    "    return grad"
   ]
  },
  {
   "cell_type": "markdown",
   "metadata": {},
   "source": [
    "ทดสอบ\n",
    "\n",
    "โดยที่ถ้า Gradient at theta = [1 ; 1]: this value should be about [-15.303016; 598.250744]"
   ]
  },
  {
   "cell_type": "code",
   "execution_count": 7,
   "metadata": {},
   "outputs": [
    {
     "data": {
      "text/plain": [
       "array([[ -15.30301567],\n",
       "       [ 598.25074417]])"
      ]
     },
     "execution_count": 7,
     "metadata": {},
     "output_type": "execute_result"
    }
   ],
   "source": [
    "grad1 = linearRegGradFunction(theta1,X1,y,1)\n",
    "grad1"
   ]
  },
  {
   "cell_type": "markdown",
   "metadata": {},
   "source": [
    "ถูกต้องตามต้องการ"
   ]
  },
  {
   "cell_type": "markdown",
   "metadata": {},
   "source": [
    "### 1.4 Fitting linear regression (Training set)"
   ]
  },
  {
   "cell_type": "code",
   "execution_count": 8,
   "metadata": {},
   "outputs": [
    {
     "data": {
      "text/plain": [
       "array([ 13.08790394,   0.36777923])"
      ]
     },
     "execution_count": 8,
     "metadata": {},
     "output_type": "execute_result"
    }
   ],
   "source": [
    "import scipy.optimize as opt\n",
    "\n",
    "result2 = opt.fmin_tnc(func=linearRegCostFunction, x0=theta1, fprime=linearRegGradFunction, args=(X1, y, 0))  \n",
    "theta_min = result2[0]\n",
    "theta_min"
   ]
  },
  {
   "cell_type": "markdown",
   "metadata": {},
   "source": [
    "ลอง Plot ดู"
   ]
  },
  {
   "cell_type": "code",
   "execution_count": 9,
   "metadata": {},
   "outputs": [
    {
     "data": {
      "image/png": "[encoded data removed]",
      "text/plain": [
       "<matplotlib.figure.Figure at 0x1817c37470>"
      ]
     },
     "metadata": {},
     "output_type": "display_data"
    }
   ],
   "source": [
    "plt.scatter(X,y,marker='x')\n",
    "\n",
    "xest1 = range(-50,40)\n",
    "yest1 = theta_min[0] + theta_min[1]*xest1 \n",
    "\n",
    "plt.plot(xest1,yest1)\n",
    "plt.xlabel('Change in water level (x)')\n",
    "plt.ylabel('Water flowing out of the dam (y)')\n",
    "plt.show()"
   ]
  },
  {
   "cell_type": "markdown",
   "metadata": {},
   "source": [
    "# 2 Bias-variance\n",
    "\n",
    "หลังจากได้ Model มาแล้ว เราจะมาตรวจสอบความแม่นยำของ model กันด้วยการพิจารณา bias และ variance จากข้อมูล test set ดังนี้"
   ]
  },
  {
   "cell_type": "markdown",
   "metadata": {
    "collapsed": true
   },
   "source": [
    "### 2.1 Learning curves\n",
    "\n",
    "เป็นการ plot ข้อมูล train/test error กับจำนวนข้อมูล train (m) เพื่อดูว่ากราฟเป็นลักษณะของ overfitting หรือ underfitting จะได้แก้ปัญหาให้ตรงจุดต่อไป"
   ]
  },
  {
   "cell_type": "code",
   "execution_count": 70,
   "metadata": {
    "collapsed": true
   },
   "outputs": [],
   "source": [
    "def learningCurve(X,y,Xval,yval,lambd):\n",
    "    #  Number of training examples\n",
    "    m = len(y)\n",
    "    m2 = len(yval)\n",
    "    # Training set\n",
    "    X = np.matrix(X) # m x (n-1) \n",
    "    y = np.matrix(y) # m x 1\n",
    "    # Test set     \n",
    "    Xval = np.matrix(Xval) # m x (n-1)\n",
    "    yval = np.matrix(yval) # m x 1\n",
    "    \n",
    "    theta = np.matrix([1,1])  # nx1\n",
    "\n",
    "    ones_X = np.ones((m,1))   # mx1\n",
    "    X = np.hstack((ones_X,X)) # m x n (รวม column 1 แล้ว)\n",
    "    ones_Xval = np.ones((m2,1))\n",
    "    Xval = np.hstack((ones_Xval,Xval)) # m2 x n (รวม column 1 แล้ว)\n",
    "\n",
    "    # You need to return these values correctly\n",
    "    error_train = np.zeros(m)\n",
    "    error_val   = np.zeros(m)\n",
    "    \n",
    "    for i in range(m):\n",
    "        # Train to find theta (m is vary from 1 to m)       \n",
    "        result = opt.fmin_tnc(func=linearRegCostFunction, x0=theta, fprime=linearRegGradFunction, args=(X[0:i+1,:], y[0:i+1,:], 0.1))  \n",
    "        theta_min = result[0]\n",
    "        \n",
    "        # find Train Error พิจารณาแค่จุดที่เอามา train หา theta\n",
    "        error_train[i] = linearRegCostFunction(theta_min,X[0:i+1,:],y[0:i+1,:],0)\n",
    "        \n",
    "        # find CV Error พิจารณาข้อมูลทั้ง set\n",
    "        error_val[i] = linearRegCostFunction(theta_min,Xval,yval,0)\n",
    "        \n",
    "    \n",
    "    return pd.DataFrame({'train_error':error_train, 'CV_error':error_val})"
   ]
  },
  {
   "cell_type": "code",
   "execution_count": 71,
   "metadata": {},
   "outputs": [
    {
     "data": {
      "text/html": [
       "<div>\n",
       "<style>\n",
       "    .dataframe thead tr:only-child th {\n",
       "        text-align: right;\n",
       "    }\n",
       "\n",
       "    .dataframe thead th {\n",
       "        text-align: left;\n",
       "    }\n",
       "\n",
       "    .dataframe tbody tr th {\n",
       "        vertical-align: top;\n",
       "    }\n",
       "</style>\n",
       "<table border=\"1\" class=\"dataframe\">\n",
       "  <thead>\n",
       "    <tr style=\"text-align: right;\">\n",
       "      <th></th>\n",
       "      <th>CV_error</th>\n",
       "      <th>train_error</th>\n",
       "    </tr>\n",
       "  </thead>\n",
       "  <tbody>\n",
       "    <tr>\n",
       "      <th>0</th>\n",
       "      <td>138.846831</td>\n",
       "      <td>1.135589e-12</td>\n",
       "    </tr>\n",
       "    <tr>\n",
       "      <th>1</th>\n",
       "      <td>110.335412</td>\n",
       "      <td>1.510239e-07</td>\n",
       "    </tr>\n",
       "    <tr>\n",
       "      <th>2</th>\n",
       "      <td>45.006405</td>\n",
       "      <td>3.286595e+00</td>\n",
       "    </tr>\n",
       "    <tr>\n",
       "      <th>3</th>\n",
       "      <td>48.365914</td>\n",
       "      <td>2.842678e+00</td>\n",
       "    </tr>\n",
       "    <tr>\n",
       "      <th>4</th>\n",
       "      <td>35.864502</td>\n",
       "      <td>1.315405e+01</td>\n",
       "    </tr>\n",
       "    <tr>\n",
       "      <th>5</th>\n",
       "      <td>33.829230</td>\n",
       "      <td>1.944396e+01</td>\n",
       "    </tr>\n",
       "    <tr>\n",
       "      <th>6</th>\n",
       "      <td>31.970442</td>\n",
       "      <td>2.009852e+01</td>\n",
       "    </tr>\n",
       "    <tr>\n",
       "      <th>7</th>\n",
       "      <td>30.862063</td>\n",
       "      <td>1.817286e+01</td>\n",
       "    </tr>\n",
       "    <tr>\n",
       "      <th>8</th>\n",
       "      <td>31.135682</td>\n",
       "      <td>2.260941e+01</td>\n",
       "    </tr>\n",
       "    <tr>\n",
       "      <th>9</th>\n",
       "      <td>28.936104</td>\n",
       "      <td>2.326146e+01</td>\n",
       "    </tr>\n",
       "    <tr>\n",
       "      <th>10</th>\n",
       "      <td>29.551393</td>\n",
       "      <td>2.431725e+01</td>\n",
       "    </tr>\n",
       "    <tr>\n",
       "      <th>11</th>\n",
       "      <td>29.433754</td>\n",
       "      <td>2.237391e+01</td>\n",
       "    </tr>\n",
       "  </tbody>\n",
       "</table>\n",
       "</div>"
      ],
      "text/plain": [
       "      CV_error   train_error\n",
       "0   138.846831  1.135589e-12\n",
       "1   110.335412  1.510239e-07\n",
       "2    45.006405  3.286595e+00\n",
       "3    48.365914  2.842678e+00\n",
       "4    35.864502  1.315405e+01\n",
       "5    33.829230  1.944396e+01\n",
       "6    31.970442  2.009852e+01\n",
       "7    30.862063  1.817286e+01\n",
       "8    31.135682  2.260941e+01\n",
       "9    28.936104  2.326146e+01\n",
       "10   29.551393  2.431725e+01\n",
       "11   29.433754  2.237391e+01"
      ]
     },
     "execution_count": 71,
     "metadata": {},
     "output_type": "execute_result"
    }
   ],
   "source": [
    "leaningData = learningCurve(X,y,Xval,yval,1)\n",
    "leaningData"
   ]
  },
  {
   "cell_type": "markdown",
   "metadata": {},
   "source": [
    "ลอง plot เปรียบเทียบ CV error กับ Train Error ดูเพื่อพิจารณาชนิดปัญหา (bias or variance)"
   ]
  },
  {
   "cell_type": "code",
   "execution_count": 74,
   "metadata": {},
   "outputs": [
    {
     "data": {
      "image/png": "[encoded data removed]",
      "text/plain": [
       "<matplotlib.figure.Figure at 0x181922d6a0>"
      ]
     },
     "metadata": {},
     "output_type": "display_data"
    }
   ],
   "source": [
    "a = range(1,len(leaningData['train_error'])+1)\n",
    "b = leaningData['train_error']\n",
    "c = leaningData['CV_error']\n",
    "plt.plot(a,b)\n",
    "plt.plot(a,c)\n",
    "plt.ylabel(\"Error\")\n",
    "plt.xlabel(\"Number of training examples\")\n",
    "plt.legend()\n",
    "plt.show()"
   ]
  },
  {
   "cell_type": "markdown",
   "metadata": {},
   "source": [
    "จากรูปที่เห็น จะเห็นว่าเป็นลักษณะของปัญหาแบบ **high bias** เพราะ train_error เยอะดูเป็นปัญหา underfitting และ $J_{train}(\\Theta) \\approx J_{CV}(\\Theta)$ ที่ m เยอะๆ\n",
    "\n",
    "ดังนั้นในข้อถัดไปเราจะเลือกทำวิธีที่จะช่วยให้ fit model ที่มีปัญหา high bias ได้ดีขึ้น"
   ]
  },
  {
   "cell_type": "markdown",
   "metadata": {},
   "source": [
    "# 3 Polynomial regression\n",
    "จากข้อที่แล้ว แสดงว่า model เรามีปัญหา high bias ดังนั้นวิธีแก้ที่ทำให้ model มีประสิทธิภาพสูงขึ้นอาจจะทำได้โดย\n",
    "1. **Adding features:** \n",
    "2. **Adding polynomial features:**\n",
    "3. **Decreasing λ:** \n",
    "\n",
    "ซึ่งข้อ 1 ไม่สามารถทำได้เพราะข้อมูลมีแค่ระดับน้ำอย่างเดียว ข้อ 3 ก็ไม่น่าทำเพราะ lambda เราก็น้อย ไม่ได้เยอะเลย ดังนั้นที่น่าทำคือ ข้อ 2 เพิ่มอันดับ polynomial ให้เยอะขึ้น ดังนั้นปัญหาถัดไปคือเราจะเลือกใช้ polynomail ลำดับเท่าไหร่ดีสำหรับ model นี้"
   ]
  },
  {
   "cell_type": "markdown",
   "metadata": {},
   "source": [
    "จะได้ว่า\n",
    "\n",
    "$h_{\\theta}(x) = \\theta_0 + \\theta_1 * (waterLevel) + \\theta_2 * (waterLevel)^{2} + \\cdots + \\theta_p * (waterLevel)^{p}$\n",
    "\n",
    "$h_{\\theta}(x) = \\theta_0 + \\theta_1x_1 + \\theta_2x_2 + \\cdots + \\theta_px_p$\n",
    "\n",
    "ดังนั้นเราต้องทำ function ที่ใส่ค่า $X$ กับ order (p) เข้าไปแล้ว คืนออกมาเป็น $X = x_1,x_2,...,x_p$ โดยที่ $x_j = (waterLevel)^j$"
   ]
  },
  {
   "cell_type": "code",
   "execution_count": 90,
   "metadata": {},
   "outputs": [],
   "source": [
    "def polyFeatures(X,p):\n",
    "    X = np.matrix(X) # X in mx1\n",
    "    X_poly = X[:] # mx1\n",
    "    for i in range(2,p+1):\n",
    "        X_poly = np.hstack((X_poly,np.power(X,i))) # mxp\n",
    "    \n",
    "    return X_poly"
   ]
  },
  {
   "cell_type": "markdown",
   "metadata": {},
   "source": [
    "ตัวอย่าง ที่ p = 3 จะได้ polynomail ของ X คือ"
   ]
  },
  {
   "cell_type": "code",
   "execution_count": 92,
   "metadata": {},
   "outputs": [
    {
     "data": {
      "text/plain": [
       "matrix([[ -1.59367581e+01,   2.53980260e+02,  -4.04762197e+03],\n",
       "        [ -2.91529792e+01,   8.49896197e+02,  -2.47770062e+04],\n",
       "        [  3.61895486e+01,   1.30968343e+03,   4.73968522e+04],\n",
       "        [  3.74921873e+01,   1.40566411e+03,   5.27014222e+04],\n",
       "        [ -4.80588295e+01,   2.30965109e+03,  -1.10999128e+05],\n",
       "        [ -8.94145794e+00,   7.99496701e+01,  -7.14866612e+02],\n",
       "        [  1.53077929e+01,   2.34328523e+02,   3.58705250e+03],\n",
       "        [ -3.47062658e+01,   1.20452489e+03,  -4.18045609e+04],\n",
       "        [  1.38915437e+00,   1.92974986e+00,   2.68072045e+00],\n",
       "        [ -4.43837599e+01,   1.96991814e+03,  -8.74323736e+04],\n",
       "        [  7.01350208e+00,   4.91892115e+01,   3.44988637e+02],\n",
       "        [  2.27627489e+01,   5.18142738e+02,   1.17943531e+04]])"
      ]
     },
     "execution_count": 92,
     "metadata": {},
     "output_type": "execute_result"
    }
   ],
   "source": [
    "polyFeatures(X,3)"
   ]
  },
  {
   "cell_type": "markdown",
   "metadata": {},
   "source": [
    "### 3.1 Learning Polynomial Regression\n",
    "ปัญหาในข้อนี้คือ การเลือกอันดับของแบบจำลอง model ว่าจะใช้ที่ p เท่าไหร่ดี ไม่ให้ bias และ variance จนเกินไป \n",
    "\n",
    "สมมติ ถ้า $x_8 = 40^8 = 6.5x10^{12} $ ซึ่งมีค่าเยอะมากๆเมื่อเทียบกับ $x_1$ ดังนั้นเราต้องใช้ feature normalization\n",
    "\n",
    "#### Standardization\n",
    "สมมติเรามี features หลายตัวเป็น vector $x_1,x_2,\\cdots,x_n$ (ความยาวเวกเตอร์คือจำนวนจุดของข้อมูลที่เรามี) โดยที่แต่ละตัวเป็นค่าคนละอย่างเช่น $x_1$ อาจจะเป็นค่า audio signals, $x_2$ เป็นค่า pixel values for image data หรืออื่นๆ การใช้วิธีการนี้จะทำให้เราเปรียบเทียบค่าคนละชนิดกันได้ ดูว่าค่านั้นห่างจาก mean เท่าไหร่ (ดังนั้นเวลาหา mean, std ต้องแยกคิดทีละ column ตามแต่ละชนิดข้อมูล)\n",
    "\n",
    "$$x^{'} = \\frac{x-\\bar{x}}{\\sigma}$$\n",
    "\n",
    "Where \n",
    "- $x$ is the original feature vector, \n",
    "- $\\bar{x}$ is the mean of that feature vector\n",
    "- $\\sigma$ is its standard deviation of that feature vector."
   ]
  },
  {
   "cell_type": "code",
   "execution_count": 122,
   "metadata": {},
   "outputs": [],
   "source": [
    "def featureNormalize(X):\n",
    "    # X mxn\n",
    "    mu = np.mean(X,axis=0) # 1xn\n",
    "    sigma = np.std(X,axis=0,ddof=1) # 1xn\n",
    "    X_norm = (X-mu)/sigma\n",
    "\n",
    "    return np.matrix([X_norm,mu,sigma])"
   ]
  },
  {
   "cell_type": "markdown",
   "metadata": {},
   "source": [
    "จากนี้จะเป็น function สำหรับเลือก order ของ model (เอาที่ทำให้ CV error ต่ำสุด) พิจารณาที่ $\\lambda = 0$"
   ]
  },
  {
   "cell_type": "code",
   "execution_count": 132,
   "metadata": {},
   "outputs": [],
   "source": [
    "def optimalDegree(X,y,Xval,yval,p):\n",
    "    #  Number of training examples\n",
    "    m = len(y)\n",
    "    m2 = len(yval)\n",
    "    # Training set\n",
    "    X = np.matrix(X) # m x (n-1) \n",
    "    y = np.matrix(y) # m x 1\n",
    "    # Test set     \n",
    "    Xval = np.matrix(Xval) # m x (n-1)\n",
    "    yval = np.matrix(yval) # m x 1\n",
    "    \n",
    "    # You need to return these values correctly\n",
    "    error_train = np.zeros(m)\n",
    "    error_val   = np.zeros(m)\n",
    "    \n",
    "    for i in range(1,p+1):\n",
    "        X = polyFeatures(X,i)\n",
    "        X = featureNormalize(X)[0,0]\n",
    "        ones_X = np.ones((m,1))   # mx1\n",
    "        X = np.hstack((ones_X,X)) # m x n (รวม column 1 แล้ว)\n",
    "        \n",
    "        Xval = polyFeatures(Xval,i)\n",
    "        Xval = featureNormalize(Xval)[0,0]\n",
    "        ones_Xval = np.ones((m2,1))\n",
    "        Xval = np.hstack((ones_Xval,Xval)) # m2 x n (รวม column 1 แล้ว)\n",
    "\n",
    "        theta = np.ones(X.shape[1])  # nx1\n",
    "        \n",
    "        # Train to find theta (m is vary from 1 to m)       \n",
    "        result = opt.fmin_tnc(func=linearRegCostFunction, x0=theta, fprime=linearRegGradFunction, args=(X, y, 0.1))  \n",
    "        theta_min = result[0]\n",
    "        \n",
    "        # find Train Error พิจารณาแค่จุดที่เอามา train หา theta\n",
    "        error_train[i] = linearRegCostFunction(theta_min,X,y,0)\n",
    "        \n",
    "        # find CV Error พิจารณาข้อมูลทั้ง set\n",
    "        error_val[i] = linearRegCostFunction(theta_min,Xval,yval,0)\n",
    "        \n",
    "    \n",
    "    return pd.DataFrame({'train_error':error_train, 'CV_error':error_val})"
   ]
  },
  {
   "cell_type": "code",
   "execution_count": 133,
   "metadata": {},
   "outputs": [
    {
     "name": "stderr",
     "output_type": "stream",
     "text": [
      "/anaconda3/lib/python3.6/site-packages/ipykernel_launcher.py:5: RuntimeWarning: invalid value encountered in true_divide\n",
      "  \"\"\"\n"
     ]
    },
    {
     "ename": "KeyboardInterrupt",
     "evalue": "",
     "output_type": "error",
     "traceback": [
      "\u001b[0;31m---------------------------------------------------------------------------\u001b[0m",
      "\u001b[0;31mKeyboardInterrupt\u001b[0m                         Traceback (most recent call last)",
      "\u001b[0;32m<ipython-input-133-7337327f092b>\u001b[0m in \u001b[0;36m<module>\u001b[0;34m()\u001b[0m\n\u001b[0;32m----> 1\u001b[0;31m \u001b[0mdegreeData\u001b[0m \u001b[0;34m=\u001b[0m \u001b[0moptimalDegree\u001b[0m\u001b[0;34m(\u001b[0m\u001b[0mX\u001b[0m\u001b[0;34m,\u001b[0m\u001b[0my\u001b[0m\u001b[0;34m,\u001b[0m\u001b[0mXval\u001b[0m\u001b[0;34m,\u001b[0m\u001b[0myval\u001b[0m\u001b[0;34m,\u001b[0m\u001b[0;36m10\u001b[0m\u001b[0;34m)\u001b[0m\u001b[0;34m\u001b[0m\u001b[0m\n\u001b[0m\u001b[1;32m      2\u001b[0m \u001b[0mdegreeData\u001b[0m\u001b[0;34m\u001b[0m\u001b[0m\n",
      "\u001b[0;32m<ipython-input-132-b415ca643564>\u001b[0m in \u001b[0;36moptimalDegree\u001b[0;34m(X, y, Xval, yval, p)\u001b[0m\n\u001b[1;32m     28\u001b[0m \u001b[0;34m\u001b[0m\u001b[0m\n\u001b[1;32m     29\u001b[0m         \u001b[0;31m# Train to find theta (m is vary from 1 to m)\u001b[0m\u001b[0;34m\u001b[0m\u001b[0;34m\u001b[0m\u001b[0m\n\u001b[0;32m---> 30\u001b[0;31m         \u001b[0mresult\u001b[0m \u001b[0;34m=\u001b[0m \u001b[0mopt\u001b[0m\u001b[0;34m.\u001b[0m\u001b[0mfmin_tnc\u001b[0m\u001b[0;34m(\u001b[0m\u001b[0mfunc\u001b[0m\u001b[0;34m=\u001b[0m\u001b[0mlinearRegCostFunction\u001b[0m\u001b[0;34m,\u001b[0m \u001b[0mx0\u001b[0m\u001b[0;34m=\u001b[0m\u001b[0mtheta\u001b[0m\u001b[0;34m,\u001b[0m \u001b[0mfprime\u001b[0m\u001b[0;34m=\u001b[0m\u001b[0mlinearRegGradFunction\u001b[0m\u001b[0;34m,\u001b[0m \u001b[0margs\u001b[0m\u001b[0;34m=\u001b[0m\u001b[0;34m(\u001b[0m\u001b[0mX\u001b[0m\u001b[0;34m,\u001b[0m \u001b[0my\u001b[0m\u001b[0;34m,\u001b[0m \u001b[0;36m0.1\u001b[0m\u001b[0;34m)\u001b[0m\u001b[0;34m)\u001b[0m\u001b[0;34m\u001b[0m\u001b[0m\n\u001b[0m\u001b[1;32m     31\u001b[0m         \u001b[0mtheta_min\u001b[0m \u001b[0;34m=\u001b[0m \u001b[0mresult\u001b[0m\u001b[0;34m[\u001b[0m\u001b[0;36m0\u001b[0m\u001b[0;34m]\u001b[0m\u001b[0;34m\u001b[0m\u001b[0m\n\u001b[1;32m     32\u001b[0m \u001b[0;34m\u001b[0m\u001b[0m\n",
      "\u001b[0;32m/anaconda3/lib/python3.6/site-packages/scipy/optimize/tnc.py\u001b[0m in \u001b[0;36mfmin_tnc\u001b[0;34m(func, x0, fprime, args, approx_grad, bounds, epsilon, scale, offset, messages, maxCGit, maxfun, eta, stepmx, accuracy, fmin, ftol, xtol, pgtol, rescale, disp, callback)\u001b[0m\n\u001b[1;32m    273\u001b[0m             'disp': False}\n\u001b[1;32m    274\u001b[0m \u001b[0;34m\u001b[0m\u001b[0m\n\u001b[0;32m--> 275\u001b[0;31m     \u001b[0mres\u001b[0m \u001b[0;34m=\u001b[0m \u001b[0m_minimize_tnc\u001b[0m\u001b[0;34m(\u001b[0m\u001b[0mfun\u001b[0m\u001b[0;34m,\u001b[0m \u001b[0mx0\u001b[0m\u001b[0;34m,\u001b[0m \u001b[0margs\u001b[0m\u001b[0;34m,\u001b[0m \u001b[0mjac\u001b[0m\u001b[0;34m,\u001b[0m \u001b[0mbounds\u001b[0m\u001b[0;34m,\u001b[0m \u001b[0mcallback\u001b[0m\u001b[0;34m=\u001b[0m\u001b[0mcallback\u001b[0m\u001b[0;34m,\u001b[0m \u001b[0;34m**\u001b[0m\u001b[0mopts\u001b[0m\u001b[0;34m)\u001b[0m\u001b[0;34m\u001b[0m\u001b[0m\n\u001b[0m\u001b[1;32m    276\u001b[0m \u001b[0;34m\u001b[0m\u001b[0m\n\u001b[1;32m    277\u001b[0m     \u001b[0;32mreturn\u001b[0m \u001b[0mres\u001b[0m\u001b[0;34m[\u001b[0m\u001b[0;34m'x'\u001b[0m\u001b[0;34m]\u001b[0m\u001b[0;34m,\u001b[0m \u001b[0mres\u001b[0m\u001b[0;34m[\u001b[0m\u001b[0;34m'nfev'\u001b[0m\u001b[0;34m]\u001b[0m\u001b[0;34m,\u001b[0m \u001b[0mres\u001b[0m\u001b[0;34m[\u001b[0m\u001b[0;34m'status'\u001b[0m\u001b[0;34m]\u001b[0m\u001b[0;34m\u001b[0m\u001b[0m\n",
      "\u001b[0;32m/anaconda3/lib/python3.6/site-packages/scipy/optimize/tnc.py\u001b[0m in \u001b[0;36m_minimize_tnc\u001b[0;34m(fun, x0, args, jac, bounds, eps, scale, offset, mesg_num, maxCGit, maxiter, eta, stepmx, accuracy, minfev, ftol, xtol, gtol, rescale, disp, callback, **unknown_options)\u001b[0m\n\u001b[1;32m    407\u001b[0m                                         \u001b[0moffset\u001b[0m\u001b[0;34m,\u001b[0m \u001b[0mmessages\u001b[0m\u001b[0;34m,\u001b[0m \u001b[0mmaxCGit\u001b[0m\u001b[0;34m,\u001b[0m \u001b[0mmaxfun\u001b[0m\u001b[0;34m,\u001b[0m\u001b[0;34m\u001b[0m\u001b[0m\n\u001b[1;32m    408\u001b[0m                                         \u001b[0meta\u001b[0m\u001b[0;34m,\u001b[0m \u001b[0mstepmx\u001b[0m\u001b[0;34m,\u001b[0m \u001b[0maccuracy\u001b[0m\u001b[0;34m,\u001b[0m \u001b[0mfmin\u001b[0m\u001b[0;34m,\u001b[0m \u001b[0mftol\u001b[0m\u001b[0;34m,\u001b[0m\u001b[0;34m\u001b[0m\u001b[0m\n\u001b[0;32m--> 409\u001b[0;31m                                         xtol, pgtol, rescale, callback)\n\u001b[0m\u001b[1;32m    410\u001b[0m \u001b[0;34m\u001b[0m\u001b[0m\n\u001b[1;32m    411\u001b[0m     \u001b[0mfunv\u001b[0m\u001b[0;34m,\u001b[0m \u001b[0mjacv\u001b[0m \u001b[0;34m=\u001b[0m \u001b[0mfunc_and_grad\u001b[0m\u001b[0;34m(\u001b[0m\u001b[0mx\u001b[0m\u001b[0;34m)\u001b[0m\u001b[0;34m\u001b[0m\u001b[0m\n",
      "\u001b[0;32m/anaconda3/lib/python3.6/site-packages/scipy/optimize/tnc.py\u001b[0m in \u001b[0;36mfunc_and_grad\u001b[0;34m(x)\u001b[0m\n\u001b[1;32m    370\u001b[0m         \u001b[0;32mdef\u001b[0m \u001b[0mfunc_and_grad\u001b[0m\u001b[0;34m(\u001b[0m\u001b[0mx\u001b[0m\u001b[0;34m)\u001b[0m\u001b[0;34m:\u001b[0m\u001b[0;34m\u001b[0m\u001b[0m\n\u001b[1;32m    371\u001b[0m             \u001b[0mf\u001b[0m \u001b[0;34m=\u001b[0m \u001b[0mfun\u001b[0m\u001b[0;34m(\u001b[0m\u001b[0mx\u001b[0m\u001b[0;34m,\u001b[0m \u001b[0;34m*\u001b[0m\u001b[0margs\u001b[0m\u001b[0;34m)\u001b[0m\u001b[0;34m\u001b[0m\u001b[0m\n\u001b[0;32m--> 372\u001b[0;31m             \u001b[0mg\u001b[0m \u001b[0;34m=\u001b[0m \u001b[0mjac\u001b[0m\u001b[0;34m(\u001b[0m\u001b[0mx\u001b[0m\u001b[0;34m,\u001b[0m \u001b[0;34m*\u001b[0m\u001b[0margs\u001b[0m\u001b[0;34m)\u001b[0m\u001b[0;34m\u001b[0m\u001b[0m\n\u001b[0m\u001b[1;32m    373\u001b[0m             \u001b[0;32mreturn\u001b[0m \u001b[0mf\u001b[0m\u001b[0;34m,\u001b[0m \u001b[0mg\u001b[0m\u001b[0;34m\u001b[0m\u001b[0m\n\u001b[1;32m    374\u001b[0m \u001b[0;34m\u001b[0m\u001b[0m\n",
      "\u001b[0;32m<ipython-input-6-be883d74726c>\u001b[0m in \u001b[0;36mlinearRegGradFunction\u001b[0;34m(theta, X, y, lamb)\u001b[0m\n\u001b[1;32m     10\u001b[0m     \u001b[0;32mfor\u001b[0m \u001b[0mj\u001b[0m \u001b[0;32min\u001b[0m \u001b[0mrange\u001b[0m\u001b[0;34m(\u001b[0m\u001b[0mlen\u001b[0m\u001b[0;34m(\u001b[0m\u001b[0mtheta\u001b[0m\u001b[0;34m)\u001b[0m\u001b[0;34m)\u001b[0m\u001b[0;34m:\u001b[0m\u001b[0;34m\u001b[0m\u001b[0m\n\u001b[1;32m     11\u001b[0m         \u001b[0;32mif\u001b[0m \u001b[0mj\u001b[0m \u001b[0;32mis\u001b[0m \u001b[0;32mnot\u001b[0m \u001b[0;36m0\u001b[0m\u001b[0;34m:\u001b[0m\u001b[0;34m\u001b[0m\u001b[0m\n\u001b[0;32m---> 12\u001b[0;31m             \u001b[0mgrad\u001b[0m\u001b[0;34m[\u001b[0m\u001b[0mj\u001b[0m\u001b[0;34m,\u001b[0m\u001b[0;36m0\u001b[0m\u001b[0;34m]\u001b[0m \u001b[0;34m=\u001b[0m \u001b[0mleft\u001b[0m\u001b[0;34m[\u001b[0m\u001b[0;36m0\u001b[0m\u001b[0;34m,\u001b[0m\u001b[0mj\u001b[0m\u001b[0;34m]\u001b[0m \u001b[0;34m+\u001b[0m \u001b[0;34m(\u001b[0m\u001b[0mlamb\u001b[0m\u001b[0;34m/\u001b[0m\u001b[0mm\u001b[0m\u001b[0;34m)\u001b[0m\u001b[0;34m*\u001b[0m\u001b[0mtheta\u001b[0m\u001b[0;34m[\u001b[0m\u001b[0mj\u001b[0m\u001b[0;34m,\u001b[0m\u001b[0;36m0\u001b[0m\u001b[0;34m]\u001b[0m\u001b[0;34m\u001b[0m\u001b[0m\n\u001b[0m\u001b[1;32m     13\u001b[0m         \u001b[0;32melse\u001b[0m\u001b[0;34m:\u001b[0m\u001b[0;34m\u001b[0m\u001b[0m\n\u001b[1;32m     14\u001b[0m             \u001b[0mgrad\u001b[0m\u001b[0;34m[\u001b[0m\u001b[0mj\u001b[0m\u001b[0;34m,\u001b[0m\u001b[0;36m0\u001b[0m\u001b[0;34m]\u001b[0m \u001b[0;34m=\u001b[0m \u001b[0mleft\u001b[0m\u001b[0;34m[\u001b[0m\u001b[0;36m0\u001b[0m\u001b[0;34m,\u001b[0m\u001b[0mj\u001b[0m\u001b[0;34m]\u001b[0m\u001b[0;34m\u001b[0m\u001b[0m\n",
      "\u001b[0;32m/anaconda3/lib/python3.6/site-packages/numpy/matrixlib/defmatrix.py\u001b[0m in \u001b[0;36m__getitem__\u001b[0;34m(self, index)\u001b[0m\n\u001b[1;32m    282\u001b[0m \u001b[0;34m\u001b[0m\u001b[0m\n\u001b[1;32m    283\u001b[0m         \u001b[0;32mtry\u001b[0m\u001b[0;34m:\u001b[0m\u001b[0;34m\u001b[0m\u001b[0m\n\u001b[0;32m--> 284\u001b[0;31m             \u001b[0mout\u001b[0m \u001b[0;34m=\u001b[0m \u001b[0mN\u001b[0m\u001b[0;34m.\u001b[0m\u001b[0mndarray\u001b[0m\u001b[0;34m.\u001b[0m\u001b[0m__getitem__\u001b[0m\u001b[0;34m(\u001b[0m\u001b[0mself\u001b[0m\u001b[0;34m,\u001b[0m \u001b[0mindex\u001b[0m\u001b[0;34m)\u001b[0m\u001b[0;34m\u001b[0m\u001b[0m\n\u001b[0m\u001b[1;32m    285\u001b[0m         \u001b[0;32mfinally\u001b[0m\u001b[0;34m:\u001b[0m\u001b[0;34m\u001b[0m\u001b[0m\n\u001b[1;32m    286\u001b[0m             \u001b[0mself\u001b[0m\u001b[0;34m.\u001b[0m\u001b[0m_getitem\u001b[0m \u001b[0;34m=\u001b[0m \u001b[0;32mFalse\u001b[0m\u001b[0;34m\u001b[0m\u001b[0m\n",
      "\u001b[0;31mKeyboardInterrupt\u001b[0m: "
     ]
    }
   ],
   "source": [
    "degreeData = optimalDegree(X,y,Xval,yval,10)\n",
    "degreeData"
   ]
  },
  {
   "cell_type": "code",
   "execution_count": 112,
   "metadata": {},
   "outputs": [
    {
     "data": {
      "text/plain": [
       "matrix([[-0.80064077, -1.        , -1.        ],\n",
       "        [-0.32025631,  0.        ,  1.        ],\n",
       "        [ 1.12089708,  1.        ,  0.        ]])"
      ]
     },
     "execution_count": 112,
     "metadata": {},
     "output_type": "execute_result"
    }
   ],
   "source": [
    "(a - np.mean(a,axis=0))/np.std(a,axis=0,ddof=1)"
   ]
  },
  {
   "cell_type": "code",
   "execution_count": 129,
   "metadata": {},
   "outputs": [
    {
     "data": {
      "text/plain": [
       "(12, 1)"
      ]
     },
     "execution_count": 129,
     "metadata": {},
     "output_type": "execute_result"
    }
   ],
   "source": [
    "np.ones((12,1)).shape"
   ]
  },
  {
   "cell_type": "code",
   "execution_count": null,
   "metadata": {
    "collapsed": true
   },
   "outputs": [],
   "source": []
  }
 ],
 "metadata": {
  "kernelspec": {
   "display_name": "Python 3",
   "language": "python",
   "name": "python3"
  },
  "language_info": {
   "codemirror_mode": {
    "name": "ipython",
    "version": 3
   },
   "file_extension": ".py",
   "mimetype": "text/x-python",
   "name": "python",
   "nbconvert_exporter": "python",
   "pygments_lexer": "ipython3",
   "version": "3.6.3"
  }
 },
 "nbformat": 4,
 "nbformat_minor": 2
}
