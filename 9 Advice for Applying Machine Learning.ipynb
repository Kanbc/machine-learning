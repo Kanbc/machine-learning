{
 "cells": [
  {
   "cell_type": "markdown",
   "metadata": {
    "collapsed": true
   },
   "source": [
    "# Evaluating a Hypothesis\n",
    "\n",
    "Once we have done some trouble shooting for errors in our predictions by:\n",
    "\n",
    "- Getting more training examples\n",
    "- Trying smaller sets of features\n",
    "- Trying additional features\n",
    "- Trying polynomial features\n",
    "- Increasing or decreasing λ\n",
    "\n",
    "We can move on to evaluate our new hypothesis.\n",
    "\n",
    "A hypothesis may have a low error for the training examples but still be inaccurate (because of overfitting). Thus, to evaluate a hypothesis, given a dataset of training examples, we can split up the data into two sets: a **training set** and a **test set**. Typically, the training set consists of 70% of your data and the test set is the remaining 30%.\n",
    "\n",
    "The new procedure using these two sets is then:\n",
    "1. Learn $\\Theta$ and minimize $J_{train}(\\Theta)$  using the training set\n",
    "2. Compute the test set error $J_{test}(\\Theta)$\n",
    "\n",
    "### The test set error\n",
    "\n",
    "1. For linear regression: $J_{test}(\\Theta) = \\dfrac{1}{2m_{test}} \\sum_{i=1}^{m_{test}}(h_\\Theta(x^{(i)}_{test}) - y^{(i)}_{test})^2$\n",
    "\n",
    "2. For classification ~ Misclassification error (aka 0/1 misclassification error):\n",
    "\n",
    "$$err(h_\\Theta(x),y) = \\begin{matrix} 1 & \\mbox{if } h_\\Theta(x) \\geq 0.5\\ and\\ y = 0\\ or\\ h_\\Theta(x) < 0.5\\ and\\ y = 1\\newline 0 & \\mbox otherwise \\end{matrix}$$\n",
    "\n",
    "This gives us a binary 0 or 1 error result based on a misclassification. The average test error for the test set is:\n",
    "\n",
    "$\\text{Test Error} = \\dfrac{1}{m_{test}} \\sum^{m_{test}}_{i=1} err(h_\\Theta(x^{(i)}_{test}), y^{(i)}_{test})$\n",
    "\n",
    "This gives us the proportion of the test data that was misclassified."
   ]
  },
  {
   "cell_type": "markdown",
   "metadata": {},
   "source": [
    "# Model Selection and Train/Validation/Test Sets\n",
    "\n",
    "Just because a learning algorithm fits a training set well, that does not mean it is a good hypothesis. It could over fit and as a result your predictions on the test set would be poor. The error of your hypothesis as measured on the data set with which you trained the parameters will be lower than the error on any other data set.\n",
    "\n",
    "Given many models with *different polynomial degrees*, we can use a systematic approach to identify the 'best' function. In order to **choose the model of your hypothesis**, you can test each degree of polynomial and look at the error result.\n",
    "\n",
    "One way to break down our dataset into the three sets is:\n",
    "- Training set: 60%\n",
    "- Cross validation set: 20%\n",
    "- Test set: 20%\n",
    "\n",
    "We can now calculate three separate error values for the three different sets using the following method:\n",
    "\n",
    "1. Optimize the parameters in $\\Theta$ using the **training set** for each polynomial degree.\n",
    "2. Find the polynomial degree d with the least error using the **cross validation set**.\n",
    "3. Estimate the *generalization error* using the **test set** with $J_{test}(\\Theta^{(d)})$, (d = theta from polynomial with lower error);\n",
    "\n",
    "This way, **the degree of the polynomial d has not been trained using the test set**."
   ]
  },
  {
   "cell_type": "markdown",
   "metadata": {},
   "source": [
    "# Diagnosing Bias vs. Variance\n",
    "\n",
    "In this section we examine the relationship between the degree of the polynomial d and the underfitting or overfitting of our hypothesis.\n",
    "\n",
    "- We need to distinguish whether **bias** or **variance** is the problem contributing to bad predictions.\n",
    "- **High bias is underfitting** and **high variance is overfitting**. Ideally, we need to find a golden mean between these two.\n",
    "\n",
    "The training error will tend to **decrease** as we increase the degree d of the polynomial.\n",
    "\n",
    "At the same time, the cross validation error will tend to **decrease** as we increase d up to a point, and then it will **increase** as d is increased, forming a convex curve.\n",
    "\n",
    "**High bias (underfitting):** both $J_{train}(\\Theta)$ and $J_{CV}(\\Theta)$ will be high. Also,  $J_{CV}(\\Theta) \\approx J_{train}(\\Theta)$\n",
    "\n",
    "**High variance (overfitting):** $J_{train}(\\Theta)$ will be low and $J_{CV}(\\Theta)$ will be much greater than $J_{train}(\\Theta)$.\n",
    "\n",
    "The is summarized in the figure below:\n",
    "\n",
    "![](img/47.png)"
   ]
  },
  {
   "cell_type": "markdown",
   "metadata": {},
   "source": [
    "# Regularization and Bias/Variance\n",
    "\n",
    "**Note:** [The regularization term below and through out the video should be $\\frac \\lambda {2m} \\sum _{j=1}^n \\theta_j ^2$ and NOT $\\frac \\lambda {2m} \\sum _{j=1}^m \\theta_j ^2$]\n",
    "\n",
    "![](img/48.png)\n",
    "\n",
    "In the figure above, we see that as $\\lambda$ increases, our fit becomes more rigid. On the other hand, as $\\lambda$ approaches 0, we tend to over overfit the data. So how do we choose our parameter $\\lambda$ to get it 'just right' ? In order to choose the model and the regularization term $\\lambda$, we need to:\n",
    "\n",
    "1. Create a list of lambdas (i.e. $\\lambda \\in \\{0,0.01,0.02,0.04,0.08,0.16,0.32,0.64,1.28,2.56,5.12,10.24\\}$);\n",
    "2. Create a set of models with different degrees or any other variants.\n",
    "3. Iterate through the $\\lambda$s and for each $\\lambda$ go through all the models to learn some $\\Theta$.\n",
    "4. Compute the cross validation error using the learned $\\Theta$ (computed with $\\lambda$) on the $J_{CV}(\\Theta)$ **without** regularization or $\\lambda = 0$.\n",
    "5. Select the best combo that produces the lowest error on the cross validation set.\n",
    "6. Using the best combo $\\Theta$ and $\\lambda$, apply it on $J_{test}(\\Theta)$ to see if it has a good generalization of the problem.\n",
    "\n",
    "![](img/49.png)"
   ]
  },
  {
   "cell_type": "markdown",
   "metadata": {},
   "source": [
    "# Learning Curves (ใช้แยกว่าเป็นปัญหาเพราะ Bias or Variance)\n",
    "\n",
    "ขนาดของ Error เทียบกับ จำนวนข้อมูลที่ใช้ train m\n",
    "\n",
    "Training an algorithm on a very few number of data points (such as 1, 2 or 3) will easily have 0 errors because we can always find a quadratic curve that touches exactly those number of points. Hence:\n",
    "\n",
    "- As the training set gets larger, the error for a quadratic function increases.\n",
    "- The error value will plateau out after a certain m, or training set size.\n",
    "\n",
    "### Experiencing high bias:\n",
    "\n",
    "**Low training set size:** causes $J_{train}(\\Theta)$  to be low and $J_{CV}(\\Theta)$ to be high.\n",
    "\n",
    "**Large training set size:** causes both $J_{train}(\\Theta)$ and $J_{CV}(\\Theta)$ to be high with $J_{train}(\\Theta) \\approx J_{CV}(\\Theta)$.\n",
    "\n",
    "If a learning algorithm is suffering from **high bias**, getting more training data will not **(by itself)** help much. (ได้ data มาเยอะขึ้นก็ไม่ค่อยช่วยให้อะไรดีขึ้น)\n",
    "\n",
    "![](img/50.png)\n",
    "\n",
    "### Experiencing high variance:\n",
    "\n",
    "**Low training set size:** $J_{train}(\\Theta)$ will be low and $J_{CV}(\\Theta)$ will be high.\n",
    "\n",
    "**Large training set size:** $J_{train}(\\Theta)$ increases with training set size and $J_{CV}(\\Theta)$ continues to decrease without leveling off. Also, $J_{train}(\\Theta) < J_{CV}(\\Theta)$ but the difference between them remains significant.\n",
    "\n",
    "If a learning algorithm is suffering from **high variance**, getting more training data is likely to help. (ได้ data มาเยอะขึ้นจะช่วยได้)\n",
    "\n",
    "![](img/51.png)"
   ]
  },
  {
   "cell_type": "markdown",
   "metadata": {},
   "source": [
    "# Deciding What to Do Next Revisited\n",
    "\n",
    "Our decision process can be broken down as follows: สิ่งที่สามารถทำได้เมื่อ error จาก CV set หรือ Test set มันเยอะมากจนเกินรับไหว\n",
    "\n",
    "- **Getting more training examples:** Fixes high variance\n",
    "- **Trying smaller sets of features:** Fixes high variance\n",
    "- **Adding features:** Fixes high bias\n",
    "- **Adding polynomial features:** Fixes high bias\n",
    "- **Decreasing λ:** Fixes high bias\n",
    "- **Increasing λ:** Fixes high variance.\n",
    "\n",
    "### Diagnosing Neural Networks\n",
    "- A neural network with fewer parameters is **prone to underfitting**. It is also **computationally cheaper**.\n",
    "- A large neural network with more parameters is **prone to overfitting**. It is also **computationally expensive**. In this case you can use regularization (increase λ) to address the overfitting.\n",
    "\n",
    "Using a single hidden layer is a good starting default. You can train your neural network on a number of hidden layers using your cross validation set. You can then select the one that performs best.\n",
    "\n",
    "### Model Complexity Effects:\n",
    "\n",
    "- Lower-order polynomials (low model complexity) have high bias and low variance. In this case, the model fits poorly consistently.\n",
    "- Higher-order polynomials (high model complexity) fit the training data extremely well and the test data extremely poorly. These have low bias on the training data, but very high variance.\n",
    "- In reality, we would want to choose a model somewhere in between, that can generalize well but also fits the data reasonably well."
   ]
  },
  {
   "cell_type": "markdown",
   "metadata": {
    "collapsed": true
   },
   "source": [
    "# ================== CODE ==================="
   ]
  },
  {
   "cell_type": "code",
   "execution_count": 72,
   "metadata": {},
   "outputs": [],
   "source": [
    "import numpy as np  \n",
    "import pandas as pd  \n",
    "import matplotlib.pyplot as plt  \n",
    "from scipy.io import loadmat\n",
    "\n",
    "# ข้อมูล การเปลี่ยนแปลงของระดับน้ำ x กับจำนวนของการไหลของน้ำออกจาก dam y\n",
    "data = loadmat('programing/machine-learning-ex5/ex5/ex5data1.mat')\n",
    "\n",
    "# training set 60%\n",
    "X = data['X']\n",
    "y = data['y']\n",
    "\n",
    "# cross validation set 20%\n",
    "Xval = data['Xval']\n",
    "yval = data['yval']\n",
    "\n",
    "# test set 20%\n",
    "Xtest = data['Xtest']\n",
    "ytest = data['ytest']"
   ]
  },
  {
   "cell_type": "code",
   "execution_count": 73,
   "metadata": {},
   "outputs": [
    {
     "data": {
      "text/plain": [
       "((12, 1), 12, 21, 21, 21, 21)"
      ]
     },
     "execution_count": 73,
     "metadata": {},
     "output_type": "execute_result"
    }
   ],
   "source": [
    "X.shape,len(y),len(Xtest),len(ytest),len(Xval),len(yval)"
   ]
  },
  {
   "cell_type": "markdown",
   "metadata": {},
   "source": [
    "### 1.1 Plot ข้อมูล"
   ]
  },
  {
   "cell_type": "code",
   "execution_count": 74,
   "metadata": {},
   "outputs": [
    {
     "data": {
      "image/png": "[encoded data removed]",
      "text/plain": [
       "<matplotlib.figure.Figure at 0x1149ab5c0>"
      ]
     },
     "metadata": {},
     "output_type": "display_data"
    }
   ],
   "source": [
    "plt.scatter(X,y,marker='x')\n",
    "plt.xlabel('Change in water level (x)')\n",
    "plt.ylabel('Water flowing out of the dam (y)')\n",
    "plt.show()"
   ]
  },
  {
   "cell_type": "markdown",
   "metadata": {},
   "source": [
    "### 1.2 Regularized linear regression cost function "
   ]
  },
  {
   "cell_type": "code",
   "execution_count": 90,
   "metadata": {},
   "outputs": [],
   "source": [
    "def linearRegCostFunction(theta,X,y,lamb):\n",
    "    theta = np.matrix(theta).T # n x 1\n",
    "    X = np.matrix(X) # m x n (รวม column 1 แล้ว)\n",
    "    y = np.matrix(y) # m x 1\n",
    "    m = len(y)\n",
    "    \n",
    "    h = (X).dot(theta)\n",
    "    first = (1/(2*m))*((h-y).T).dot(h-y)\n",
    "    second = (lamb/(2*m))*np.sum(np.power(theta[1:theta.shape[0],:], 2))\n",
    "    return (first + second)[0,0]"
   ]
  },
  {
   "cell_type": "markdown",
   "metadata": {},
   "source": [
    "ทดสอบ `costLinearRegression(theta,X,y,lamb)`\n",
    "\n",
    "โดยถ้า theta = [1 ; 1] this value should be about 303.993192"
   ]
  },
  {
   "cell_type": "code",
   "execution_count": 91,
   "metadata": {},
   "outputs": [
    {
     "data": {
      "text/plain": [
       "303.99319222026429"
      ]
     },
     "execution_count": 91,
     "metadata": {},
     "output_type": "execute_result"
    }
   ],
   "source": [
    "theta1 = np.matrix([1,1])\n",
    "m1 = len(y)\n",
    "ones1 = np.ones((m1,1))     # mx1\n",
    "X1 = np.hstack((ones1,X))   # mxn = mx2 \n",
    "J1 = linearRegCostFunction(theta1,X1,y,1)\n",
    "J1"
   ]
  },
  {
   "cell_type": "markdown",
   "metadata": {},
   "source": [
    "ถูกต้องตามต้องการ"
   ]
  },
  {
   "cell_type": "markdown",
   "metadata": {},
   "source": [
    "### 1.3 Regularized linear regression gradient"
   ]
  },
  {
   "cell_type": "code",
   "execution_count": 92,
   "metadata": {
    "collapsed": true
   },
   "outputs": [],
   "source": [
    "def linearRegGradFunction(theta,X,y,lamb):\n",
    "    theta = np.matrix(theta).T # n x 1\n",
    "    X = np.matrix(X) # m x n (รวม column 1 แล้ว)\n",
    "    y = np.matrix(y) # m x 1\n",
    "    m = len(y)\n",
    "    \n",
    "    h = X.dot(theta) # m x 1\n",
    "    left = (1/m)*(h-y).T.dot(X) # 1xn\n",
    "    grad = np.zeros((len(theta),1))\n",
    "    for j in range(len(theta)):\n",
    "        if j is not 0:\n",
    "            grad[j,0] = left[0,j] + (lamb/m)*theta[j,0]\n",
    "        else:\n",
    "            grad[j,0] = left[0,j]\n",
    "    return grad"
   ]
  },
  {
   "cell_type": "markdown",
   "metadata": {},
   "source": [
    "ทดสอบ\n",
    "\n",
    "โดยที่ถ้า Gradient at theta = [1 ; 1]: this value should be about [-15.303016; 598.250744]"
   ]
  },
  {
   "cell_type": "code",
   "execution_count": 93,
   "metadata": {},
   "outputs": [
    {
     "data": {
      "text/plain": [
       "array([[ -15.30301567],\n",
       "       [ 598.25074417]])"
      ]
     },
     "execution_count": 93,
     "metadata": {},
     "output_type": "execute_result"
    }
   ],
   "source": [
    "grad1 = linearRegGradFunction(theta1,X1,y,1)\n",
    "grad1"
   ]
  },
  {
   "cell_type": "markdown",
   "metadata": {},
   "source": [
    "ถูกต้องตามต้องการ"
   ]
  },
  {
   "cell_type": "markdown",
   "metadata": {},
   "source": [
    "### 1.4 Fitting linear regression (Training set)"
   ]
  },
  {
   "cell_type": "code",
   "execution_count": 102,
   "metadata": {},
   "outputs": [
    {
     "data": {
      "text/plain": [
       "array([ 13.08790394,   0.36777923])"
      ]
     },
     "execution_count": 102,
     "metadata": {},
     "output_type": "execute_result"
    }
   ],
   "source": [
    "import scipy.optimize as opt\n",
    "\n",
    "result2 = opt.fmin_tnc(func=linearRegCostFunction, x0=theta1, fprime=linearRegGradFunction, args=(X1, y, 0))  \n",
    "theta_min = result2[0]\n",
    "theta_min"
   ]
  },
  {
   "cell_type": "markdown",
   "metadata": {},
   "source": [
    "ลอง Plot ดู"
   ]
  },
  {
   "cell_type": "code",
   "execution_count": 103,
   "metadata": {},
   "outputs": [
    {
     "data": {
      "image/png": "[encoded data removed]",
      "text/plain": [
       "<matplotlib.figure.Figure at 0x114e9c048>"
      ]
     },
     "metadata": {},
     "output_type": "display_data"
    }
   ],
   "source": [
    "plt.scatter(X,y,marker='x')\n",
    "\n",
    "xest1 = range(-50,40)\n",
    "yest1 = theta_min[0] + theta_min[1]*xest1 \n",
    "\n",
    "plt.plot(xest1,yest1)\n",
    "plt.xlabel('Change in water level (x)')\n",
    "plt.ylabel('Water flowing out of the dam (y)')\n",
    "plt.show()"
   ]
  },
  {
   "cell_type": "markdown",
   "metadata": {},
   "source": [
    "# 2 Bias-variance"
   ]
  },
  {
   "cell_type": "code",
   "execution_count": null,
   "metadata": {
    "collapsed": true
   },
   "outputs": [],
   "source": []
  }
 ],
 "metadata": {
  "kernelspec": {
   "display_name": "Python 3",
   "language": "python",
   "name": "python3"
  },
  "language_info": {
   "codemirror_mode": {
    "name": "ipython",
    "version": 3
   },
   "file_extension": ".py",
   "mimetype": "text/x-python",
   "name": "python",
   "nbconvert_exporter": "python",
   "pygments_lexer": "ipython3",
   "version": "3.6.1"
  }
 },
 "nbformat": 4,
 "nbformat_minor": 2
}
