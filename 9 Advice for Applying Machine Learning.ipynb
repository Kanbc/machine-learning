{
 "cells": [
  {
   "cell_type": "markdown",
   "metadata": {
    "collapsed": true
   },
   "source": [
    "# Evaluating a Hypothesis\n",
    "\n",
    "Once we have done some trouble shooting for errors in our predictions by:\n",
    "\n",
    "- Getting more training examples\n",
    "- Trying smaller sets of features\n",
    "- Trying additional features\n",
    "- Trying polynomial features\n",
    "- Increasing or decreasing λ\n",
    "\n",
    "We can move on to evaluate our new hypothesis.\n",
    "\n",
    "A hypothesis may have a low error for the training examples but still be inaccurate (because of overfitting). Thus, to evaluate a hypothesis, given a dataset of training examples, we can split up the data into two sets: a **training set** and a **test set**. Typically, the training set consists of 70% of your data and the test set is the remaining 30%.\n",
    "\n",
    "The new procedure using these two sets is then:\n",
    "1. Learn $\\Theta$ and minimize $J_{train}(\\Theta)$  using the training set\n",
    "2. Compute the test set error $J_{test}(\\Theta)$\n",
    "\n",
    "### The test set error\n",
    "\n",
    "1. For linear regression: $J_{test}(\\Theta) = \\dfrac{1}{2m_{test}} \\sum_{i=1}^{m_{test}}(h_\\Theta(x^{(i)}_{test}) - y^{(i)}_{test})^2$\n",
    "\n",
    "2. For classification ~ Misclassification error (aka 0/1 misclassification error):\n",
    "\n",
    "$$err(h_\\Theta(x),y) = \\begin{matrix} 1 & \\mbox{if } h_\\Theta(x) \\geq 0.5\\ and\\ y = 0\\ or\\ h_\\Theta(x) < 0.5\\ and\\ y = 1\\newline 0 & \\mbox otherwise \\end{matrix}$$\n",
    "\n",
    "This gives us a binary 0 or 1 error result based on a misclassification. The average test error for the test set is:\n",
    "\n",
    "$\\text{Test Error} = \\dfrac{1}{m_{test}} \\sum^{m_{test}}_{i=1} err(h_\\Theta(x^{(i)}_{test}), y^{(i)}_{test})$\n",
    "\n",
    "This gives us the proportion of the test data that was misclassified."
   ]
  },
  {
   "cell_type": "markdown",
   "metadata": {},
   "source": [
    "# Model Selection and Train/Validation/Test Sets\n",
    "\n",
    "Just because a learning algorithm fits a training set well, that does not mean it is a good hypothesis. It could over fit and as a result your predictions on the test set would be poor. The error of your hypothesis as measured on the data set with which you trained the parameters will be lower than the error on any other data set.\n",
    "\n",
    "Given many models with *different polynomial degrees*, we can use a systematic approach to identify the 'best' function. In order to **choose the model of your hypothesis**, you can test each degree of polynomial and look at the error result.\n",
    "\n",
    "One way to break down our dataset into the three sets is:\n",
    "- Training set: 60%\n",
    "- Cross validation set: 20%\n",
    "- Test set: 20%\n",
    "\n",
    "We can now calculate three separate error values for the three different sets using the following method:\n",
    "\n",
    "1. Optimize the parameters in $\\Theta$ using the **training set** for each polynomial degree.\n",
    "2. Find the polynomial degree d with the least error using the **cross validation set**.\n",
    "3. Estimate the *generalization error* using the **test set** with $J_{test}(\\Theta^{(d)})$, (d = theta from polynomial with lower error);\n",
    "\n",
    "This way, **the degree of the polynomial d has not been trained using the test set**."
   ]
  },
  {
   "cell_type": "markdown",
   "metadata": {},
   "source": [
    "# Diagnosing Bias vs. Variance\n",
    "\n",
    "In this section we examine the relationship between the degree of the polynomial d and the underfitting or overfitting of our hypothesis.\n",
    "\n",
    "- We need to distinguish whether **bias** or **variance** is the problem contributing to bad predictions.\n",
    "- **High bias is underfitting** and **high variance is overfitting**. Ideally, we need to find a golden mean between these two.\n",
    "\n",
    "The training error will tend to **decrease** as we increase the degree d of the polynomial.\n",
    "\n",
    "At the same time, the cross validation error will tend to **decrease** as we increase d up to a point, and then it will **increase** as d is increased, forming a convex curve.\n",
    "\n",
    "**High bias (underfitting):** both $J_{train}(\\Theta)$ and $J_{CV}(\\Theta)$ will be high. Also,  $J_{CV}(\\Theta) \\approx J_{train}(\\Theta)$\n",
    "\n",
    "**High variance (overfitting):** $J_{train}(\\Theta)$ will be low and $J_{CV}(\\Theta)$ will be much greater than $J_{train}(\\Theta)$.\n",
    "\n",
    "The is summarized in the figure below:\n",
    "\n",
    "![](img/47.png)"
   ]
  },
  {
   "cell_type": "markdown",
   "metadata": {},
   "source": [
    "# Regularization and Bias/Variance\n",
    "\n",
    "**Note:** [The regularization term below and through out the video should be $\\frac \\lambda {2m} \\sum _{j=1}^n \\theta_j ^2$ and NOT $\\frac \\lambda {2m} \\sum _{j=1}^m \\theta_j ^2$]\n",
    "\n",
    "![](img/48.png)\n",
    "\n",
    "In the figure above, we see that as $\\lambda$ increases, our fit becomes more rigid. On the other hand, as $\\lambda$ approaches 0, we tend to over overfit the data. So how do we choose our parameter $\\lambda$ to get it 'just right' ? In order to choose the model and the regularization term $\\lambda$, we need to:\n",
    "\n",
    "1. Create a list of lambdas (i.e. $\\lambda \\in \\{0,0.01,0.02,0.04,0.08,0.16,0.32,0.64,1.28,2.56,5.12,10.24\\}$);\n",
    "2. Create a set of models with different degrees or any other variants.\n",
    "3. Iterate through the $\\lambda$s and for each $\\lambda$ go through all the models to learn some $\\Theta$.\n",
    "4. Compute the cross validation error using the learned $\\Theta$ (computed with $\\lambda$) on the $J_{CV}(\\Theta)$ **without** regularization or $\\lambda = 0$.\n",
    "5. Select the best combo that produces the lowest error on the cross validation set.\n",
    "6. Using the best combo $\\Theta$ and $\\lambda$, apply it on $J_{test}(\\Theta)$ to see if it has a good generalization of the problem.\n",
    "\n",
    "![](img/49.png)"
   ]
  },
  {
   "cell_type": "markdown",
   "metadata": {},
   "source": [
    "# Learning Curves (ใช้แยกว่าเป็นปัญหาเพราะ Bias or Variance)\n",
    "\n",
    "ขนาดของ Error เทียบกับ จำนวนข้อมูลที่ใช้ train m\n",
    "\n",
    "Training an algorithm on a very few number of data points (such as 1, 2 or 3) will easily have 0 errors because we can always find a quadratic curve that touches exactly those number of points. Hence:\n",
    "\n",
    "- As the training set gets larger, the error for a quadratic function increases.\n",
    "- The error value will plateau out after a certain m, or training set size.\n",
    "\n",
    "### Experiencing high bias:\n",
    "\n",
    "**Low training set size:** causes $J_{train}(\\Theta)$  to be low and $J_{CV}(\\Theta)$ to be high.\n",
    "\n",
    "**Large training set size:** causes both $J_{train}(\\Theta)$ and $J_{CV}(\\Theta)$ to be high with $J_{train}(\\Theta) \\approx J_{CV}(\\Theta)$.\n",
    "\n",
    "If a learning algorithm is suffering from **high bias**, getting more training data will not **(by itself)** help much. (ได้ data มาเยอะขึ้นก็ไม่ค่อยช่วยให้อะไรดีขึ้น)\n",
    "\n",
    "![](img/50.png)\n",
    "\n",
    "### Experiencing high variance:\n",
    "\n",
    "**Low training set size:** $J_{train}(\\Theta)$ will be low and $J_{CV}(\\Theta)$ will be high.\n",
    "\n",
    "**Large training set size:** $J_{train}(\\Theta)$ increases with training set size and $J_{CV}(\\Theta)$ continues to decrease without leveling off. Also, $J_{train}(\\Theta) < J_{CV}(\\Theta)$ but the difference between them remains significant.\n",
    "\n",
    "If a learning algorithm is suffering from **high variance**, getting more training data is likely to help. (ได้ data มาเยอะขึ้นจะช่วยได้)\n",
    "\n",
    "![](img/51.png)"
   ]
  },
  {
   "cell_type": "markdown",
   "metadata": {},
   "source": [
    "# Deciding What to Do Next Revisited\n",
    "\n",
    "Our decision process can be broken down as follows: สิ่งที่สามารถทำได้เมื่อ error จาก CV set หรือ Test set มันเยอะมากจนเกินรับไหว\n",
    "\n",
    "- **Getting more training examples:** Fixes high variance\n",
    "- **Trying smaller sets of features:** Fixes high variance\n",
    "- **Adding features:** Fixes high bias\n",
    "- **Adding polynomial features:** Fixes high bias\n",
    "- **Decreasing λ:** Fixes high bias\n",
    "- **Increasing λ:** Fixes high variance.\n",
    "\n",
    "### Diagnosing Neural Networks\n",
    "- A neural network with fewer parameters is **prone to underfitting**. It is also **computationally cheaper**.\n",
    "- A large neural network with more parameters is **prone to overfitting**. It is also **computationally expensive**. In this case you can use regularization (increase λ) to address the overfitting.\n",
    "\n",
    "Using a single hidden layer is a good starting default. You can train your neural network on a number of hidden layers using your cross validation set. You can then select the one that performs best.\n",
    "\n",
    "### Model Complexity Effects:\n",
    "\n",
    "- Lower-order polynomials (low model complexity) have high bias and low variance. In this case, the model fits poorly consistently.\n",
    "- Higher-order polynomials (high model complexity) fit the training data extremely well and the test data extremely poorly. These have low bias on the training data, but very high variance.\n",
    "- In reality, we would want to choose a model somewhere in between, that can generalize well but also fits the data reasonably well."
   ]
  },
  {
   "cell_type": "markdown",
   "metadata": {
    "collapsed": true
   },
   "source": [
    "# ================== CODE ==================="
   ]
  },
  {
   "cell_type": "code",
   "execution_count": 1,
   "metadata": {
    "collapsed": true
   },
   "outputs": [],
   "source": [
    "import numpy as np  \n",
    "import pandas as pd  \n",
    "import matplotlib.pyplot as plt  \n",
    "from scipy.io import loadmat\n",
    "\n",
    "# ข้อมูล การเปลี่ยนแปลงของระดับน้ำ x กับจำนวนของการไหลของน้ำออกจาก dam y\n",
    "data = loadmat('programing/machine-learning-ex5/ex5/ex5data1.mat')\n",
    "\n",
    "# training set 60%\n",
    "X = data['X']\n",
    "y = data['y']\n",
    "\n",
    "# cross validation set 20%\n",
    "Xval = data['Xval']\n",
    "yval = data['yval']\n",
    "\n",
    "# test set 20%\n",
    "Xtest = data['Xtest']\n",
    "ytest = data['ytest']"
   ]
  },
  {
   "cell_type": "code",
   "execution_count": 2,
   "metadata": {},
   "outputs": [
    {
     "data": {
      "text/plain": [
       "((12, 1), 12, 21, 21, 21, 21)"
      ]
     },
     "execution_count": 2,
     "metadata": {},
     "output_type": "execute_result"
    }
   ],
   "source": [
    "X.shape,len(y),len(Xtest),len(ytest),len(Xval),len(yval)"
   ]
  },
  {
   "cell_type": "markdown",
   "metadata": {},
   "source": [
    "### 1.1 Plot ข้อมูล"
   ]
  },
  {
   "cell_type": "code",
   "execution_count": 3,
   "metadata": {},
   "outputs": [
    {
     "data": {
      "image/png": "[encoded data removed]",
      "text/plain": [
       "<matplotlib.figure.Figure at 0x10e056dd8>"
      ]
     },
     "metadata": {},
     "output_type": "display_data"
    }
   ],
   "source": [
    "plt.scatter(X,y,marker='x')\n",
    "plt.xlabel('Change in water level (x)')\n",
    "plt.ylabel('Water flowing out of the dam (y)')\n",
    "plt.show()"
   ]
  },
  {
   "cell_type": "markdown",
   "metadata": {},
   "source": [
    "### 1.2 Regularized linear regression cost function "
   ]
  },
  {
   "cell_type": "code",
   "execution_count": 4,
   "metadata": {
    "collapsed": true
   },
   "outputs": [],
   "source": [
    "def linearRegCostFunction(theta,X,y,lamb):\n",
    "    theta = np.matrix(theta).T # n x 1\n",
    "    X = np.matrix(X) # m x n (รวม column 1 แล้ว)\n",
    "    y = np.matrix(y) # m x 1\n",
    "    m = len(y)\n",
    "    \n",
    "    h = (X).dot(theta)\n",
    "    first = (1/(2*m))*((h-y).T).dot(h-y)\n",
    "    second = (lamb/(2*m))*np.sum(np.power(theta[1:theta.shape[0],:], 2))\n",
    "    return (first + second)[0,0]"
   ]
  },
  {
   "cell_type": "markdown",
   "metadata": {},
   "source": [
    "ทดสอบ `costLinearRegression(theta,X,y,lamb)`\n",
    "\n",
    "โดยถ้า theta = [1 ; 1] this value should be about 303.993192"
   ]
  },
  {
   "cell_type": "code",
   "execution_count": 5,
   "metadata": {},
   "outputs": [
    {
     "data": {
      "text/plain": [
       "303.99319222026429"
      ]
     },
     "execution_count": 5,
     "metadata": {},
     "output_type": "execute_result"
    }
   ],
   "source": [
    "theta1 = np.matrix([1,1])\n",
    "m1 = len(y)\n",
    "m2 = Xval.shape[0]\n",
    "\n",
    "# transform X\n",
    "ones1 = np.ones((m1,1))     # mx1\n",
    "X1 = np.hstack((ones1,X))   # mxn = mx2\n",
    "\n",
    "# transform Xval\n",
    "ones2 = np.ones((m2,1))     # mx1\n",
    "Xval1 = np.hstack((ones2,Xval))   # mxn = mx2\n",
    "\n",
    "J1 = linearRegCostFunction(theta1,X1,y,1)\n",
    "J1"
   ]
  },
  {
   "cell_type": "markdown",
   "metadata": {},
   "source": [
    "ถูกต้องตามต้องการ"
   ]
  },
  {
   "cell_type": "markdown",
   "metadata": {},
   "source": [
    "### 1.3 Regularized linear regression gradient"
   ]
  },
  {
   "cell_type": "code",
   "execution_count": 6,
   "metadata": {
    "collapsed": true
   },
   "outputs": [],
   "source": [
    "def linearRegGradFunction(theta,X,y,lamb):\n",
    "    theta = np.matrix(theta).T # n x 1\n",
    "    X = np.matrix(X) # m x n (รวม column 1 แล้ว)\n",
    "    y = np.matrix(y) # m x 1\n",
    "    m = len(y)\n",
    "    \n",
    "    h = X.dot(theta) # m x 1\n",
    "    left = (1/m)*(h-y).T.dot(X) # 1xn\n",
    "    grad = np.zeros((len(theta),1))\n",
    "    for j in range(len(theta)):\n",
    "        if j is not 0:\n",
    "            grad[j,0] = left[0,j] + (lamb/m)*theta[j,0]\n",
    "        else:\n",
    "            grad[j,0] = left[0,j]\n",
    "    return grad"
   ]
  },
  {
   "cell_type": "markdown",
   "metadata": {},
   "source": [
    "ทดสอบ\n",
    "\n",
    "โดยที่ถ้า Gradient at theta = [1 ; 1]: this value should be about [-15.303016; 598.250744]"
   ]
  },
  {
   "cell_type": "code",
   "execution_count": 7,
   "metadata": {},
   "outputs": [
    {
     "data": {
      "text/plain": [
       "array([[ -15.30301567],\n",
       "       [ 598.25074417]])"
      ]
     },
     "execution_count": 7,
     "metadata": {},
     "output_type": "execute_result"
    }
   ],
   "source": [
    "grad1 = linearRegGradFunction(theta1,X1,y,1)\n",
    "grad1"
   ]
  },
  {
   "cell_type": "markdown",
   "metadata": {},
   "source": [
    "ถูกต้องตามต้องการ"
   ]
  },
  {
   "cell_type": "markdown",
   "metadata": {},
   "source": [
    "### 1.4 Fitting linear regression (Training set)"
   ]
  },
  {
   "cell_type": "code",
   "execution_count": 21,
   "metadata": {},
   "outputs": [
    {
     "data": {
      "text/plain": [
       "array([ 13.08790394,   0.36777923])"
      ]
     },
     "execution_count": 21,
     "metadata": {},
     "output_type": "execute_result"
    }
   ],
   "source": [
    "import scipy.optimize as opt\n",
    "\n",
    "result2 = opt.fmin_tnc(func=linearRegCostFunction, x0=theta1, fprime=linearRegGradFunction, args=(X1, y, 0),maxfun=10000)  \n",
    "theta_min = result2[0]\n",
    "theta_min"
   ]
  },
  {
   "cell_type": "markdown",
   "metadata": {},
   "source": [
    "ในส่วนนี้จะเป็น function สำหรับ train Linear Regression "
   ]
  },
  {
   "cell_type": "code",
   "execution_count": 22,
   "metadata": {
    "collapsed": true
   },
   "outputs": [],
   "source": [
    "def trainLinearReg(X,y,lambd):\n",
    "    # Initialize Theta\n",
    "    initial_theta = np.zeros(X.shape[1])\n",
    "    theta_min = opt.fmin_tnc(func=linearRegCostFunction, x0=initial_theta, fprime=linearRegGradFunction, args=(X, y,lambd),maxfun=10000)  \n",
    "    \n",
    "    return theta_min[0]"
   ]
  },
  {
   "cell_type": "code",
   "execution_count": 23,
   "metadata": {},
   "outputs": [
    {
     "data": {
      "text/plain": [
       "array([ 13.08790351,   0.36777923])"
      ]
     },
     "execution_count": 23,
     "metadata": {},
     "output_type": "execute_result"
    }
   ],
   "source": [
    "trainLinearReg(X1,y,0)"
   ]
  },
  {
   "cell_type": "markdown",
   "metadata": {},
   "source": [
    "ค่าถูกต้องตามเฉลย\n",
    "\n",
    "ลอง Plot ดู"
   ]
  },
  {
   "cell_type": "code",
   "execution_count": 24,
   "metadata": {},
   "outputs": [
    {
     "data": {
      "image/png": "[encoded data removed]",
      "text/plain": [
       "<matplotlib.figure.Figure at 0x181b2b0e80>"
      ]
     },
     "metadata": {},
     "output_type": "display_data"
    }
   ],
   "source": [
    "plt.scatter(X,y,marker='x')\n",
    "\n",
    "xest1 = range(-50,40)\n",
    "yest1 = theta_min[0] + theta_min[1]*xest1 \n",
    "\n",
    "plt.plot(xest1,yest1)\n",
    "plt.xlabel('Change in water level (x)')\n",
    "plt.ylabel('Water flowing out of the dam (y)')\n",
    "plt.show()"
   ]
  },
  {
   "cell_type": "markdown",
   "metadata": {},
   "source": [
    "# 2 Bias-variance\n",
    "\n",
    "หลังจากได้ Model มาแล้ว เราจะมาตรวจสอบความแม่นยำของ model กันด้วยการพิจารณา bias และ variance จากข้อมูล test set ดังนี้"
   ]
  },
  {
   "cell_type": "markdown",
   "metadata": {
    "collapsed": true
   },
   "source": [
    "### 2.1 Learning curves\n",
    "\n",
    "เป็นการ plot ข้อมูล train/test error กับจำนวนข้อมูล train (m) เพื่อดูว่ากราฟเป็นลักษณะของ overfitting หรือ underfitting จะได้แก้ปัญหาให้ตรงจุดต่อไป"
   ]
  },
  {
   "cell_type": "markdown",
   "metadata": {},
   "source": [
    "plot learning curve ดูชนิดปัญหา"
   ]
  },
  {
   "cell_type": "code",
   "execution_count": 45,
   "metadata": {
    "collapsed": true
   },
   "outputs": [],
   "source": [
    "def learningCurve(X,y,Xval,yval,lambd):\n",
    "    #  Number of training examples\n",
    "    m = len(y)\n",
    "    m2 = len(yval)\n",
    "    # Training set\n",
    "    X = np.matrix(X) # m x n \n",
    "    y = np.matrix(y) # m x 1\n",
    "    # Test set     \n",
    "    Xval = np.matrix(Xval) # m2 x n\n",
    "    yval = np.matrix(yval) # m2 x 1\n",
    "\n",
    "    # You need to return these values correctly\n",
    "    error_train = np.zeros(m)\n",
    "    error_val   = np.zeros(m)\n",
    "    for i in range(m):\n",
    "        # Train to find theta (m is vary from 1 to m)       \n",
    "        theta_min = trainLinearReg(X[0:i+1,:], y[0:i+1,:], lambd);\n",
    "        \n",
    "        # find Train Error พิจารณาแค่จุดที่เอามา train หา theta\n",
    "        error_train[i] = linearRegCostFunction(theta_min,X[0:i+1,:],y[0:i+1,:],0)\n",
    "        \n",
    "        # find CV Error พิจารณาข้อมูลทั้ง set\n",
    "        error_val[i] = linearRegCostFunction(theta_min,Xval,yval,0)\n",
    "    \n",
    "    leaningData = pd.DataFrame({'train_error':error_train, 'CV_error':error_val})\n",
    "    a = range(1,len(leaningData['train_error'])+1)\n",
    "    b = leaningData['train_error']\n",
    "    c = leaningData['CV_error']\n",
    "    plt.plot(a,b)\n",
    "    plt.plot(a,c)\n",
    "    plt.ylabel(\"Error\")\n",
    "    plt.xlabel(\"Number of training examples\")\n",
    "    plt.legend()\n",
    "    plt.show()"
   ]
  },
  {
   "cell_type": "markdown",
   "metadata": {},
   "source": [
    "ลอง plot เปรียบเทียบ CV error กับ Train Error ดูเพื่อพิจารณาชนิดปัญหา (bias or variance)"
   ]
  },
  {
   "cell_type": "code",
   "execution_count": 46,
   "metadata": {},
   "outputs": [
    {
     "data": {
      "image/png": "[encoded data removed]",
      "text/plain": [
       "<matplotlib.figure.Figure at 0x181c2cd978>"
      ]
     },
     "metadata": {},
     "output_type": "display_data"
    }
   ],
   "source": [
    "leaningData = learningCurve(X1,y,Xval1,yval,0)\n",
    "leaningData"
   ]
  },
  {
   "cell_type": "markdown",
   "metadata": {},
   "source": [
    "จากรูปที่เห็น จะเห็นว่าเป็นลักษณะของปัญหาแบบ **high bias** เพราะ train_error เยอะดูเป็นปัญหา underfitting และ $J_{train}(\\Theta) \\approx J_{CV}(\\Theta)$ ที่ m เยอะๆ\n",
    "\n",
    "ดังนั้นในข้อถัดไปเราจะเลือกทำวิธีที่จะช่วยให้ fit model ที่มีปัญหา high bias ได้ดีขึ้น"
   ]
  },
  {
   "cell_type": "markdown",
   "metadata": {},
   "source": [
    "# 3 Polynomial regression\n",
    "จากข้อที่แล้ว แสดงว่า model เรามีปัญหา high bias ดังนั้นวิธีแก้ที่ทำให้ model มีประสิทธิภาพสูงขึ้นอาจจะทำได้โดย\n",
    "1. **Adding features:** \n",
    "2. **Adding polynomial features:**\n",
    "3. **Decreasing λ:** \n",
    "\n",
    "ซึ่งข้อ 1 ไม่สามารถทำได้เพราะข้อมูลมีแค่ระดับน้ำอย่างเดียว ข้อ 3 ก็ไม่น่าทำเพราะ lambda เราก็น้อย ไม่ได้เยอะเลย ดังนั้นที่น่าทำคือ ข้อ 2 เพิ่มอันดับ polynomial ให้เยอะขึ้น ดังนั้นปัญหาถัดไปคือเราจะเลือกใช้ polynomail ลำดับเท่าไหร่ดีสำหรับ model นี้"
   ]
  },
  {
   "cell_type": "markdown",
   "metadata": {},
   "source": [
    "จะได้ว่า\n",
    "\n",
    "$h_{\\theta}(x) = \\theta_0 + \\theta_1 * (waterLevel) + \\theta_2 * (waterLevel)^{2} + \\cdots + \\theta_p * (waterLevel)^{p}$\n",
    "\n",
    "$h_{\\theta}(x) = \\theta_0 + \\theta_1x_1 + \\theta_2x_2 + \\cdots + \\theta_px_p$\n",
    "\n",
    "ดังนั้นเราต้องทำ function ที่ใส่ค่า $X$ กับ order (p) เข้าไปแล้ว คืนออกมาเป็น $X = x_1,x_2,...,x_p$ โดยที่ $x_j = (waterLevel)^j$"
   ]
  },
  {
   "cell_type": "code",
   "execution_count": 30,
   "metadata": {},
   "outputs": [],
   "source": [
    "def polyFeatures(X,p):\n",
    "    X = np.matrix(X) # X in mx1\n",
    "    X_poly = X[:] # mx1\n",
    "    for i in range(2,p+1):\n",
    "        X_poly = np.hstack((X_poly,np.power(X,i))) # mxp\n",
    "    \n",
    "    return X_poly"
   ]
  },
  {
   "cell_type": "markdown",
   "metadata": {},
   "source": [
    "ตัวอย่าง ที่ p = 3 จะได้ polynomail ของ X คือ"
   ]
  },
  {
   "cell_type": "code",
   "execution_count": 31,
   "metadata": {},
   "outputs": [
    {
     "data": {
      "text/plain": [
       "matrix([[ -1.59367581e+01,   2.53980260e+02,  -4.04762197e+03],\n",
       "        [ -2.91529792e+01,   8.49896197e+02,  -2.47770062e+04],\n",
       "        [  3.61895486e+01,   1.30968343e+03,   4.73968522e+04],\n",
       "        [  3.74921873e+01,   1.40566411e+03,   5.27014222e+04],\n",
       "        [ -4.80588295e+01,   2.30965109e+03,  -1.10999128e+05],\n",
       "        [ -8.94145794e+00,   7.99496701e+01,  -7.14866612e+02],\n",
       "        [  1.53077929e+01,   2.34328523e+02,   3.58705250e+03],\n",
       "        [ -3.47062658e+01,   1.20452489e+03,  -4.18045609e+04],\n",
       "        [  1.38915437e+00,   1.92974986e+00,   2.68072045e+00],\n",
       "        [ -4.43837599e+01,   1.96991814e+03,  -8.74323736e+04],\n",
       "        [  7.01350208e+00,   4.91892115e+01,   3.44988637e+02],\n",
       "        [  2.27627489e+01,   5.18142738e+02,   1.17943531e+04]])"
      ]
     },
     "execution_count": 31,
     "metadata": {},
     "output_type": "execute_result"
    }
   ],
   "source": [
    "polyFeatures(X,3)"
   ]
  },
  {
   "cell_type": "markdown",
   "metadata": {},
   "source": [
    "### 3.1 Learning Polynomial Regression\n",
    "ปัญหาในข้อนี้คือ การเลือกอันดับของแบบจำลอง model ว่าจะใช้ที่ p เท่าไหร่ดี ไม่ให้ bias และ variance จนเกินไป \n",
    "\n",
    "สมมติ ถ้า $x_8 = 40^8 = 6.5x10^{12} $ ซึ่งมีค่าเยอะมากๆเมื่อเทียบกับ $x_1$ ดังนั้นเราต้องใช้ feature normalization\n",
    "\n",
    "#### Standardization\n",
    "สมมติเรามี features หลายตัวเป็น vector $x_1,x_2,\\cdots,x_n$ (ความยาวเวกเตอร์คือจำนวนจุดของข้อมูลที่เรามี) โดยที่แต่ละตัวเป็นค่าคนละอย่างเช่น $x_1$ อาจจะเป็นค่า audio signals, $x_2$ เป็นค่า pixel values for image data หรืออื่นๆ การใช้วิธีการนี้จะทำให้เราเปรียบเทียบค่าคนละชนิดกันได้ ดูว่าค่านั้นห่างจาก mean เท่าไหร่ (ดังนั้นเวลาหา mean, std ต้องแยกคิดทีละ column ตามแต่ละชนิดข้อมูล)\n",
    "\n",
    "$$x^{'} = \\frac{x-\\bar{x}}{\\sigma}$$\n",
    "\n",
    "Where \n",
    "- $x$ is the original feature vector, \n",
    "- $\\bar{x}$ is the mean of that feature vector\n",
    "- $\\sigma$ is its standard deviation of that feature vector."
   ]
  },
  {
   "cell_type": "code",
   "execution_count": 32,
   "metadata": {},
   "outputs": [],
   "source": [
    "def featureNormalize(X):\n",
    "    # X mxn\n",
    "    mu = np.mean(X,axis=0) # 1xn\n",
    "    sigma = np.std(X,axis=0,ddof=1) # 1xn\n",
    "    X_norm = (X-mu)/sigma\n",
    "    \n",
    "    return [X_norm,mu,sigma]"
   ]
  },
  {
   "cell_type": "markdown",
   "metadata": {},
   "source": [
    "ลองทำตามโจทย์ก่อน เพื่อทดสอบ Code และความเข้าใจ จากโจทย์พิจารณา Polynomail Model ที่ $p = 8$ จะได้"
   ]
  },
  {
   "cell_type": "code",
   "execution_count": 33,
   "metadata": {},
   "outputs": [],
   "source": [
    "p = 8\n",
    "\n",
    "# ========= Traning Set==========\n",
    "# Map X onto Polynomial Features and Normalize\n",
    "X_poly = polyFeatures(X,p)\n",
    "normalizeX = featureNormalize(X_poly)\n",
    "X_poly = normalizeX[0]\n",
    "mu_train = normalizeX[1][0]\n",
    "sigma_train = normalizeX[2][0]\n",
    "m_poly = X_poly.shape[0]\n",
    "ones_poly = np.ones((m_poly,1))\n",
    "X_poly = np.hstack((ones_poly,X_poly))\n",
    "\n",
    "# ========== Test Set ===========\n",
    "# Map X_poly_test and normalize (using mu and sigma from \"Training Set\")\n",
    "X_poly_test = polyFeatures(Xtest, p)\n",
    "X_poly_test = (X_poly_test-mu_train)/sigma_train\n",
    "m_poly_test = X_poly_test.shape[0]\n",
    "ones_poly_test = np.ones((m_poly_test,1))\n",
    "X_poly_test = np.hstack((ones_poly_test,X_poly_test))\n",
    "\n",
    "# ========== Cross Validation Set ==========\n",
    "# Map X_poly_val and normalize (using mu and sigma from \"Training Set\")\n",
    "X_poly_val = polyFeatures(Xval, p)\n",
    "X_poly_val = (X_poly_val-mu_train)/sigma_train\n",
    "m_poly_val = X_poly_val.shape[0]\n",
    "ones_poly_val = np.ones((m_poly_val,1))\n",
    "X_poly_val = np.hstack((ones_poly_val,X_poly_val))"
   ]
  },
  {
   "cell_type": "markdown",
   "metadata": {},
   "source": [
    "จะเห็นว่า**ตอนทำ Normalization ของ $X$ จาก CV Set และ Test Set นั้นใช้ค่า $\\sigma$ และ $\\mu$ ของ Training Set**"
   ]
  },
  {
   "cell_type": "markdown",
   "metadata": {},
   "source": [
    "ทดสอบฟังก์ชั่นดูค่า X_poly แถวแรก"
   ]
  },
  {
   "cell_type": "code",
   "execution_count": 34,
   "metadata": {},
   "outputs": [
    {
     "data": {
      "text/plain": [
       "matrix([[ 1.        , -0.36214078, -0.75508669,  0.18222588, -0.70618991,\n",
       "          0.30661792, -0.59087767,  0.3445158 , -0.50848117]])"
      ]
     },
     "execution_count": 34,
     "metadata": {},
     "output_type": "execute_result"
    }
   ],
   "source": [
    "X_poly[0,:]"
   ]
  },
  {
   "cell_type": "markdown",
   "metadata": {},
   "source": [
    "ถูกต้องตามเฉลยจ้า"
   ]
  },
  {
   "cell_type": "code",
   "execution_count": 35,
   "metadata": {},
   "outputs": [
    {
     "data": {
      "text/plain": [
       "matrix([[  2.99644020e+01,   7.87889103e+02,   4.81896178e+04,\n",
       "           1.73490431e+06,   9.39392040e+07,   3.85345373e+09,\n",
       "           1.97934705e+11,   8.68896800e+12]])"
      ]
     },
     "execution_count": 35,
     "metadata": {},
     "output_type": "execute_result"
    }
   ],
   "source": [
    "sigma_train"
   ]
  },
  {
   "cell_type": "code",
   "execution_count": 36,
   "metadata": {},
   "outputs": [
    {
     "data": {
      "text/plain": [
       "matrix([[ -5.08542635e+00,   8.48904834e+02,  -1.28290173e+04,\n",
       "           1.28967789e+06,  -2.98314592e+07,   2.29330301e+09,\n",
       "          -6.84527284e+10,   4.42233759e+12]])"
      ]
     },
     "execution_count": 36,
     "metadata": {},
     "output_type": "execute_result"
    }
   ],
   "source": [
    "mu_train"
   ]
  },
  {
   "cell_type": "markdown",
   "metadata": {},
   "source": [
    "ค่า mu และ sigma ก็ถูกต้องจ้า"
   ]
  },
  {
   "cell_type": "markdown",
   "metadata": {},
   "source": [
    "ไปทดสอบใช้ hypothesis function กันเลย ได้ $\\theta$ ที่ $p = 8, \\lambda = 0$ ดังนี้"
   ]
  },
  {
   "cell_type": "code",
   "execution_count": 37,
   "metadata": {},
   "outputs": [
    {
     "data": {
      "text/plain": [
       "array([ 11.21741824,  10.64942285,  20.80810632,  18.7339037 ,\n",
       "       -40.41232732, -45.71511239,  36.71977196,  36.61673759,  -3.02616139])"
      ]
     },
     "execution_count": 37,
     "metadata": {},
     "output_type": "execute_result"
    }
   ],
   "source": [
    "lambd_poly8 = 0\n",
    "init_theta = np.zeros(X_poly.shape[1])\n",
    "theta_poly8 = opt.fmin_tnc(func=linearRegCostFunction, x0=init_theta, fprime=linearRegGradFunction, \n",
    "                           args=(X_poly, y,lambd_poly8))[0]\n",
    "theta_poly8"
   ]
  },
  {
   "cell_type": "markdown",
   "metadata": {},
   "source": [
    "สร้าง Set $X$ สำหรับ plot ขึ้นมา (ต้องผ่าน process เดียวกับตอน train ก่อน) คือ  \n",
    "\n",
    "$$ X > \\text{Polynomial > Normalization > Add 1 column > Find }h_{\\theta}(X) = X\\theta$$"
   ]
  },
  {
   "cell_type": "code",
   "execution_count": 38,
   "metadata": {},
   "outputs": [],
   "source": [
    "# determine X range for plot\n",
    "upper_bound = max(X)+15\n",
    "lower_bound = min(X)-15\n",
    "t = np.matrix(np.arange(lower_bound, upper_bound, 0.05)).T\n",
    "\n",
    "# Map the X values for find h(x) \n",
    "t_poly = polyFeatures(t, p) # polynomial\n",
    "t_poly = (t_poly-mu_train)/sigma_train # normailization\n",
    "ones_t = np.ones((t_poly.shape[0],1))\n",
    "t_poly = np.hstack((ones_t,t_poly)) # add ones"
   ]
  },
  {
   "cell_type": "markdown",
   "metadata": {},
   "source": [
    "Plot"
   ]
  },
  {
   "cell_type": "code",
   "execution_count": 40,
   "metadata": {},
   "outputs": [
    {
     "data": {
      "image/png": "[encoded data removed]",
      "text/plain": [
       "<matplotlib.figure.Figure at 0x181b502da0>"
      ]
     },
     "metadata": {},
     "output_type": "display_data"
    }
   ],
   "source": [
    "plt.scatter(X,y,marker='x',color=\"r\")\n",
    "\n",
    "# Degree 1\n",
    "xest1 = range(-50,40)\n",
    "yest1 = theta_min[0] + theta_min[1]*xest1 \n",
    "plt.plot(xest1,yest1)\n",
    "\n",
    "# Degree 8\n",
    "plt.plot(t,t_poly.dot(np.matrix(theta_poly8).T),'b--')\n",
    "plt.xlabel('Change in water level (x)')\n",
    "plt.ylabel('Water flowing out of the dam (y)')\n",
    "plt.show()"
   ]
  },
  {
   "cell_type": "markdown",
   "metadata": {},
   "source": [
    "หลังจากเพิ่ม Polynomial แล้ว อยากรู้ว่าตอนนี้มัน high variance หรือ high bias ก็ plot learning curve (ดู error ของ train/test set กับจำนวนของ จุดที่เอามาใช้ train) จะได้ "
   ]
  },
  {
   "cell_type": "code",
   "execution_count": 48,
   "metadata": {},
   "outputs": [
    {
     "data": {
      "image/png": "[encoded data removed]",
      "text/plain": [
       "<matplotlib.figure.Figure at 0x1817f40a58>"
      ]
     },
     "metadata": {},
     "output_type": "display_data"
    }
   ],
   "source": [
    "learningCurve(X_poly,y,X_poly_val,yval,0)"
   ]
  },
  {
   "cell_type": "markdown",
   "metadata": {},
   "source": [
    "จะเห็นว่า traning_error น้อยกว่า CV_error มากๆ เข้ากับปัญหา overfitting(high variance) ดังนั้นในขั้นถัดไป เราอาจจะแก้โดยการ**เพิ่มขนาด $\\lambda$ ให้มากขึ้น**"
   ]
  },
  {
   "cell_type": "markdown",
   "metadata": {},
   "source": [
    "# 3.2 Adjusting the regularization parameter (Increasing λ)"
   ]
  },
  {
   "cell_type": "markdown",
   "metadata": {},
   "source": [
    "ลอง plot model ที่ $\\lambda = 1$"
   ]
  },
  {
   "cell_type": "code",
   "execution_count": 52,
   "metadata": {},
   "outputs": [
    {
     "data": {
      "image/png": "[encoded data removed]",
      "text/plain": [
       "<matplotlib.figure.Figure at 0x181b30ba90>"
      ]
     },
     "metadata": {},
     "output_type": "display_data"
    }
   ],
   "source": [
    "# Train from Training Set\n",
    "lambd_poly81 = 1\n",
    "theta_poly81 = opt.fmin_tnc(func=linearRegCostFunction, x0=init_theta, fprime=linearRegGradFunction, \n",
    "                           args=(X_poly, y,lambd_poly81))[0]\n",
    "\n",
    "plt.scatter(X,y,marker='x',color=\"r\")\n",
    "# Degree 8 Lambda 100\n",
    "plt.plot(t,t_poly.dot(np.matrix(theta_poly81).T),'b--')\n",
    "plt.xlabel('Change in water level (x)')\n",
    "plt.ylabel('Water flowing out of the dam (y)')\n",
    "plt.show()"
   ]
  },
  {
   "cell_type": "markdown",
   "metadata": {},
   "source": [
    "plot learning curve ดู"
   ]
  },
  {
   "cell_type": "code",
   "execution_count": 54,
   "metadata": {},
   "outputs": [
    {
     "data": {
      "image/png": "[encoded data removed]",
      "text/plain": [
       "<matplotlib.figure.Figure at 0x181c5c9f28>"
      ]
     },
     "metadata": {},
     "output_type": "display_data"
    }
   ],
   "source": [
    "learningCurve(X_poly,y,X_poly_val,yval,1)"
   ]
  },
  {
   "cell_type": "markdown",
   "metadata": {},
   "source": [
    "จะเห็นว่าที่ m มากๆ error ใกล้ๆกัน **อันนี้หมายถึง fit กำลังดี !!**"
   ]
  },
  {
   "cell_type": "markdown",
   "metadata": {},
   "source": [
    "ลอง plot ที่ $\\lambda = 100$"
   ]
  },
  {
   "cell_type": "code",
   "execution_count": 49,
   "metadata": {},
   "outputs": [
    {
     "data": {
      "image/png": "[encoded data removed]",
      "text/plain": [
       "<matplotlib.figure.Figure at 0x181c2d9048>"
      ]
     },
     "metadata": {},
     "output_type": "display_data"
    }
   ],
   "source": [
    "# Train from Training Set\n",
    "lambd_poly800 = 100\n",
    "theta_poly800 = opt.fmin_tnc(func=linearRegCostFunction, x0=init_theta, fprime=linearRegGradFunction, \n",
    "                           args=(X_poly, y,lambd_poly800))[0]\n",
    "\n",
    "plt.scatter(X,y,marker='x',color=\"r\")\n",
    "# Degree 8 Lambda 100\n",
    "plt.plot(t,t_poly.dot(np.matrix(theta_poly800).T),'b--')\n",
    "plt.xlabel('Change in water level (x)')\n",
    "plt.ylabel('Water flowing out of the dam (y)')\n",
    "plt.show()"
   ]
  },
  {
   "cell_type": "markdown",
   "metadata": {},
   "source": [
    "plot learning curve ดู"
   ]
  },
  {
   "cell_type": "code",
   "execution_count": 56,
   "metadata": {},
   "outputs": [
    {
     "data": {
      "image/png": "[encoded data removed]",
      "text/plain": [
       "<matplotlib.figure.Figure at 0x181c775b70>"
      ]
     },
     "metadata": {},
     "output_type": "display_data"
    }
   ],
   "source": [
    "learningCurve(X_poly,y,X_poly_val,yval,100)"
   ]
  },
  {
   "cell_type": "markdown",
   "metadata": {},
   "source": [
    "ภาพข้างบนคือที่ underfitting มากๆ"
   ]
  },
  {
   "cell_type": "markdown",
   "metadata": {},
   "source": [
    "# 3.3 Selecting λ using a cross validation set"
   ]
  },
  {
   "cell_type": "markdown",
   "metadata": {},
   "source": [
    "ในส่วนนี้เราจะหาค่า  $\\lambda$ ที่ทำให้ model จาก training set มี CV_error น้อยที่สุด"
   ]
  },
  {
   "cell_type": "code",
   "execution_count": 72,
   "metadata": {
    "collapsed": true
   },
   "outputs": [],
   "source": [
    "def validationCurve(X, y, Xval, yval):\n",
    "    #  Number of training examples\n",
    "    m = len(y)\n",
    "    m2 = len(yval)\n",
    "    # Training set\n",
    "    X = np.matrix(X) # m x n \n",
    "    y = np.matrix(y) # m x 1\n",
    "    # Test set     \n",
    "    Xval = np.matrix(Xval) # m2 x n\n",
    "    yval = np.matrix(yval) # m2 x 1\n",
    "    \n",
    "    lambda_vec = [0,0.001,0.003,0.01,0.03,0.1,0.3,1,3,10]\n",
    "    initial_theta = np.ones(X.shape[1])  # nx1\n",
    "    \n",
    "    # You need to return these values correctly\n",
    "    error_train = np.zeros(len(lambda_vec))\n",
    "    error_val   = np.zeros(len(lambda_vec))\n",
    "    \n",
    "    for i in range(len(lambda_vec)):    \n",
    "        # Train to find theta (m is vary from 1 to m)       \n",
    "        result = opt.fmin_tnc(func=linearRegCostFunction, x0=initial_theta, fprime=linearRegGradFunction, \n",
    "                              args=(X, y, lambda_vec[i]))  \n",
    "        theta_min = result[0]\n",
    "        \n",
    "        # find Train Error พิจารณาแค่จุดที่เอามา train หา theta\n",
    "        error_train[i] = linearRegCostFunction(theta_min,X,y,0)\n",
    "        \n",
    "        # find CV Error พิจารณาข้อมูลทั้ง set\n",
    "        error_val[i] = linearRegCostFunction(theta_min,Xval,yval,0)\n",
    "\n",
    "    return pd.DataFrame({'lambda_vec':lambda_vec,'train_error':error_train, 'CV_error':error_val})"
   ]
  },
  {
   "cell_type": "code",
   "execution_count": 74,
   "metadata": {},
   "outputs": [
    {
     "data": {
      "text/html": [
       "<div>\n",
       "<style>\n",
       "    .dataframe thead tr:only-child th {\n",
       "        text-align: right;\n",
       "    }\n",
       "\n",
       "    .dataframe thead th {\n",
       "        text-align: left;\n",
       "    }\n",
       "\n",
       "    .dataframe tbody tr th {\n",
       "        vertical-align: top;\n",
       "    }\n",
       "</style>\n",
       "<table border=\"1\" class=\"dataframe\">\n",
       "  <thead>\n",
       "    <tr style=\"text-align: right;\">\n",
       "      <th></th>\n",
       "      <th>CV_error</th>\n",
       "      <th>lambda_vec</th>\n",
       "      <th>train_error</th>\n",
       "    </tr>\n",
       "  </thead>\n",
       "  <tbody>\n",
       "    <tr>\n",
       "      <th>0</th>\n",
       "      <td>16.872668</td>\n",
       "      <td>0.000</td>\n",
       "      <td>0.044447</td>\n",
       "    </tr>\n",
       "    <tr>\n",
       "      <th>1</th>\n",
       "      <td>11.680215</td>\n",
       "      <td>0.001</td>\n",
       "      <td>0.121792</td>\n",
       "    </tr>\n",
       "    <tr>\n",
       "      <th>2</th>\n",
       "      <td>16.337900</td>\n",
       "      <td>0.003</td>\n",
       "      <td>0.170822</td>\n",
       "    </tr>\n",
       "    <tr>\n",
       "      <th>3</th>\n",
       "      <td>16.948871</td>\n",
       "      <td>0.010</td>\n",
       "      <td>0.221492</td>\n",
       "    </tr>\n",
       "    <tr>\n",
       "      <th>4</th>\n",
       "      <td>12.828827</td>\n",
       "      <td>0.030</td>\n",
       "      <td>0.281866</td>\n",
       "    </tr>\n",
       "    <tr>\n",
       "      <th>5</th>\n",
       "      <td>7.586833</td>\n",
       "      <td>0.100</td>\n",
       "      <td>0.459325</td>\n",
       "    </tr>\n",
       "    <tr>\n",
       "      <th>6</th>\n",
       "      <td>4.636988</td>\n",
       "      <td>0.300</td>\n",
       "      <td>0.921690</td>\n",
       "    </tr>\n",
       "    <tr>\n",
       "      <th>7</th>\n",
       "      <td>4.260620</td>\n",
       "      <td>1.000</td>\n",
       "      <td>2.076186</td>\n",
       "    </tr>\n",
       "    <tr>\n",
       "      <th>8</th>\n",
       "      <td>3.822907</td>\n",
       "      <td>3.000</td>\n",
       "      <td>4.901356</td>\n",
       "    </tr>\n",
       "    <tr>\n",
       "      <th>9</th>\n",
       "      <td>9.945511</td>\n",
       "      <td>10.000</td>\n",
       "      <td>16.092217</td>\n",
       "    </tr>\n",
       "  </tbody>\n",
       "</table>\n",
       "</div>"
      ],
      "text/plain": [
       "    CV_error  lambda_vec  train_error\n",
       "0  16.872668       0.000     0.044447\n",
       "1  11.680215       0.001     0.121792\n",
       "2  16.337900       0.003     0.170822\n",
       "3  16.948871       0.010     0.221492\n",
       "4  12.828827       0.030     0.281866\n",
       "5   7.586833       0.100     0.459325\n",
       "6   4.636988       0.300     0.921690\n",
       "7   4.260620       1.000     2.076186\n",
       "8   3.822907       3.000     4.901356\n",
       "9   9.945511      10.000    16.092217"
      ]
     },
     "execution_count": 74,
     "metadata": {},
     "output_type": "execute_result"
    }
   ],
   "source": [
    "validationCurve(X_poly,y,X_poly_val,yval)"
   ]
  },
  {
   "cell_type": "code",
   "execution_count": 86,
   "metadata": {},
   "outputs": [
    {
     "data": {
      "image/png": "[encoded data removed]",
      "text/plain": [
       "<matplotlib.figure.Figure at 0x181cc6aa90>"
      ]
     },
     "metadata": {},
     "output_type": "display_data"
    }
   ],
   "source": [
    "lamda_with_error = validationCurve(X_poly,y,X_poly_val,yval)\n",
    "plt.plot(lamda_with_error['lambda_vec'],lamda_with_error['train_error'])\n",
    "plt.plot(lamda_with_error['lambda_vec'],lamda_with_error['CV_error'])\n",
    "plt.xlabel('lambda')\n",
    "plt.ylabel('Error')\n",
    "plt.legend()\n",
    "plt.show()"
   ]
  },
  {
   "cell_type": "code",
   "execution_count": 91,
   "metadata": {},
   "outputs": [
    {
     "data": {
      "text/plain": [
       "3.0"
      ]
     },
     "execution_count": 91,
     "metadata": {},
     "output_type": "execute_result"
    }
   ],
   "source": [
    "lamda_with_error['lambda_vec'][lamda_with_error['CV_error'].idxmin()]"
   ]
  },
  {
   "cell_type": "markdown",
   "metadata": {},
   "source": [
    "จะได้ว่าที่ $\\lambda = 3$ ทำให้ CV_error มีค่าน้อยที่สุด"
   ]
  },
  {
   "cell_type": "markdown",
   "metadata": {},
   "source": [
    "# 3.4 Computing test set error"
   ]
  },
  {
   "cell_type": "markdown",
   "metadata": {},
   "source": [
    "หา test error จาก best lambda ที่เราเลือกมาจากข้อก่อนๆ จะได้ (*ควรได้ 3.8599*)"
   ]
  },
  {
   "cell_type": "code",
   "execution_count": 96,
   "metadata": {},
   "outputs": [
    {
     "data": {
      "text/plain": [
       "3.8598853600759542"
      ]
     },
     "execution_count": 96,
     "metadata": {},
     "output_type": "execute_result"
    }
   ],
   "source": [
    "best_theta_min = opt.fmin_tnc(func=linearRegCostFunction, x0=init_theta, fprime=linearRegGradFunction, args=(X_poly, y, 3))[0]  \n",
    "test_error = linearRegCostFunction(best_theta_min,X_poly_test,ytest,0)\n",
    "test_error"
   ]
  },
  {
   "cell_type": "markdown",
   "metadata": {},
   "source": [
    "ได้ค่าถูกต้องตามเฉลย"
   ]
  },
  {
   "cell_type": "markdown",
   "metadata": {},
   "source": [
    "# 3.5 Plotting learning curves with randomly selected examples"
   ]
  },
  {
   "cell_type": "markdown",
   "metadata": {},
   "source": [
    "ในตอนจะ plot learning curve ก่อนนี้เราเลือกจุดแรก จุดแรก+จุดสอง จุดแรก+จุดสาม ... เราควร random เลือกมา แต่สำคัญคือ ค่าที่ random มาต้องเหมือนกันทั้ง CV/test set"
   ]
  },
  {
   "cell_type": "markdown",
   "metadata": {},
   "source": [
    "# 3.6 Model Selection (การเลือก อันดับ model)"
   ]
  },
  {
   "cell_type": "markdown",
   "metadata": {},
   "source": [
    "ในส่วนนี้ไม่มีในแบบฝึกหัดชัดเจน แต่ทำเพิ่มขึ้นมาเอง"
   ]
  },
  {
   "cell_type": "markdown",
   "metadata": {},
   "source": [
    "จากนี้จะเป็น function สำหรับเลือก order ของ model (เอาที่ทำให้ CV error ต่ำสุด) พิจารณาที่ $\\lambda = 0$ (สมมติว่าตอนที่เรารู้ว่ามันเป็นปัญหา high bias แล้วเราเลือกแก้โดยการเพิ่ม polynomial ก่อนทำ regularization) \n",
    "\n",
    "โดยลอง plot ค่า CV/Train Error เทียบกับ order (p) ของแบบจำลองจะได้"
   ]
  },
  {
   "cell_type": "code",
   "execution_count": 116,
   "metadata": {},
   "outputs": [],
   "source": [
    "def optimalDegree(X,y,Xval,yval,p):\n",
    "    #  Number of training examples\n",
    "    m = len(y)\n",
    "    m2 = len(yval)\n",
    "    \n",
    "    # Training set\n",
    "    X = np.matrix(X) # m x (n-1) \n",
    "    y = np.matrix(y) # m x 1\n",
    "    \n",
    "    # Test set     \n",
    "    Xval = np.matrix(Xval) # m x (n-1)\n",
    "    yval = np.matrix(yval) # m x 1\n",
    "    \n",
    "    # You need to return these values correctly\n",
    "    error_train = np.zeros(p)\n",
    "    error_val   = np.zeros(p)\n",
    "    \n",
    "    ones = np.ones((m,1))   # mx1\n",
    "    \n",
    "    for i in range(1,p+1):\n",
    "        # ========= Traning Set==========\n",
    "        # Map X onto Polynomial Features and Normalize\n",
    "        X_poly = polyFeatures(X,i)\n",
    "        normalizeX = featureNormalize(X_poly)\n",
    "        X_poly = normalizeX[0]\n",
    "        mu_train = normalizeX[1][0]\n",
    "        sigma_train = normalizeX[2][0]\n",
    "        m_poly = X_poly.shape[0]\n",
    "        ones_poly = np.ones((m_poly,1))\n",
    "        X_poly = np.hstack((ones_poly,X_poly))\n",
    "\n",
    "        # ========== Cross Validation Set ==========\n",
    "        # Map X_poly_val and normalize (using mu and sigma from \"Training Set\")\n",
    "        X_poly_val = polyFeatures(Xval, i)\n",
    "        X_poly_val = (X_poly_val-mu_train)/sigma_train\n",
    "        m_poly_val = X_poly_val.shape[0]\n",
    "        ones_poly_val = np.ones((m_poly_val,1))\n",
    "        X_poly_val = np.hstack((ones_poly_val,X_poly_val))\n",
    "\n",
    "        # Initial theta     \n",
    "        initial_theta = np.zeros(X_poly.shape[1])  # nx1\n",
    "\n",
    "        # Train to find theta at lambda = 0\n",
    "        theta_min = opt.fmin_tnc(func=linearRegCostFunction, x0=initial_theta, \n",
    "                              fprime=linearRegGradFunction, args=(X_poly, y,0))[0]  \n",
    "        \n",
    "        # find Train Error พิจารณาแค่จุดที่เอามา train หา theta\n",
    "        error_train[i-1] = linearRegCostFunction(theta_min,X_poly,y,0)\n",
    "        \n",
    "        # find CV Error พิจารณาข้อมูลทั้ง set\n",
    "        error_val[i-1] = linearRegCostFunction(theta_min,X_poly_val,yval,0)\n",
    "        \n",
    "    return pd.DataFrame({'train_error':error_train, 'CV_error':error_val})"
   ]
  },
  {
   "cell_type": "code",
   "execution_count": 117,
   "metadata": {},
   "outputs": [
    {
     "data": {
      "text/html": [
       "<div>\n",
       "<style>\n",
       "    .dataframe thead tr:only-child th {\n",
       "        text-align: right;\n",
       "    }\n",
       "\n",
       "    .dataframe thead th {\n",
       "        text-align: left;\n",
       "    }\n",
       "\n",
       "    .dataframe tbody tr th {\n",
       "        vertical-align: top;\n",
       "    }\n",
       "</style>\n",
       "<table border=\"1\" class=\"dataframe\">\n",
       "  <thead>\n",
       "    <tr style=\"text-align: right;\">\n",
       "      <th></th>\n",
       "      <th>CV_error</th>\n",
       "      <th>train_error</th>\n",
       "    </tr>\n",
       "  </thead>\n",
       "  <tbody>\n",
       "    <tr>\n",
       "      <th>0</th>\n",
       "      <td>29.433819</td>\n",
       "      <td>22.373906</td>\n",
       "    </tr>\n",
       "    <tr>\n",
       "      <th>1</th>\n",
       "      <td>6.994650</td>\n",
       "      <td>1.018661</td>\n",
       "    </tr>\n",
       "    <tr>\n",
       "      <th>2</th>\n",
       "      <td>5.768795</td>\n",
       "      <td>0.716365</td>\n",
       "    </tr>\n",
       "    <tr>\n",
       "      <th>3</th>\n",
       "      <td>9.216273</td>\n",
       "      <td>0.303812</td>\n",
       "    </tr>\n",
       "    <tr>\n",
       "      <th>4</th>\n",
       "      <td>15.629606</td>\n",
       "      <td>0.208496</td>\n",
       "    </tr>\n",
       "    <tr>\n",
       "      <th>5</th>\n",
       "      <td>22.115353</td>\n",
       "      <td>0.198053</td>\n",
       "    </tr>\n",
       "    <tr>\n",
       "      <th>6</th>\n",
       "      <td>18.647771</td>\n",
       "      <td>0.039795</td>\n",
       "    </tr>\n",
       "    <tr>\n",
       "      <th>7</th>\n",
       "      <td>19.414167</td>\n",
       "      <td>0.042400</td>\n",
       "    </tr>\n",
       "    <tr>\n",
       "      <th>8</th>\n",
       "      <td>34.725131</td>\n",
       "      <td>0.040752</td>\n",
       "    </tr>\n",
       "    <tr>\n",
       "      <th>9</th>\n",
       "      <td>116.178652</td>\n",
       "      <td>0.029471</td>\n",
       "    </tr>\n",
       "  </tbody>\n",
       "</table>\n",
       "</div>"
      ],
      "text/plain": [
       "     CV_error  train_error\n",
       "0   29.433819    22.373906\n",
       "1    6.994650     1.018661\n",
       "2    5.768795     0.716365\n",
       "3    9.216273     0.303812\n",
       "4   15.629606     0.208496\n",
       "5   22.115353     0.198053\n",
       "6   18.647771     0.039795\n",
       "7   19.414167     0.042400\n",
       "8   34.725131     0.040752\n",
       "9  116.178652     0.029471"
      ]
     },
     "execution_count": 117,
     "metadata": {},
     "output_type": "execute_result"
    }
   ],
   "source": [
    "degreeData = optimalDegree(X,y,Xval,yval,10)\n",
    "degreeData"
   ]
  },
  {
   "cell_type": "markdown",
   "metadata": {},
   "source": [
    "ลอง plot เปรียบเทียบ CV error กับ Train Error ดูกับค่า p order ดังนี้"
   ]
  },
  {
   "cell_type": "code",
   "execution_count": 119,
   "metadata": {},
   "outputs": [
    {
     "data": {
      "image/png": "[encoded data removed]",
      "text/plain": [
       "<matplotlib.figure.Figure at 0x181c7689b0>"
      ]
     },
     "metadata": {},
     "output_type": "display_data"
    }
   ],
   "source": [
    "p_order = range(1,len(degreeData['train_error'])+1)\n",
    "p_cv_error = degreeData['CV_error']\n",
    "p_train_error = degreeData['train_error']\n",
    "plt.plot(p_order,p_train_error)\n",
    "plt.plot(p_order,p_cv_error)\n",
    "plt.ylabel(\"Error\")\n",
    "plt.xlabel(\"Order of model\")\n",
    "plt.legend()\n",
    "plt.show()"
   ]
  },
  {
   "cell_type": "code",
   "execution_count": 121,
   "metadata": {},
   "outputs": [
    {
     "name": "stdout",
     "output_type": "stream",
     "text": [
      "Order that minimize Cost : 3\n"
     ]
    }
   ],
   "source": [
    "print('Order that minimize Cost :',degreeData['CV_error'].idxmin() + 1)"
   ]
  },
  {
   "cell_type": "code",
   "execution_count": 122,
   "metadata": {},
   "outputs": [
    {
     "data": {
      "text/plain": [
       "0     29.433819\n",
       "1      6.994650\n",
       "2      5.768795\n",
       "3      9.216273\n",
       "4     15.629606\n",
       "5     22.115353\n",
       "6     18.647771\n",
       "7     19.414167\n",
       "8     34.725131\n",
       "9    116.178652\n",
       "Name: CV_error, dtype: float64"
      ]
     },
     "execution_count": 122,
     "metadata": {},
     "output_type": "execute_result"
    }
   ],
   "source": [
    "degreeData['CV_error']"
   ]
  },
  {
   "cell_type": "markdown",
   "metadata": {},
   "source": [
    "จะเห็นว่าสำหรับ training set ยิ่ง p มาก error จะน้อยลง (overfitting มากขึ้น) แต่ CV set จะน้อยสุดที่ **order = 3**"
   ]
  },
  {
   "cell_type": "markdown",
   "metadata": {},
   "source": [
    "ดังนั้นจะได้สมการ model คือ $h_{\\theta}(x) = \\theta_0+\\theta_1x_1+\\theta_2x_2+\\theta_3x_3 = \\theta_0+\\theta_1x+\\theta_2x^2+\\theta_3x^3$"
   ]
  },
  {
   "cell_type": "markdown",
   "metadata": {},
   "source": [
    "แก้หา $\\theta$ ที่ $p=3$ จาก training set ก่อน"
   ]
  },
  {
   "cell_type": "code",
   "execution_count": 133,
   "metadata": {},
   "outputs": [],
   "source": [
    "p3 = 3\n",
    "\n",
    "# ========= Traning Set==========\n",
    "# Map X onto Polynomial Features and Normalize\n",
    "X_poly3 = polyFeatures(X,p3)\n",
    "normalizeX3 = featureNormalize(X_poly3)\n",
    "X_poly3 = normalizeX3[0]\n",
    "mu_train3 = normalizeX3[1][0]\n",
    "sigma_train3 = normalizeX3[2][0]\n",
    "m_poly3 = X_poly3.shape[0]\n",
    "ones_poly3 = np.ones((m_poly3,1))\n",
    "X_poly3 = np.hstack((ones_poly3,X_poly3))\n",
    "\n",
    "# ========== Cross Validation Set ==========\n",
    "# Map X_poly_val and normalize (using mu and sigma from \"Training Set\")\n",
    "X_poly_val3 = polyFeatures(Xval, p3)\n",
    "X_poly_val3 = (X_poly_val3-mu_train3)/sigma_train3\n",
    "m_poly_val3 = X_poly_val3.shape[0]\n",
    "ones_poly_val3 = np.ones((m_poly_val3,1))\n",
    "X_poly_val3 = np.hstack((ones_poly_val3,X_poly_val3))"
   ]
  },
  {
   "cell_type": "code",
   "execution_count": 134,
   "metadata": {},
   "outputs": [
    {
     "data": {
      "text/plain": [
       "array([ 11.21758933,  11.840244  ,   7.95710754,   2.49688357])"
      ]
     },
     "execution_count": 134,
     "metadata": {},
     "output_type": "execute_result"
    }
   ],
   "source": [
    "lambd_poly3 = 0\n",
    "init_theta3 = np.zeros(X_poly3.shape[1])\n",
    "theta_poly3 = opt.fmin_tnc(func=linearRegCostFunction, x0=init_theta3, fprime=linearRegGradFunction, \n",
    "                           args=(X_poly3, y,lambd_poly3))[0]\n",
    "theta_poly3"
   ]
  },
  {
   "cell_type": "markdown",
   "metadata": {},
   "source": [
    "ลอง plot ดูสมการที่ order 3"
   ]
  },
  {
   "cell_type": "code",
   "execution_count": 135,
   "metadata": {
    "collapsed": true
   },
   "outputs": [],
   "source": [
    "# Map the X values for find h(x) \n",
    "t_poly3 = polyFeatures(t, p3) # polynomial\n",
    "t_poly3 = (t_poly3-mu_train3)/sigma_train3 # normailization\n",
    "ones_t3 = np.ones((t_poly3.shape[0],1))\n",
    "t_poly3 = np.hstack((ones_t3,t_poly3)) # add ones"
   ]
  },
  {
   "cell_type": "code",
   "execution_count": 136,
   "metadata": {
    "collapsed": true
   },
   "outputs": [],
   "source": [
    "lambd_poly3 = 0\n",
    "init_theta3 = np.zeros(X_poly3.shape[1])\n",
    "theta_poly3 = opt.fmin_tnc(func=linearRegCostFunction, x0=init_theta3, fprime=linearRegGradFunction, \n",
    "                           args=(X_poly3, y,lambd_poly3))[0]"
   ]
  },
  {
   "cell_type": "code",
   "execution_count": 137,
   "metadata": {},
   "outputs": [
    {
     "data": {
      "image/png": "[encoded data removed]",
      "text/plain": [
       "<matplotlib.figure.Figure at 0x1817f11be0>"
      ]
     },
     "metadata": {},
     "output_type": "display_data"
    }
   ],
   "source": [
    "plt.scatter(X,y,marker='x',color=\"r\")\n",
    "# Degree 1 Lambda 0\n",
    "xest1 = range(-50,40)\n",
    "yest1 = theta_min[0] + theta_min[1]*xest1 \n",
    "plt.plot(xest1,yest1)\n",
    "\n",
    "# Degree 3 Lambda 0\n",
    "plt.plot(t,t_poly3.dot(np.matrix(theta_poly3).T),'b--')\n",
    "plt.xlabel('Change in water level (x)')\n",
    "plt.ylabel('Water flowing out of the dam (y)')\n",
    "plt.show()"
   ]
  },
  {
   "cell_type": "markdown",
   "metadata": {},
   "source": [
    "จะเห็นว่าที่ order 3 model fit มาก"
   ]
  }
 ],
 "metadata": {
  "kernelspec": {
   "display_name": "Python 3",
   "language": "python",
   "name": "python3"
  },
  "language_info": {
   "codemirror_mode": {
    "name": "ipython",
    "version": 3
   },
   "file_extension": ".py",
   "mimetype": "text/x-python",
   "name": "python",
   "nbconvert_exporter": "python",
   "pygments_lexer": "ipython3",
   "version": "3.6.3"
  }
 },
 "nbformat": 4,
 "nbformat_minor": 2
}
