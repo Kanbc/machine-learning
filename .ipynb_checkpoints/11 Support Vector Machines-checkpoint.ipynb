{
 "cells": [
  {
   "cell_type": "markdown",
   "metadata": {
    "collapsed": true
   },
   "source": [
    "# Optimization Objective "
   ]
  },
  {
   "cell_type": "markdown",
   "metadata": {},
   "source": [
    "สำหรับปัญหา Classification แบบ Logistic Regression ถ้า y = 1 เราก็ต้องการให้ $h_{\\theta}(x) \\approx 1$ ซึ่งหมายความว่า $\\theta^{T}x >> 0$ เหมือนกันกับกรณีที่ $y=0$ ตัว $\\theta^{T}x << 0$"
   ]
  },
  {
   "cell_type": "markdown",
   "metadata": {},
   "source": [
    "<img src=\"img/58.png\" style=\"width:700px;\">"
   ]
  },
  {
   "cell_type": "markdown",
   "metadata": {},
   "source": [
    "กรณีที่ $y = 1$ จะได้ $J_{1}(\\theta) = -\\log\\frac{1}{1+e^{-z}}$ และที่ $y = 0$ จะได้ $J_{0}(\\theta) = -\\log(1-\\frac{1}{1+e^{-z}})$"
   ]
  },
  {
   "cell_type": "markdown",
   "metadata": {},
   "source": [
    "<img src=\"img/59.png\" style=\"width:700px;\">"
   ]
  },
  {
   "cell_type": "markdown",
   "metadata": {},
   "source": [
    "จากรูปข้างบนจะเห็น ถ้าเราประมาณกราฟ $-\\log\\frac{1}{1+e^{-z}}$ กับ $-\\log(1-\\frac{1}{1+e^{-z}})$ ด้วยกราฟที่คล้ายๆกัน คือ $\\text{Cost}_{1}(z)$ กับ $\\text{Cost}_{0}(z)$ เมื่อ $y = 1$ และ $0$ ตามลำดับ จะได้ว่า"
   ]
  },
  {
   "cell_type": "markdown",
   "metadata": {},
   "source": [
    "<img src=\"img/60.png\" style=\"width:700px;\">"
   ]
  },
  {
   "cell_type": "markdown",
   "metadata": {},
   "source": [
    "จะเห็นว่า Cost Function ของ SVM แม่งคล้ายๆ LR ที่แทน  $-\\log\\frac{1}{1+e^{-z}}$ กับ $-\\log(1-\\frac{1}{1+e^{-z}})$ ด้วย $\\text{Cost}_{1}(z)$ กับ $\\text{Cost}_{0}(z)$ ตามลำดับ เอา $\\frac{1}{m}$ ออก แล้วก็ย้าย $\\lambda$ ที่อยู่พจน์ข้างหลัง(Regularize) ไปไว้ข้างหน้าแทน (ให้ผลเหมือนกันแหละ เช่น ถ้าเราอยากให้นำหนักพจน์ข้างหลังเยอะๆ ก็เอา $C$ ค่าน้อยๆคูณพจน์ข้างหน้าแทน เป็นต้น)"
   ]
  },
  {
   "cell_type": "markdown",
   "metadata": {},
   "source": [
    "<img src=\"img/61.png\" style=\"width:700px;\">"
   ]
  },
  {
   "cell_type": "markdown",
   "metadata": {},
   "source": [
    "# Large Margin Intuition"
   ]
  },
  {
   "cell_type": "code",
   "execution_count": null,
   "metadata": {
    "collapsed": true
   },
   "outputs": [],
   "source": []
  }
 ],
 "metadata": {
  "kernelspec": {
   "display_name": "Python 3",
   "language": "python",
   "name": "python3"
  },
  "language_info": {
   "codemirror_mode": {
    "name": "ipython",
    "version": 3
   },
   "file_extension": ".py",
   "mimetype": "text/x-python",
   "name": "python",
   "nbconvert_exporter": "python",
   "pygments_lexer": "ipython3",
   "version": "3.6.3"
  }
 },
 "nbformat": 4,
 "nbformat_minor": 2
}
