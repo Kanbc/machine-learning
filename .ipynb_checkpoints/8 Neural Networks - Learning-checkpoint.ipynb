{
 "cells": [
  {
   "cell_type": "markdown",
   "metadata": {},
   "source": [
    "# Cost Function\n"
   ]
  },
  {
   "cell_type": "markdown",
   "metadata": {},
   "source": [
    "Let's first define a few variables that we will need to use:\n",
    "\n",
    "- L = total number of layers in the network\n",
    "- $s_l$ = number of units (not counting bias unit) in layer l\n",
    "- K = number of output units/classes\n",
    "\n",
    "Recall that in neural networks, we may have many output nodes. We denote $h_\\Theta(x)_k$ as being a hypothesis that results in the $k^{th}$ output. Our cost function for neural networks is going to be a generalization of the one we used for logistic regression. Recall that the cost function for regularized logistic regression was:\n",
    "\n",
    "$$J(\\theta) = - \\frac{1}{m} \\sum_{i=1}^m [ y^{(i)}\\ \\log (h_\\theta (x^{(i)})) + (1 - y^{(i)})\\ \\log (1 - h_\\theta(x^{(i)}))] + \\frac{\\lambda}{2m}\\sum_{j=1}^n \\theta_j^2$$\n",
    "\n",
    "For neural networks, it is going to be slightly more complicated:\n",
    "\n",
    "$$\\begin{gather*} J(\\Theta) = - \\frac{1}{m} \\sum_{i=1}^m \\sum_{k=1}^K \\left[y^{(i)}_k \\log ((h_\\Theta (x^{(i)}))_k) + (1 - y^{(i)}_k)\\log (1 - (h_\\Theta(x^{(i)}))_k)\\right] + \\frac{\\lambda}{2m}\\sum_{l=1}^{L-1} \\sum_{i=1}^{s_l} \\sum_{j=1}^{s_{l+1}} ( \\Theta_{j,i}^{(l)})^2\\end{gather*}$$\n",
    "\n",
    "We have added a few nested summations to account for our multiple output nodes. In the first part of the equation, before the square brackets, we have an additional nested summation that loops through the number of output nodes.\n",
    "\n",
    "In the regularization part, after the square brackets, we must account for multiple theta matrices. The number of columns in our current theta matrix is equal to the number of nodes in our current layer (including the bias unit). The number of rows in our current theta matrix is equal to the number of nodes in the next layer (excluding the bias unit). As before with logistic regression, we square every term.\n",
    "\n",
    "### Note:\n",
    "- the double sum simply adds up the logistic regression costs calculated for each cell in the output layer\n",
    "- the triple sum simply adds up the squares of all the individual Θs in the entire network.\n",
    "- the i in the triple sum does **not** refer to training example i"
   ]
  },
  {
   "cell_type": "markdown",
   "metadata": {},
   "source": [
    "# Backpropagation Algorithm\n",
    "\n",
    "\"Backpropagation\" is neural-network terminology for minimizing our cost function, just like what we were doing with gradient descent in logistic and linear regression. Our goal is to compute:\n",
    "\n",
    "$\\min_\\Theta J(\\Theta)$\n",
    "\n",
    "That is, we want to minimize our cost function $J$ using an optimal set of parameters in theta. In this section we'll look at the equations we use to compute the partial derivative of $J(\\Theta)$:\n",
    "\n",
    "\n",
    "$\\dfrac{\\partial}{\\partial \\Theta_{i,j}^{(l)}}J(\\Theta)$\n",
    "\n",
    "To do so, we use the following algorithm:\n",
    "\n",
    "![](img/40.png)\n",
    "\n",
    "### Back propagation Algorithm\n",
    "\n",
    "Given training set $\\lbrace (x^{(1)}, y^{(1)}) \\cdots (x^{(m)}, y^{(m)})\\rbrace$\n",
    "\n",
    "- Set $ \\Delta^{(l)}_{i,j}:= 0$ for all $(l,i,j)$, (hence you end up having a matrix full of zeros)\n",
    "\n",
    "For training example $t =1$ to $m$:\n",
    "\n",
    "1.Set $a^{(1)}:=x^{(t)}$\n",
    "\n",
    "2.Perform forward propagation to compute $a^{(l)}$ for $l=2,3,…,L$\n",
    "![](img/41.png)\n",
    "3.Using $y^{(t)}$, compute $\\delta^{(L)} = a^{(L)} - y^{(t)}$ \n",
    "\n",
    "Where $L$ is our total number of layers and $a^{(L)}$ is the vector of outputs of the activation units for the last layer. So our \"error values\" for the last layer are simply the differences of our actual results in the last layer and the correct outputs in $y$. To get the delta values of the layers before the last layer, we can use an equation that steps us back from right to left:\n",
    "\n",
    "4.Compute $\\delta^{(L-1)}, \\delta^{(L-2)},\\dots,\\delta^{(2)}$ using $\\delta^{(l)} = ((\\Theta^{(l)})^T \\delta^{(l+1)})\\ .*\\ a^{(l)}\\ .*\\ (1 - a^{(l)})$\n",
    "\n",
    "The delta values of layer l are calculated by multiplying the delta values in the next layer with the theta matrix of layer l. We then element-wise multiply that with a function called g', or g-prime, which is the derivative of the activation function g evaluated with the input values given by $z^{(l)}$.\n",
    "\n",
    "The g-prime derivative terms can also be written out as:\n",
    "\n",
    "$g'(z^{(l)}) = a^{(l)}\\ .*\\ (1 - a^{(l)})$\n",
    "\n",
    "5.$\\Delta^{(l)}_{i,j} := \\Delta^{(l)}_{i,j} + a_j^{(l)} \\delta_i^{(l+1)}$ or with vectorization, $\\Delta^{(l)} := \\Delta^{(l)} + \\delta^{(l+1)}(a^{(l)})^T$\n",
    "\n",
    "Hence we update our new Δ matrix.\n",
    "- $D^{(l)}_{i,j} := \\dfrac{1}{m}\\left(\\Delta^{(l)}_{i,j} + \\lambda\\Theta^{(l)}_{i,j}\\right)$\n",
    "- $D^{(l)}_{i,j} := \\dfrac{1}{m}\\Delta^{(l)}_{i,j}$\n",
    "\n",
    "The capital-delta matrix D is used as an \"accumulator\" to add up our values as we go along and eventually compute our partial derivative. Thus we get $\\frac \\partial {\\partial \\Theta_{ij}^{(l)}} J(\\Theta)$"
   ]
  },
  {
   "cell_type": "markdown",
   "metadata": {},
   "source": [
    "# Backpropagation Intuition\n",
    "\n",
    "Recall that the cost function for a neural network is:\n",
    "\n",
    "$$\\begin{gather*}J(\\Theta) = - \\frac{1}{m} \\sum_{t=1}^m\\sum_{k=1}^K \\left[ y^{(t)}_k \\ \\log (h_\\Theta (x^{(t)}))_k + (1 - y^{(t)}_k)\\ \\log (1 - h_\\Theta(x^{(t)})_k)\\right] + \\frac{\\lambda}{2m}\\sum_{l=1}^{L-1} \\sum_{i=1}^{s_l} \\sum_{j=1}^{s_l+1} ( \\Theta_{j,i}^{(l)})^2\\end{gather*}$$\n",
    "\n",
    "If we consider simple non-multiclass classification ($k = 1$) and disregard regularization, the cost is computed with:\n",
    "\n",
    "$$cost(t) =y^{(t)} \\ \\log (h_\\Theta (x^{(t)})) + (1 - y^{(t)})\\ \\log (1 - h_\\Theta(x^{(t)}))$$\n",
    "\n",
    "Intuitively, $\\delta^{(l)}_j$ is the \"error\" for $a^{(l)}_j$ (unit $j$ in layer $l$). More formally, the delta values are actually the derivative of the cost function:\n",
    "\n",
    "$\\delta_j^{(l)} = \\dfrac{\\partial}{\\partial z_j^{(l)}} cost(t)$\n",
    "\n",
    "Recall that our derivative is the slope of a line tangent to the cost function, so the steeper the slope the more incorrect we are. Let us consider the following neural network below and see how we could calculate some $\\delta_j^{(l)}$:\n",
    "\n",
    "![](img/42.png)\n",
    "\n",
    "In the image above, to calculate $\\delta_2^{(2)}$, we multiply the weights $\\Theta_{12}^{(2)}$ and $\\Theta_{22}^{(2)}$ by their respective $\\delta$ values found to the right of each edge. So we get $\\delta^{(2)}_2 = \\Theta_{12}^{(2)}*\\delta^{(3)}_1 + \\Theta_{22}^{(2)}*\\delta^{(3)}_2 $. To calculate every single possible $\\delta_j^{(l)}$, we could start from the right of our diagram. We can think of our edges as our $\\Theta_{ij}$. Going from right to left, to calculate the value of $\\delta_j^{(l)}$, you can just take the over all sum of each weight times the $\\delta$ it is coming from. Hence, another example would be $\\delta^{(3)}_2 = \\Theta_{12}^{(3)}*\\delta^{(4)}_1$."
   ]
  },
  {
   "cell_type": "markdown",
   "metadata": {},
   "source": [
    "# Implementation Note: Unrolling Parameters\n",
    "\n",
    "With neural networks, we are working with sets of **matrices**:\n",
    "\n",
    "$\\begin{align*} \\Theta^{(1)}, \\Theta^{(2)}, \\Theta^{(3)}, \\dots \\newline D^{(1)}, D^{(2)}, D^{(3)}, \\dots \\end{align*}$\n",
    "\n",
    "In order to use optimizing functions such as `\"fminunc()\"`, we will want to \"unroll\" all the elements and put them into **one long vector**:\n",
    "\n",
    "`thetaVector = [ Theta1(:); Theta2(:); Theta3(:); ]\n",
    "deltaVector = [ D1(:); D2(:); D3(:) ]`\n",
    "\n",
    "If the dimensions of Theta1 is 10x11, Theta2 is 10x11 and Theta3 is 1x11, then we can get back our original matrices from the \"unrolled\" versions as follows:\n",
    "\n",
    "`Theta1 = reshape(thetaVector(1:110),10,11)\n",
    "Theta2 = reshape(thetaVector(111:220),10,11)\n",
    "Theta3 = reshape(thetaVector(221:231),1,11)`\n",
    "\n",
    "To summarize:\n",
    "\n",
    "![](img/43.png)"
   ]
  },
  {
   "cell_type": "markdown",
   "metadata": {
    "collapsed": true
   },
   "source": [
    "# Gradient Checking \n",
    "\n",
    "เอาไว้ตรวจสอบผลของโปรแกรม `Gradient` แบบ backpropagation (หรืออื่นๆที่ซับซ้อนมากๆ) เนื่องจากแม่งซับซ้อนมาก วิธีนี้จะช่วย debug code ของเราได้อย่างดี\n",
    "\n",
    "Gradient checking will assure that our backpropagation works as intended. We can approximate the derivative of our cost function with:\n",
    "\n",
    "$$\\dfrac{\\partial}{\\partial\\Theta}J(\\Theta) \\approx \\dfrac{J(\\Theta + \\epsilon) - J(\\Theta - \\epsilon)}{2\\epsilon}$$\n",
    "\n",
    "With multiple theta matrices, we can approximate the derivative with respect to $\\Theta_j$ as follows:\n",
    "\n",
    "$$\\dfrac{\\partial}{\\partial\\Theta_j}J(\\Theta) \\approx \\dfrac{J(\\Theta_1, \\dots, \\Theta_j + \\epsilon, \\dots, \\Theta_n) - J(\\Theta_1, \\dots, \\Theta_j - \\epsilon, \\dots, \\Theta_n)}{2\\epsilon}$$\n",
    "\n",
    "A small value for ${\\epsilon}$ (epsilon) such as ${\\epsilon}=10^{−4}$, guarantees that the math works out properly. If the value for ϵ is too small, we can end up with numerical problems.\n",
    "\n",
    "Hence, we are only adding or subtracting epsilon to the $\\Theta_j$ matrix. In octave we can do it as follows:\n",
    "\n",
    "`epsilon = 1e-4;\n",
    "for i = 1:n,\n",
    "  thetaPlus = theta;\n",
    "  thetaPlus(i) += epsilon;\n",
    "  thetaMinus = theta;\n",
    "  thetaMinus(i) -= epsilon;\n",
    "  gradApprox(i) = (J(thetaPlus) - J(thetaMinus))/(2*epsilon)\n",
    "end;\n",
    "`\n",
    "\n",
    "We previously saw how to calculate the deltaVector. So once we compute our gradApprox vector, we can check that gradApprox ≈ deltaVector.\n",
    "\n",
    "Once you have verified **once** that your backpropagation algorithm is correct, you don't need to compute gradApprox again. The code to compute gradApprox can be very slow.\n",
    "\n",
    "ก็คือหลังจาก check ผล ของ backpropagation algorithm เรียบร้อยแล้ว ก็ยกเลิก code ส่วน gradApprox เลย แม่งช้า"
   ]
  },
  {
   "cell_type": "markdown",
   "metadata": {},
   "source": [
    "# Random Initialization\n",
    "\n",
    "Initializing all **theta weights to zero does not work with neural networks**. When we backpropagate, all nodes will update to the same value repeatedly. \n",
    "\n",
    "Instead we can randomly initialize our weights for our $\\Theta$ matrices using the following method:\n",
    "\n",
    "![](img/44.png)\n",
    "\n",
    "**Hence, we initialize each $\\Theta^{(l)}_{ij}$ to a random value between $[-\\epsilon,\\epsilon]$. Using the above formula guarantees that we get the desired bound**. The same procedure applies to all the Θ's. Below is some working code you could use to experiment.\n",
    "\n",
    "`#If the dimensions of Theta1 is 10x11, Theta2 is 10x11 and Theta3 is 1x11.\n",
    "Theta1 = rand(10,11) * (2 * INIT_EPSILON) - INIT_EPSILON;\n",
    "Theta2 = rand(10,11) * (2 * INIT_EPSILON) - INIT_EPSILON;\n",
    "Theta3 = rand(1,11) * (2 * INIT_EPSILON) - INIT_EPSILON;`\n",
    "\n",
    "rand(x,y) is just a function in octave that will initialize a matrix of random real numbers between 0 and 1.\n",
    "\n",
    "**(Note: the epsilon used above is unrelated to the epsilon from Gradient Checking)**"
   ]
  },
  {
   "cell_type": "markdown",
   "metadata": {},
   "source": [
    "# Putting it Together (สรุปขั้นตอนการทำ NN)\n",
    "\n",
    "First, pick a network architecture; **choose the layout** of your neural network, including **how many hidden units** in each layer and **how many layers** in total you want to have.\n",
    "\n",
    "- Number of input units = dimension of features $x^{(i)}$ (**รู้อยู่แล้ว**)\n",
    "- Number of output units = number of classes (**รู้อยู่แล้ว**)\n",
    "- Number of hidden units per layer = usually more the better (must balance with cost of computation as it increases with more hidden units)\n",
    "- Defaults: 1 hidden layer. If you have more than 1 hidden layer, then it is recommended that you have the **same number of units in every hidden layer**.\n",
    " \n",
    "### Training a Neural Network\n",
    "\n",
    "1. Randomly **initialize** the weights\n",
    "2. Implement **forward propagation** to get $h_\\Theta(x^{(i)})$ for any $x^{(i)}$\n",
    "3. Implement the **cost function**\n",
    "4. Implement **backpropagation** to compute partial derivatives\n",
    "5. Use **gradient checking** to confirm that your backpropagation works. Then disable gradient checking.\n",
    "6. Use **gradient descent** or a **built-in optimization function** to minimize the cost function with the weights in theta.\n",
    "\n",
    "When we perform forward and back propagation, we loop on every training example:\n",
    "\n",
    "`\n",
    "for i = 1:m,\n",
    "   Perform forward propagation and backpropagation using example (x(i),y(i))\n",
    "   (Get activations a(l) and delta terms d(l) for l = 2,...,L\n",
    "`\n",
    "\n",
    "The following image gives us an intuition of what is happening as we are implementing our neural network:\n",
    "\n",
    "![](img/45.png)\n",
    "\n",
    "Ideally, you want $h_\\Theta(x^{(i)}) \\approx  y^{(i)}$. This will **minimize our cost function**. However, keep in mind that $J(\\Theta)$ is **not convex** and thus we can end up in a **local minimum instead**. (ซึ่งเชคได้ว่าจุดนี้น่าจะ global หรือเป็นจุด local ที่ใช้ได้ก็ต้องลอง random initialize ใหม่เรื่อยๆ ดูค่าที่ $h_\\Theta(x^{(i)}) \\approx  y^{(i)}$ ที่สุด )"
   ]
  },
  {
   "cell_type": "markdown",
   "metadata": {},
   "source": [
    "# ================= CODE ===================="
   ]
  },
  {
   "cell_type": "code",
   "execution_count": 11,
   "metadata": {
    "collapsed": true
   },
   "outputs": [],
   "source": [
    "import numpy as np  \n",
    "import pandas as pd  \n",
    "import matplotlib.pyplot as plt  \n",
    "from scipy.io import loadmat\n",
    "\n",
    "data = loadmat('programing/machine-learning-ex4/ex4/ex4data1.mat')\n",
    "\n",
    "# มีรูปขนาด 20x20 pixel 5000 รูป โดยเก็บสีของแต่ละรูปแบบ gray scale ไว้แต่ละ row ของ X (400 pixel)\n",
    "# และเก็บผลเฉลยว่ารูปแสดงถึงเลขอะไร (1-10 โดยที่ 10 แทนเลข 0) ไว้ใน y\n",
    "\n",
    "img_row = data['X']\n",
    "number = data['y']"
   ]
  },
  {
   "cell_type": "code",
   "execution_count": 12,
   "metadata": {},
   "outputs": [
    {
     "data": {
      "text/plain": [
       "((5000, 400), (5000, 1))"
      ]
     },
     "execution_count": 12,
     "metadata": {},
     "output_type": "execute_result"
    }
   ],
   "source": [
    "img_row.shape, number.shape"
   ]
  },
  {
   "cell_type": "markdown",
   "metadata": {},
   "source": [
    "# แสดง sample รูปบางส่วน"
   ]
  },
  {
   "cell_type": "code",
   "execution_count": 9,
   "metadata": {
    "collapsed": true
   },
   "outputs": [],
   "source": [
    "# สุ่มหยิบรูปจาก 5000 รูป เอาแค่ 100\n",
    "number_of_img = 100\n",
    "def displayData(img_row,img_number):\n",
    "    rand_indices = np.random.permutation(len(img_row)) # rand 0-5000\n",
    "    sample = img_row[rand_indices[0:img_number]] # get sample\n",
    "\n",
    "    side = img_number**(1/2)\n",
    "    if (side).is_integer() :\n",
    "        side = (int)(side)\n",
    "        space_3d = np.zeros((side*20,side*20))\n",
    "        for i in range(side):\n",
    "            row_num = side*i\n",
    "            for j in range(side):\n",
    "                space_3d[20*i:20*i+20,j*20:20*j+20] = sample[row_num+j].reshape((20,20)).T\n",
    "\n",
    "        plt.imshow(space_3d, cmap='gray')\n",
    "        plt.show()\n",
    "    else:\n",
    "        print(\"Sqrt of number should be integer\")"
   ]
  },
  {
   "cell_type": "code",
   "execution_count": 10,
   "metadata": {},
   "outputs": [
    {
     "data": {
      "image/png": "[encoded data removed]",
      "text/plain": [
       "<matplotlib.figure.Figure at 0x110ce3be0>"
      ]
     },
     "metadata": {},
     "output_type": "display_data"
    }
   ],
   "source": [
    "displayData(img_row,100)"
   ]
  },
  {
   "cell_type": "markdown",
   "metadata": {},
   "source": [
    "# โจทย์\n",
    "\n",
    "**ใช้ Neural Network ทำ Classification กับข้อมูลรูป 0-9 ที่มีให้**\n",
    "\n",
    "#### Hint\n",
    "\n",
    "จากแบบฝึกข้อที่แล้ว เราได้ลอง feedforword propagation สำหรับ neural networks ไปแล้ว แต่พารามิเตอร์นั้นเราใช้ของที่แบบฝึกหัดหามาให้ ในข้อนี้เราจะหาเองจาก **backpropagation algorithm**\n",
    "\n",
    "แต่ละรูปที่โจทย์ให้มา มีขนาด 20x20 pixel = 400 pixel โดยแต่ละ pixel ก็คือ ตัวแปรต้น $x_1,x_2,x_3,\\cdots,x_{400}$\n",
    "\n",
    "เมื่อมี sample 5000 รูป เก็บไว้ใน matrix จะได้ $X \\in \\mathbb{R}^{5000x400}$"
   ]
  },
  {
   "cell_type": "markdown",
   "metadata": {},
   "source": [
    "$$X = \\begin{bmatrix}x_1^{(1)} & x_2^{(1)} & \\cdots & x_{400}^{(1)} \\newline\n",
    "x_1^{(2)} & x_2^{(2)} & \\cdots & x_{400}^{(2)} \\newline\n",
    "\\vdots & \\vdots & \\cdots & \\vdots \\newline\n",
    "x_1^{(5000)} & x_2^{(5000)} & \\cdots & x_{400}^{(5000)} \\newline\n",
    "\\end{bmatrix}$$"
   ]
  },
  {
   "cell_type": "markdown",
   "metadata": {},
   "source": [
    "และ $y$ คือ vector ที่เก็บผล label รูปภาพแต่ละรูปไว้ ซึ่งมีค่า 0-9 จะได้ $y \\in \\mathbb{R}^{5000x1}$"
   ]
  },
  {
   "cell_type": "markdown",
   "metadata": {},
   "source": [
    "เราจะเริ่มทีละ Step ตามที่เค้าสอนข้างบนดังนี้"
   ]
  },
  {
   "cell_type": "markdown",
   "metadata": {},
   "source": [
    "## 0 - Pick a network architecture\n",
    "- เลือกจำนวน hidden layer : ในที่นี้ขอเลือก 1 hidden layer เมื่อรวมกับ input และ output layer จะมีทั้งหมด **3 layer**.\n",
    "- Number of input units = dimension of features $x^{(i)}$ : ดังนั้นข้อนี้มี 400 unit + 1 bias unit = **401 unit**\n",
    "- Number of output units = number of classes : ในที่นี้มี output ที่เป็นไปได้คือ 0-9 ดังนั้น มี **10 unit**\n",
    "- Number of hidden units per layer = usually more the better (ยิ่งเยอะยิ่งดี แต่ก็ทำให้โมเดลซับซ้อนขึ้น) : **25 unit**\n",
    "\n",
    "สุดท้ายได้รูปประมาณนี้\n",
    "![](img/46.png)"
   ]
  },
  {
   "cell_type": "code",
   "execution_count": 16,
   "metadata": {
    "collapsed": true
   },
   "outputs": [],
   "source": [
    "input_layer_size = 400 # 20x20 Input Images of Digits\n",
    "hidden_layer_size = 25 # 25 hidden units\n",
    "num_labels = 10        # 10 labels, from 1 to 10 (note that we have mapped \"0\" to label 10)"
   ]
  },
  {
   "cell_type": "markdown",
   "metadata": {},
   "source": [
    "## 1 - Randomly initialize the weights\n",
    "สร้างฟังก์ชั่น random ค่า $\\Theta$ ตั้งต้นสำหรับ train function\n",
    "\n",
    "โดย $\\Theta^{(l)} \\in \\mathbb{R}^{(S^{l+1})x(S^{l})}$\n",
    "\n",
    "เมื่อ $S^{l}$ คือจำนวน unit ที่ layer $l$\n",
    "\n",
    "จากปัญหาข้อนี้ มีการแปลง 2 ครั้ง ดังนั้นจะมี $\\Theta^{(1)}, \\Theta^{(2)}$ ซึ่งโจทย์แม่งให้มาแล้ว\n",
    "\n",
    "ดังนั้นจะได้"
   ]
  },
  {
   "cell_type": "code",
   "execution_count": 20,
   "metadata": {},
   "outputs": [],
   "source": [
    "nn_params = loadmat('programing/machine-learning-ex4/ex4/ex4weights.mat')\n",
    "\n",
    "Theta1 = nn_params['Theta1']\n",
    "Theta2 = nn_params['Theta2']"
   ]
  },
  {
   "cell_type": "code",
   "execution_count": 23,
   "metadata": {},
   "outputs": [
    {
     "data": {
      "text/plain": [
       "((25, 401), (10, 26))"
      ]
     },
     "execution_count": 23,
     "metadata": {},
     "output_type": "execute_result"
    }
   ],
   "source": [
    "Theta1.shape , Theta2.shape"
   ]
  },
  {
   "cell_type": "markdown",
   "metadata": {},
   "source": [
    "## 2 - Implement forward propagation to get $h_\\Theta(x^{(i)})$ for any $x^{(i)}$\n",
    "\n"
   ]
  },
  {
   "cell_type": "markdown",
   "metadata": {},
   "source": [
    "## 3 - Implement the Cost function\n",
    "\n"
   ]
  },
  {
   "cell_type": "markdown",
   "metadata": {},
   "source": [
    "## 4 - Compute partial derivatives (backpropagation)"
   ]
  },
  {
   "cell_type": "markdown",
   "metadata": {},
   "source": [
    "## 5 - Use gradient checking"
   ]
  },
  {
   "cell_type": "markdown",
   "metadata": {},
   "source": [
    "## 6 - Use gradient descent or a built-in optimization function\n"
   ]
  },
  {
   "cell_type": "code",
   "execution_count": null,
   "metadata": {
    "collapsed": true
   },
   "outputs": [],
   "source": []
  }
 ],
 "metadata": {
  "kernelspec": {
   "display_name": "Python 3",
   "language": "python",
   "name": "python3"
  },
  "language_info": {
   "codemirror_mode": {
    "name": "ipython",
    "version": 3
   },
   "file_extension": ".py",
   "mimetype": "text/x-python",
   "name": "python",
   "nbconvert_exporter": "python",
   "pygments_lexer": "ipython3",
   "version": "3.6.3"
  }
 },
 "nbformat": 4,
 "nbformat_minor": 2
}
