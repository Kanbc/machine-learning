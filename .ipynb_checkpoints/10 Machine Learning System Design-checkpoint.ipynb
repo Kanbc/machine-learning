{
 "cells": [
  {
   "cell_type": "markdown",
   "metadata": {},
   "source": [
    "# Prioritizing What to Work On\n",
    "\n",
    "#### System Design Example:\n",
    "\n",
    "Given a data set of emails, we could construct a vector for each email. Each entry in this vector represents a word. The vector normally contains 10,000 to 50,000 entries gathered by finding the most frequently used words in our data set. If a word is to be found in the email, we would assign its respective entry a 1, else if it is not found, that entry would be a 0. Once we have all our x vectors ready, we train our algorithm and finally, we could use it to classify if an email is a spam or not.\n",
    "\n",
    "![](img/52.png)\n",
    "\n",
    "So how could you spend your time to improve the accuracy of this classifier?\n",
    "\n",
    "- Collect lots of data (for example \"honeypot\" project but doesn't always work)\n",
    "- Develop sophisticated features (for example: using email header data in spam emails)\n",
    "- Develop algorithms to process your input in different ways (recognizing misspellings in spam).\n",
    "\n",
    "It is difficult to tell which of the options will be most helpful."
   ]
  },
  {
   "cell_type": "code",
   "execution_count": null,
   "metadata": {
    "collapsed": true
   },
   "outputs": [],
   "source": []
  }
 ],
 "metadata": {
  "kernelspec": {
   "display_name": "Python 3",
   "language": "python",
   "name": "python3"
  },
  "language_info": {
   "codemirror_mode": {
    "name": "ipython",
    "version": 3
   },
   "file_extension": ".py",
   "mimetype": "text/x-python",
   "name": "python",
   "nbconvert_exporter": "python",
   "pygments_lexer": "ipython3",
   "version": "3.6.3"
  }
 },
 "nbformat": 4,
 "nbformat_minor": 2
}
