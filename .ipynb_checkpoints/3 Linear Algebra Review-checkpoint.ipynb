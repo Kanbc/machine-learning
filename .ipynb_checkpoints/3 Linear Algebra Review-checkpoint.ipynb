{
 "cells": [
  {
   "cell_type": "markdown",
   "metadata": {},
   "source": [
    "# Matrics and Vectors\n",
    "\n",
    "Matrices are 2-dimensional arrays:\n",
    "\n",
    "$$\\begin{bmatrix} a & b & c \\newline d & e & f \\newline g & h & i \\newline j & k & l\\end{bmatrix}$$\n",
    "\n",
    "The above matrix has four rows and three columns, so it is a 4 x 3 matrix.\n",
    "\n",
    "A vector is a matrix with one column and many rows:\n",
    "\n",
    "$$ \\begin{bmatrix} w \\newline x \\newline y \\newline z \\end{bmatrix}$$\n",
    "\n",
    "So vectors are a subset of matrices. The above vector is a 4 x 1 matrix\n",
    "\n",
    "### Notation and terms:\n",
    "\n",
    "- $A_{ij}$ refers to the element in the ith row and jth column of matrix A.\n",
    "- A vector with 'n' rows is referred to as an 'n'-dimensional vector.\n",
    "- $v_{i}$ refers to the element in the ith row of the vector.\n",
    "- In general, all our vectors and matrices will be 1-indexed. Note that for some programming languages, the arrays are 0-indexed.\n",
    "- **Matrices are usually denoted by uppercase names while vectors are lowercase.**\n",
    "- **\"Scalar\" means that an object is a single value, not a vector or matrix.**\n",
    "- $\\mathbb{R}$ refers to the set of scalar real numbers.\n",
    "- $\\mathbb{R}_{n}$ refers to the set of n-dimensional vectors of real numbers."
   ]
  },
  {
   "cell_type": "markdown",
   "metadata": {},
   "source": [
    "# Addition and Scalar Multiplication\n",
    "\n",
    "Addition and subtraction are **element-wise**, so you simply add or subtract each corresponding element:\n",
    "\n",
    "$$\\begin{bmatrix} a & b \\newline c & d \\newline \\end{bmatrix} +\\begin{bmatrix} w & x \\newline y & z \\newline \\end{bmatrix} = \\begin{bmatrix} a+w & b+x \\newline c+y & d+z \\newline \\end{bmatrix}$$\n",
    "\n",
    "Subtracting Matrices:\n",
    "\n",
    "$$\\begin{bmatrix} a & b \\newline c & d \\newline \\end{bmatrix} - \\begin{bmatrix} w & x \\newline y & z \\newline \\end{bmatrix} =\\begin{bmatrix} a-w & b-x \\newline c-y & d-z \\newline \\end{bmatrix}$$\n",
    "\n",
    "To add or subtract two matrices, their dimensions must be **the same.**\n",
    "\n",
    "In scalar multiplication, we simply multiply every element by the scalar value:\n",
    "\n",
    "$$\\begin{bmatrix} a & b \\newline c & d \\newline \\end{bmatrix} * x =\\begin{bmatrix} a*x & b*x \\newline c*x & d*x \\newline \\end{bmatrix}$$\n",
    "\n",
    "In scalar division, we simply divide every element by the scalar value:\n",
    "\n",
    "$$\\begin{bmatrix} a & b \\newline c & d \\newline \\end{bmatrix} / x =\\begin{bmatrix} a /x & b/x \\newline c /x & d /x \\newline \\end{bmatrix}$$"
   ]
  },
  {
   "cell_type": "code",
   "execution_count": null,
   "metadata": {
    "collapsed": true
   },
   "outputs": [],
   "source": []
  }
 ],
 "metadata": {
  "kernelspec": {
   "display_name": "Python 3",
   "language": "python",
   "name": "python3"
  },
  "language_info": {
   "codemirror_mode": {
    "name": "ipython",
    "version": 3
   },
   "file_extension": ".py",
   "mimetype": "text/x-python",
   "name": "python",
   "nbconvert_exporter": "python",
   "pygments_lexer": "ipython3",
   "version": "3.6.3"
  }
 },
 "nbformat": 4,
 "nbformat_minor": 2
}
