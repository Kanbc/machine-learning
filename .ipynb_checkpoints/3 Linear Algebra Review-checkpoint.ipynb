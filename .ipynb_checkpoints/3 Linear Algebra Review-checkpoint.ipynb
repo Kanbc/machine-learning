{
 "cells": [
  {
   "cell_type": "markdown",
   "metadata": {},
   "source": [
    "# Matrics and Vectors\n",
    "\n",
    "Matrices are 2-dimensional arrays:\n",
    "\n",
    "$$\\begin{bmatrix} a & b & c \\newline d & e & f \\newline g & h & i \\newline j & k & l\\end{bmatrix}$$\n",
    "\n",
    "The above matrix has four rows and three columns, so it is a 4 x 3 matrix.\n",
    "\n",
    "A vector is a matrix with one column and many rows:\n",
    "\n",
    "$$ \\begin{bmatrix} w \\newline x \\newline y \\newline z \\end{bmatrix}$$\n",
    "\n",
    "So vectors are a subset of matrices. The above vector is a 4 x 1 matrix\n",
    "\n",
    "### Notation and terms:\n",
    "\n",
    "- $A_{ij}$ refers to the element in the ith row and jth column of matrix A.\n",
    "- A vector with 'n' rows is referred to as an 'n'-dimensional vector.\n",
    "- $v_{i}$ refers to the element in the ith row of the vector.\n",
    "- In general, all our vectors and matrices will be 1-indexed. Note that for some programming languages, the arrays are 0-indexed.\n",
    "- **Matrices are usually denoted by uppercase names while vectors are lowercase.**\n",
    "- **\"Scalar\" means that an object is a single value, not a vector or matrix.**\n",
    "- $\\mathbb{R}$ refers to the set of scalar real numbers.\n",
    "- $\\mathbb{R}^{n}$ refers to the set of n-dimensional vectors of real numbers."
   ]
  },
  {
   "cell_type": "code",
   "execution_count": 26,
   "metadata": {},
   "outputs": [
    {
     "name": "stdout",
     "output_type": "stream",
     "text": [
      "[[ 1  2  3]\n",
      " [ 4  5  6]\n",
      " [ 7  8  9]\n",
      " [10 11 12]]\n",
      "[[1]\n",
      " [2]\n",
      " [3]]\n",
      "[1 2 3]\n",
      "[[14]\n",
      " [32]\n",
      " [50]\n",
      " [68]]\n",
      "[14 32 50 68]\n",
      "[[14]\n",
      " [32]\n",
      " [50]\n",
      " [68]]\n"
     ]
    }
   ],
   "source": [
    "import numpy as np\n",
    "\n",
    "A = np.array([[1,2,3],[4,5,6],[7,8,9],[10,11,12]])\n",
    "B = np.array([[1],[2],[3]])\n",
    "C = np.array([1,2,3])\n",
    "print(A)\n",
    "print(B)\n",
    "print(C)\n",
    "print(A.dot(B))\n",
    "print(A.dot(C))\n",
    "print(np.vstack(A.dot(C)))"
   ]
  },
  {
   "cell_type": "markdown",
   "metadata": {},
   "source": [
    "# Addition and Scalar Multiplication\n",
    "\n",
    "Addition and subtraction are **element-wise**, so you simply add or subtract each corresponding element:\n",
    "\n",
    "$$\\begin{bmatrix} a & b \\newline c & d \\newline \\end{bmatrix} +\\begin{bmatrix} w & x \\newline y & z \\newline \\end{bmatrix} = \\begin{bmatrix} a+w & b+x \\newline c+y & d+z \\newline \\end{bmatrix}$$\n",
    "\n",
    "Subtracting Matrices:\n",
    "\n",
    "$$\\begin{bmatrix} a & b \\newline c & d \\newline \\end{bmatrix} - \\begin{bmatrix} w & x \\newline y & z \\newline \\end{bmatrix} =\\begin{bmatrix} a-w & b-x \\newline c-y & d-z \\newline \\end{bmatrix}$$\n",
    "\n",
    "To add or subtract two matrices, their dimensions must be **the same.**\n",
    "\n",
    "In scalar multiplication, we simply multiply every element by the scalar value:\n",
    "\n",
    "$$\\begin{bmatrix} a & b \\newline c & d \\newline \\end{bmatrix} * x =\\begin{bmatrix} a*x & b*x \\newline c*x & d*x \\newline \\end{bmatrix}$$\n",
    "\n",
    "In scalar division, we simply divide every element by the scalar value:\n",
    "\n",
    "$$\\begin{bmatrix} a & b \\newline c & d \\newline \\end{bmatrix} / x =\\begin{bmatrix} a /x & b/x \\newline c /x & d /x \\newline \\end{bmatrix}$$"
   ]
  },
  {
   "cell_type": "code",
   "execution_count": 32,
   "metadata": {},
   "outputs": [
    {
     "name": "stdout",
     "output_type": "stream",
     "text": [
      "[[ 1  2  3]\n",
      " [ 4  5  6]\n",
      " [ 7  8  9]\n",
      " [10 11 12]]\n",
      "[[1]\n",
      " [2]\n",
      " [3]]\n",
      "[1 2 3]\n",
      "[[ 2  4  6]\n",
      " [ 8 10 12]\n",
      " [14 16 18]\n",
      " [20 22 24]]\n",
      "[[ 0.5  1.   1.5]\n",
      " [ 2.   2.5  3. ]\n",
      " [ 3.5  4.   4.5]\n",
      " [ 5.   5.5  6. ]]\n",
      "[[ 3  6  9]\n",
      " [12 15 18]\n",
      " [21 24 27]\n",
      " [30 33 36]]\n",
      "[[ -1  -2  -3]\n",
      " [ -4  -5  -6]\n",
      " [ -7  -8  -9]\n",
      " [-10 -11 -12]]\n"
     ]
    }
   ],
   "source": [
    "import numpy as np\n",
    "\n",
    "A = np.array([[1,2,3],[4,5,6],[7,8,9],[10,11,12]])\n",
    "B = np.array([[1],[2],[3]])\n",
    "C = np.array([1,2,3])\n",
    "print(A)\n",
    "print(B)\n",
    "print(C)\n",
    "print(A*2)\n",
    "print(A/2)\n",
    "\n",
    "print(A+A*2)\n",
    "print(A-A*2)"
   ]
  },
  {
   "cell_type": "markdown",
   "metadata": {},
   "source": [
    "# Matrix Vector Multiplication\n",
    "\n",
    "We map the column of the vector onto each row of the matrix, multiplying each element and summing the result.\n",
    "\n",
    "$$\\begin{bmatrix} a & b \\newline c & d \\newline e & f \\end{bmatrix} *\\begin{bmatrix} x \\newline y \\newline \\end{bmatrix} =\\begin{bmatrix} a*x + b*y \\newline c*x + d*y \\newline e*x + f*y\\end{bmatrix}$$\n",
    "\n",
    "The result is a **vector**. The number of **columns** of the matrix must equal the number of **rows** of the vector.\n",
    "\n",
    "An **m x n matrix** multiplied by an **n x 1 vector** results in an **m x 1 vector**."
   ]
  },
  {
   "cell_type": "code",
   "execution_count": 44,
   "metadata": {},
   "outputs": [
    {
     "name": "stdout",
     "output_type": "stream",
     "text": [
      "[[1 2]\n",
      " [4 5]\n",
      " [7 8]]\n",
      "\n",
      "[[1]\n",
      " [2]]\n",
      "\n",
      "[1 2]\n",
      "\n",
      "[[ 5]\n",
      " [14]\n",
      " [23]]\n",
      "\n",
      "[ 5 14 23]\n"
     ]
    }
   ],
   "source": [
    "import numpy as np\n",
    "\n",
    "A = np.array([[1,2],[4,5],[7,8]])\n",
    "B = np.array([[1],[2]])\n",
    "C = np.array([1,2])\n",
    "print(A)\n",
    "print('')\n",
    "print(B)\n",
    "print('')\n",
    "print(C)\n",
    "print('')\n",
    "print(A.dot(B))\n",
    "print('')\n",
    "print(A.dot(C))"
   ]
  },
  {
   "cell_type": "markdown",
   "metadata": {},
   "source": [
    "# Matrix-Matrix Multiplication\n",
    "\n",
    "We multiply two matrices by breaking it into several vector multiplications and concatenating the result.\n",
    "\n",
    "$$\\begin{bmatrix} a & b \\newline c & d \\newline e & f \\end{bmatrix} *\\begin{bmatrix} w & x \\newline y & z \\newline \\end{bmatrix} =\\begin{bmatrix} a*w + b*y & a*x + b*z \\newline c*w + d*y & c*x + d*z \\newline e*w + f*y & e*x + f*z\\end{bmatrix}$$\n",
    "\n",
    "An **m x n matrix** multiplied by an **n x o matrix** results in an **m x o** matrix. In the above example, a 3 x 2 matrix times a 2 x 2 matrix resulted in a 3 x 2 matrix.\n",
    "\n",
    "To multiply two matrices, the number of **columns** of the first matrix must equal the number of **rows** of the second matrix."
   ]
  },
  {
   "cell_type": "code",
   "execution_count": 51,
   "metadata": {},
   "outputs": [
    {
     "name": "stdout",
     "output_type": "stream",
     "text": [
      "[[1 2]\n",
      " [4 5]\n",
      " [7 8]]\n",
      "\n",
      "[[1 2]\n",
      " [3 4]]\n",
      "\n",
      "[[ 7 10]\n",
      " [19 28]\n",
      " [31 46]]\n"
     ]
    }
   ],
   "source": [
    "import numpy as np\n",
    "\n",
    "A = np.array([[1,2],[4,5],[7,8]])\n",
    "C = np.array([[1,2],[3,4]])\n",
    "print(A)\n",
    "print('')\n",
    "print(C)\n",
    "print('')\n",
    "# print(A.dot(B))\n",
    "# print('')\n",
    "print(A.dot(C))"
   ]
  },
  {
   "cell_type": "markdown",
   "metadata": {},
   "source": [
    "จะเห็นว่าถ้าเป็น Matrix นี่ต้องตามแบบปกติเท่านั้น แต่กรณีเป็น vector python มันมองเป็นแนวตั้งแนวนอนได้หมด"
   ]
  },
  {
   "cell_type": "markdown",
   "metadata": {},
   "source": [
    "# Matrix Multiplication Properties\n",
    "\n",
    "- Matrices are not commutative: $A∗B≠B∗A$\n",
    "- Matrices are associative: $(A∗B)∗C=A∗(B∗C)$\n",
    "\n",
    "The identity matrix, when multiplied by any matrix of the same dimensions, results in the original matrix. It's just like multiplying numbers by 1. The identity matrix simply has 1's on the diagonal (upper left to lower right diagonal) and 0's elsewhere.\n",
    "\n",
    "$$\n",
    "\\begin{bmatrix} 1 & 0 & 0 \\newline 0 & 1 & 0 \\newline 0 & 0 & 1 \\newline \\end{bmatrix}\n",
    "$$\n",
    "\n",
    "When multiplying the identity matrix after some matrix (A∗I), the square identity matrix's dimension should match the other matrix's **columns.** When multiplying the identity matrix before some other matrix (I∗A), the square identity matrix's dimension should match the other matrix's **rows.**"
   ]
  },
  {
   "cell_type": "code",
   "execution_count": 53,
   "metadata": {},
   "outputs": [
    {
     "name": "stdout",
     "output_type": "stream",
     "text": [
      "[[ 1.  0.  0.  0.  0.]\n",
      " [ 0.  1.  0.  0.  0.]\n",
      " [ 0.  0.  1.  0.  0.]\n",
      " [ 0.  0.  0.  1.  0.]\n",
      " [ 0.  0.  0.  0.  1.]]\n"
     ]
    }
   ],
   "source": [
    "import numpy as np\n",
    "\n",
    "iden_matrix = np.identity(5)\n",
    "print(iden_matrix)"
   ]
  },
  {
   "cell_type": "markdown",
   "metadata": {},
   "source": [
    "# Inverse and Transpose\n",
    "\n",
    "The **inverse** of a matrix $A$ is denoted $A^{−1}$. Multiplying by the inverse results in the identity matrix.\n",
    "\n",
    "A non square matrix does not have an inverse matrix. We can compute inverses of matrices in octave with the pinv(A) function and in Matlab with the $inv(A)$ function. Matrices that don't have an inverse are *singular* or *degenerate*.\n",
    "\n",
    "> Matrices that don't have an inverse are *singular* or *degenerate*.\n",
    "\n",
    "The **transposition** of a matrix is like rotating the matrix 90° in clockwise direction and then reversing it. We can compute transposition of matrices in matlab with the **transpose(A)** function or **A'**:\n",
    "\n",
    "$$A = \\begin{bmatrix} a & b \\newline c & d \\newline e & f \\end{bmatrix}$$\n",
    "\n",
    "$$A^T = \\begin{bmatrix} a & c & e \\newline b & d & f \\newline \\end{bmatrix}$$\n",
    "\n",
    "In other words:\n",
    "\n",
    "$$A_{ij} = A^T_{ji}$$"
   ]
  },
  {
   "cell_type": "code",
   "execution_count": 56,
   "metadata": {},
   "outputs": [
    {
     "name": "stdout",
     "output_type": "stream",
     "text": [
      "[[1 2]\n",
      " [4 5]\n",
      " [7 8]]\n",
      "\n",
      "[[1 4 7]\n",
      " [2 5 8]]\n"
     ]
    }
   ],
   "source": [
    "import numpy as np\n",
    "\n",
    "A = np.array([[1,2],[4,5],[7,8]])\n",
    "print(A)\n",
    "print('')\n",
    "print(A.transpose())"
   ]
  },
  {
   "cell_type": "code",
   "execution_count": 59,
   "metadata": {},
   "outputs": [
    {
     "name": "stdout",
     "output_type": "stream",
     "text": [
      "[[4 5]\n",
      " [7 8]]\n",
      "\n",
      "[[-2.66666667  1.66666667]\n",
      " [ 2.33333333 -1.33333333]]\n"
     ]
    }
   ],
   "source": [
    "import numpy as np\n",
    "from numpy.linalg import inv\n",
    "\n",
    "A = np.array([[4,5],[7,8]])\n",
    "print(A)\n",
    "print('')\n",
    "print(inv(A))"
   ]
  },
  {
   "cell_type": "code",
   "execution_count": null,
   "metadata": {
    "collapsed": true
   },
   "outputs": [],
   "source": []
  }
 ],
 "metadata": {
  "kernelspec": {
   "display_name": "Python 3",
   "language": "python",
   "name": "python3"
  },
  "language_info": {
   "codemirror_mode": {
    "name": "ipython",
    "version": 3
   },
   "file_extension": ".py",
   "mimetype": "text/x-python",
   "name": "python",
   "nbconvert_exporter": "python",
   "pygments_lexer": "ipython3",
   "version": "3.6.3"
  }
 },
 "nbformat": 4,
 "nbformat_minor": 2
}
