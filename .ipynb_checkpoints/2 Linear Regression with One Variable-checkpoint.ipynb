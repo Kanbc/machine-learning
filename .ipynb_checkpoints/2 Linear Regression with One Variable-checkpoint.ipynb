{
 "cells": [
  {
   "cell_type": "markdown",
   "metadata": {},
   "source": [
    "# Model Representation\n",
    "\n",
    "### Recap\n",
    "\n",
    "- Linear Regression เป็นปัญหา supervised learning เพราะเรามี \"right answer\" เป็น train data\n",
    "- Regression Problem > predict real-valued output for *continuous data*\n",
    "\n",
    "### Coursera\n",
    "\n",
    "To establish notation for future use, we’ll use $x^{(i)}$ to denote the “input” variables (living area in this example), also called input features, and $y^{(i)}$ to denote the “output” or target variable that we are trying to predict (price). \n",
    "\n",
    "A pair ($x^{(i)},y^{(i)}$) is called a training example, and the dataset that we’ll be using to learn—a list of m training examples ($x^{(i)},y^{(i)}$); i=1,...,m — is called a training set. Note that the superscript “$(i)$” in the notation is simply an index into the training set, and has nothing to do with exponentiation. We will also use $X$ to denote the space of input values, and $Y$ to denote the space of output values. In this example, $X = Y = ℝ$.\n",
    "\n",
    "To describe the supervised learning problem slightly more formally, our goal is, given a training set, to learn a function $h : X → Y$ so that $h(x)$ is a “good” predictor for the corresponding value of $y$. For historical reasons, this function $h$ is called a hypothesis.\n",
    "\n",
    "$$h_{\\theta}(x) = \\theta_{0}+\\theta_{1}x$$\n",
    "Linear regression with one variable = **Univariate linear regression.**\n",
    "One Variable ที่ว่าคือ $x$\n",
    "\n",
    "When the target variable that we’re trying to predict is continuous, such as in our housing example, we call the learning problem a regression problem. When $y$ can take on only a small number of discrete values (such as if, given the living area, we wanted to predict if a dwelling is a house or an apartment, say), we call it a classification problem."
   ]
  },
  {
   "cell_type": "markdown",
   "metadata": {},
   "source": [
    "# Cost Function\n",
    "\n",
    "We can measure the accuracy of our hypothesis function by using a cost function. This takes an average difference (actually a fancier version of an average) of all the results of the hypothesis with inputs from x's and the actual output y's.\n",
    "\n",
    "$$ J(\\theta_{0},\\theta_{1})=\\frac{1}{2m}\\sum_{i=1}^{m}(\\hat{y_{i}}−y_{i})^{2} = \\frac{1}{2m}\\sum_{i=1}^{m}(h_{\\theta}(x_{i})−y_{i})^{2} $$\n",
    "\n",
    "To break it apart, it is $\\frac{1}{2}\\bar{x}$ where $\\bar{x}$ is the mean of the squares of $h_{\\theta}(x_{i})−y_{i}$ , or the difference between the predicted value and the actual value.\n",
    "\n",
    "This function is otherwise called the \"Squared error function\", or \"Mean squared error\". The mean is halved ($\\frac{1}{2}$) as a convenience for the computation of the gradient descent, as the derivative term of the square function will cancel out the $\\frac{1}{2}$ term. The following image summarizes what the cost function does:\n",
    "\n",
    "![cost_function](img/1.png)"
   ]
  },
  {
   "cell_type": "markdown",
   "metadata": {},
   "source": [
    "# Cost Function - Intuition I\n",
    "\n",
    "If we try to think of it in visual terms, our training data set is scattered on the $x-y$ plane. We are trying to make a straight line (defined by $h_{\\theta}(x)$) which passes through these scattered data points.\n",
    "\n",
    "Our objective is to get the best possible line. The best possible line will be such so that the average squared vertical distances of the scattered points from the line will be the least. Ideally, the line should pass through all the points of our training data set. In such a case, the value of $J(\\theta_{0},\\theta_{1})$ will be 0. The following example shows the ideal situation where we have a cost function of 0.\n",
    "\n",
    "![](img/2.png)\n",
    "\n",
    "When $\\theta_{1} = 1$, we get a slope of 1 which goes through every single data point in our model. Conversely, when $\\theta_{1} = 0.5$, we see the vertical distance from our fit to the data points increase.\n",
    "\n",
    "![](img/3.png)\n",
    "\n",
    "This increases our cost function to 0.58. Plotting several other points yields to the following graph:\n",
    "\n",
    "![](img/4.png)\n",
    "\n",
    "Thus as a goal, we should try to minimize the cost function. In this case, $\\theta_{1}=1$ is our global minimum."
   ]
  },
  {
   "cell_type": "code",
   "execution_count": null,
   "metadata": {
    "collapsed": true
   },
   "outputs": [],
   "source": []
  }
 ],
 "metadata": {
  "kernelspec": {
   "display_name": "Python 3",
   "language": "python",
   "name": "python3"
  },
  "language_info": {
   "codemirror_mode": {
    "name": "ipython",
    "version": 3
   },
   "file_extension": ".py",
   "mimetype": "text/x-python",
   "name": "python",
   "nbconvert_exporter": "python",
   "pygments_lexer": "ipython3",
   "version": "3.6.3"
  }
 },
 "nbformat": 4,
 "nbformat_minor": 2
}
