{
 "cells": [
  {
   "cell_type": "markdown",
   "metadata": {},
   "source": [
    "![](img/39.jpg)"
   ]
  },
  {
   "cell_type": "markdown",
   "metadata": {},
   "source": [
    "# How to check a function is Convexity\n",
    "\n",
    "## Function ตัวแปรเดียว\n",
    "1. Plot ดู \n",
    "2. Diff 2 ครั้ง ค่าต้องเป็น + ทุกค่า x ที่แทนเข้าไป หากมีลบมา สลับ sign ไปมาคือ non-convex\n",
    "\n",
    "## Function หลายตัวแปร\n",
    "1. Plot ดู \n",
    "2. **Hessian matrix is [positive semidefinite](https://en.wikipedia.org/wiki/Positive-definite_matrix) (positive definite if need strong convexity).**"
   ]
  },
  {
   "cell_type": "markdown",
   "metadata": {},
   "source": [
    "# Hessian matrix\n",
    "\n",
    "Specifically, suppose $f : \\mathbb{R}^n \\rightarrow \\mathbb{R}$ is a function taking as input a vector $x \\in \\mathbb{R}^n$ and outputting a scalar $f(x) \\in \\mathbb{R};$ if all second partial derivatives of $f$ exist and are continuous over the domain of the function, then the Hessian matrix $H$ of $f$ is a square $nxn$ matrix, usually defined and arranged as follows:\n",
    "\n",
    "$$\\textbf{H} = \\begin{bmatrix} \\frac{\\partial^2 f}{\\partial x_1^2} & \\frac{\\partial^2 f}{\\partial x_1 \\partial x_2} & \\cdots & \\frac{\\partial^2 f}{\\partial x_1 \\partial x_n} \\\\ \n",
    "\\frac{\\partial^2 f}{\\partial x_2 \\partial x_1} & \\frac{\\partial^2 f}{\\partial x_2^2} & \\cdots & \\frac{\\partial^2 f}{\\partial x_2 \\partial x_n} \\\\\n",
    "\\vdots & \\vdots & \\ddots & \\vdots \\\\\n",
    "\\frac{\\partial^2 f}{\\partial x_n \\partial x_1 } & \\frac{\\partial^2 f}{\\partial x_n \\partial x_2} & \\cdots & \\frac{\\partial^2 f}{\\partial x_n^2} \\end{bmatrix}$$\n",
    "\n",
    "or, by stating an equation for the coefficients using indices i and j:\n",
    "\n",
    "$\\textbf{H}_{i,j} = \\frac{\\partial^2 f}{\\partial x_i \\partial x_j }$"
   ]
  }
 ],
 "metadata": {
  "kernelspec": {
   "display_name": "Python 3",
   "language": "python",
   "name": "python3"
  },
  "language_info": {
   "codemirror_mode": {
    "name": "ipython",
    "version": 3
   },
   "file_extension": ".py",
   "mimetype": "text/x-python",
   "name": "python",
   "nbconvert_exporter": "python",
   "pygments_lexer": "ipython3",
   "version": "3.6.3"
  }
 },
 "nbformat": 4,
 "nbformat_minor": 2
}
