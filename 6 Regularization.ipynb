{
 "cells": [
  {
   "cell_type": "markdown",
   "metadata": {
    "collapsed": true
   },
   "source": [
    "# The Problem of Overfitting\n",
    "\n",
    "Consider the problem of predicting $y$ from $x \\in R$. The leftmost figure below shows the result of fitting a $y = \\theta_0+\\theta_1x$ to a dataset. We see that the data doesn’t really lie on straight line, and so the fit is not very good.\n",
    "\n",
    "![](img/26.png)\n",
    "\n",
    "Instead, if we had added an extra feature $x^2$ , and fit $y=\\theta_0+\\theta_1x+\\theta_2x^2$ , then we obtain a slightly better fit to the data (See middle figure). Naively, it might seem that the more features we add, the better. \n",
    "\n",
    "However, there is also a **danger** in adding too many features: The rightmost figure is the result of fitting a 5th order polynomial $y = \\sum_{j=0} ^5 \\theta_j x^j$. We see that even though the fitted curve passes through the data *perfectly*, we would not expect this to be a very good predictor of, say, housing prices (y) for different living areas (x). \n",
    "\n",
    "Without formally defining what these terms mean, we’ll say the figure on the left shows an instance of **underfitting**—in which the data clearly shows structure not captured by the model—and the figure on the right is an example of **overfitting**.\n",
    "\n",
    "**Underfitting**, or high bias, is when the form of our hypothesis function h maps poorly to the trend of the data. It is usually caused by a function that is too simple or uses too few features. \n",
    "\n",
    "At the other extreme, **overfitting**, or high variance, is caused by a hypothesis function that fits the available data but does not generalize well to predict new data. It is usually caused by a complicated function that creates a lot of unnecessary curves and angles unrelated to the data.\n",
    "\n",
    "This terminology is applied to both linear and logistic regression. There are two main options to address the issue of overfitting:\n",
    "\n",
    "### วิธีการแก้ปัญหา Overfitting ทำได้โดย\n",
    "\n",
    "1) Reduce the number of features:\n",
    "- Manually select which features to keep.\n",
    "- Use a model selection algorithm (studied later in the course).\n",
    "\n",
    "2) Regularization\n",
    "- Keep all the features, but reduce the magnitude of parameters $\\theta_j$.\n",
    "- Regularization works well when we have a lot of slightly useful features.\n",
    "\n",
    "\n",
    "\n"
   ]
  },
  {
   "cell_type": "markdown",
   "metadata": {},
   "source": [
    "# Cost Function\n",
    "\n",
    "If we have overfitting from our hypothesis function, we can reduce the weight that some of the terms in our function carry by increasing their cost.\n",
    "\n",
    "Say we wanted to make the following function more quadratic:\n",
    "\n",
    "$\\theta_0 + \\theta_1x + \\theta_2x^2 + \\theta_3x^3 + \\theta_4x^4$\n",
    "\n",
    "We'll want to eliminate the influence of $\\theta_3x^3$ and $\\theta_4x^4$ . Without actually getting rid of these features or changing the form of our hypothesis, we can instead modify our **cost function**:\n",
    "\n",
    "$$min_\\theta\\ \\dfrac{1}{2m}\\sum_{i=1}^m (h_\\theta(x^{(i)}) - y^{(i)})^2 + 1000\\cdot\\theta_3^2 + 1000\\cdot\\theta_4^2$$\n",
    "\n",
    "We've added two extra terms at the end to inflate the cost of $\\theta_3$ and $\\theta_4$. Now, in order for the cost function to get close to zero, we will have to reduce the values of $\\theta_3$ and $\\theta_4$ to near zero. This will in turn greatly reduce the values of $\\theta_3x^3$ and $\\theta_4x^4$ in our hypothesis function. As a result, we see that the new hypothesis (depicted by the pink curve) looks like a quadratic function but fits the data better due to the extra small terms $\\theta_3x^3$ and $\\theta_4x^4$.\n",
    "\n",
    "![](img/27.png)\n",
    "\n",
    "We could also regularize all of our theta parameters in a single summation as:\n",
    "\n",
    "$$min_\\theta\\ \\dfrac{1}{2m}\\  \\sum_{i=1}^m (h_\\theta(x^{(i)}) - y^{(i)})^2 + \\lambda\\ \\sum_{j=1}^n \\theta_j^2$$\n",
    "\n",
    "The $\\lambda$, or lambda, is the **regularization parameter**. It determines how much the costs of our theta parameters are inflated.\n",
    "\n",
    "Using the above cost function with the extra summation, we can smooth the output of our hypothesis function to reduce overfitting. **If lambda is chosen to be too large, it may smooth out the function too much and cause underfitting.** Hence, what would happen if λ=0 or is too small ? --> Overfitting\n",
    "\n",
    "> มันเป็นการ trade-off ระหว่างจะ underfitting หรือ overfitting ถ้า $\\lambda$ ใหญ่จะ under ตรงกันข้ามถ้า $\\lambda$ เล็กก็จะ over"
   ]
  },
  {
   "cell_type": "markdown",
   "metadata": {},
   "source": [
    "# Regularized Linear Regression\n",
    "We can apply regularization to both linear regression and logistic regression. We will approach linear regression first.\n",
    "\n",
    "### Gradient Descent\n",
    "We will modify our gradient descent function to **separate out $\\theta_0$ from the rest of the parameters** because we do not want to penalize $\\theta_0$.\n",
    "\n",
    "$\\begin{align*} & \\text{Repeat}\\ \\lbrace \\newline & \\ \\ \\ \\ \\theta_0 := \\theta_0 - \\alpha\\ \\frac{1}{m}\\ \\sum_{i=1}^m (h_\\theta(x^{(i)}) - y^{(i)})x_0^{(i)} \\newline & \\ \\ \\ \\ \\theta_j := \\theta_j - \\alpha\\ \\left[ \\left( \\frac{1}{m}\\ \\sum_{i=1}^m (h_\\theta(x^{(i)}) - y^{(i)})x_j^{(i)} \\right) + \\frac{\\lambda}{m}\\theta_j \\right] &\\ \\ \\ \\ \\ \\ \\ \\ \\ \\ j \\in \\lbrace 1,2...n\\rbrace\\newline & \\rbrace \\end{align*}$\n",
    "\n",
    "(ลอง Prove ด้วย Calculus ดู)\n",
    "\n",
    "The term $\\frac{\\lambda}{m}\\theta_j$ performs our regularization. With some manipulation our update rule can also be represented as:\n",
    "\n",
    "$\\theta_j := \\theta_j(1 - \\alpha\\frac{\\lambda}{m}) - \\alpha\\frac{1}{m}\\sum_{i=1}^m(h_\\theta(x^{(i)}) - y^{(i)})x_j^{(i)}$\n",
    "\n",
    "The first term in the above equation,** $1 - \\alpha\\frac{\\lambda}{m}$ will always be less than 1**. Intuitively you can see it as reducing the value of $\\theta_j$ by some amount on every update. Notice that the second term is now exactly the same as it was before.\n",
    "\n",
    "### Normal Equation\n",
    "\n",
    "Now let's approach regularization using the alternate method of the non-iterative normal equation.\n",
    "\n",
    "To add in regularization, the equation is the same as our original, except that we add another term inside the parentheses:\n",
    "\n",
    "$\\begin{align*}& \\theta = \\left( X^TX + \\lambda \\cdot L \\right)^{-1} X^Ty \\newline& \\text{where}\\ \\ L = \\begin{bmatrix} 0 & & & & \\newline & 1 & & & \\newline & & 1 & & \\newline & & & \\ddots & \\newline & & & & 1 \\newline\\end{bmatrix} \\in \\mathbb{R}^{(n+1)x(n+1)}\\end{align*}$\n",
    "\n",
    "L is a matrix with 0 at the top left and 1's down the diagonal, with 0's everywhere else. It should have dimension (n+1)×(n+1). Intuitively, this is the identity matrix (though we are not including x0), multiplied with a single real number $λ$.\n",
    "\n",
    "Recall that if m < n, then $X^TX$ is non-invertible. However, when we add the term $λ⋅L$, then $X^TX + λ⋅L$ becomes invertible."
   ]
  },
  {
   "cell_type": "markdown",
   "metadata": {},
   "source": [
    "# Regularized Logistic Regression\n",
    "We can regularize logistic regression in a similar way that we regularize linear regression. As a result, we can avoid overfitting. The following image shows how the regularized function, displayed by the pink line, is less likely to overfit than the non-regularized function represented by the blue line:\n",
    "\n",
    "![](img/29.png)\n",
    "\n",
    "### Cost Function\n",
    "Recall that our cost function for logistic regression was:\n",
    "\n",
    "$J(\\theta) = - \\frac{1}{m} \\sum_{i=1}^m \\large[ y^{(i)}\\ \\log (h_\\theta (x^{(i)})) + (1 - y^{(i)})\\ \\log (1 - h_\\theta(x^{(i)})) \\large]$\n",
    "\n",
    "We can regularize this equation by adding a term to the end:\n",
    "\n",
    "$J(\\theta) = - \\frac{1}{m} \\sum_{i=1}^m \\large[ y^{(i)}\\ \\log (h_\\theta (x^{(i)})) + (1 - y^{(i)})\\ \\log (1 - h_\\theta(x^{(i)}))\\large] + \\frac{\\lambda}{2m}\\sum_{j=1}^n \\theta_j^2$\n",
    "\n",
    "*Note : Prove หน่อย*\n",
    "\n",
    "The second sum, $\\sum_{j=1}^n \\theta_j^2$ **means to explicitly** exclude the bias term, $\\theta_0$. I.e. the $\\theta$ vector is indexed from 0 to n (holding n+1 values, $\\theta_0$ through $\\theta_n$), and this sum explicitly skips $\\theta_0$, by running from 1 to n, skipping 0. Thus, when computing the equation, we should continuously update the two following equations:\n",
    "\n",
    "![](img/30.png)\n",
    "\n",
    "### Prove + Code ส่วนนี้ด้วย\n",
    "\n",
    "![](img/28.png)"
   ]
  },
  {
   "cell_type": "code",
   "execution_count": null,
   "metadata": {
    "collapsed": true
   },
   "outputs": [],
   "source": []
  }
 ],
 "metadata": {
  "kernelspec": {
   "display_name": "Python 3",
   "language": "python",
   "name": "python3"
  },
  "language_info": {
   "codemirror_mode": {
    "name": "ipython",
    "version": 3
   },
   "file_extension": ".py",
   "mimetype": "text/x-python",
   "name": "python",
   "nbconvert_exporter": "python",
   "pygments_lexer": "ipython3",
   "version": "3.6.3"
  }
 },
 "nbformat": 4,
 "nbformat_minor": 2
}
