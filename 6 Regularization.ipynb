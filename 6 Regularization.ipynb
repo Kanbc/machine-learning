{
 "cells": [
  {
   "cell_type": "markdown",
   "metadata": {
    "collapsed": true
   },
   "source": [
    "# The Problem of Overfitting\n",
    "\n",
    "Consider the problem of predicting $y$ from $x \\in R$. The leftmost figure below shows the result of fitting a $y = \\theta_0+\\theta_1x$ to a dataset. We see that the data doesn’t really lie on straight line, and so the fit is not very good.\n",
    "\n",
    "![](img/26.png)\n",
    "\n",
    "Instead, if we had added an extra feature $x^2$ , and fit $y=\\theta_0+\\theta_1x+\\theta_2x^2$ , then we obtain a slightly better fit to the data (See middle figure). Naively, it might seem that the more features we add, the better. \n",
    "\n",
    "However, there is also a **danger** in adding too many features: The rightmost figure is the result of fitting a 5th order polynomial $y = \\sum_{j=0} ^5 \\theta_j x^j$. We see that even though the fitted curve passes through the data *perfectly*, we would not expect this to be a very good predictor of, say, housing prices (y) for different living areas (x). \n",
    "\n",
    "Without formally defining what these terms mean, we’ll say the figure on the left shows an instance of **underfitting**—in which the data clearly shows structure not captured by the model—and the figure on the right is an example of **overfitting**.\n",
    "\n",
    "**Underfitting**, or high bias, is when the form of our hypothesis function h maps poorly to the trend of the data. It is usually caused by a function that is too simple or uses too few features. \n",
    "\n",
    "At the other extreme, **overfitting**, or high variance, is caused by a hypothesis function that fits the available data but does not generalize well to predict new data. It is usually caused by a complicated function that creates a lot of unnecessary curves and angles unrelated to the data.\n",
    "\n",
    "This terminology is applied to both linear and logistic regression. There are two main options to address the issue of overfitting:\n",
    "\n",
    "### วิธีการแก้ปัญหา Overfitting ทำได้โดย\n",
    "\n",
    "1) Reduce the number of features:\n",
    "- Manually select which features to keep.\n",
    "- Use a model selection algorithm (studied later in the course).\n",
    "\n",
    "2) Regularization\n",
    "- Keep all the features, but reduce the magnitude of parameters $\\theta_j$.\n",
    "- Regularization works well when we have a lot of slightly useful features.\n",
    "\n",
    "\n",
    "\n"
   ]
  },
  {
   "cell_type": "code",
   "execution_count": null,
   "metadata": {
    "collapsed": true
   },
   "outputs": [],
   "source": []
  }
 ],
 "metadata": {
  "kernelspec": {
   "display_name": "Python 3",
   "language": "python",
   "name": "python3"
  },
  "language_info": {
   "codemirror_mode": {
    "name": "ipython",
    "version": 3
   },
   "file_extension": ".py",
   "mimetype": "text/x-python",
   "name": "python",
   "nbconvert_exporter": "python",
   "pygments_lexer": "ipython3",
   "version": "3.6.3"
  }
 },
 "nbformat": 4,
 "nbformat_minor": 2
}
