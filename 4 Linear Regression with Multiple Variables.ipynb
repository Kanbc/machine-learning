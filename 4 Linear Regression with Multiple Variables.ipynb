{
 "cells": [
  {
   "cell_type": "markdown",
   "metadata": {},
   "source": [
    "# Multivariate Linear Regression\n"
   ]
  },
  {
   "cell_type": "markdown",
   "metadata": {},
   "source": [
    "## Multiple Features\n",
    "\n",
    "Linear regression with multiple variables is also known as \"multivariate linear regression\".\n",
    "\n",
    "We now introduce notation for equations where we can have any number of input variables.\n",
    "\n",
    "$$\\begin{align*}x_j^{(i)} &= \\text{value of feature } j \\text{ in the }i^{th}\\text{ training example} \\newline x^{(i)}& = \\text{the input (features) of the }i^{th}\\text{ training example} \\newline m &= \\text{the number of training examples} \\newline n &= \\text{the number of features} \\end{align*}$$\n",
    "\n",
    "The multivariable form of the hypothesis function accommodating these multiple features is as follows:\n",
    "\n",
    "$$h_\\theta (x) = \\theta_0 + \\theta_1 x_1 + \\theta_2 x_2 + \\theta_3 x_3 + \\cdots + \\theta_n x_n$$\n",
    "\n",
    "In order to develop intuition about this function, we can think about $\\theta_0$ as the basic price of a house, $\\theta_1$ as the price per square meter, $\\theta_2$ as the price per floor, etc. $x_1$ will be the number of square meters in the house, $x_2$ the number of floors, etc.\n",
    "\n",
    "Using the definition of matrix multiplication, our multivariable hypothesis function can be concisely represented as:\n",
    "\n",
    "$$\\begin{align*}h_\\theta(x) =\\begin{bmatrix}\\theta_0 \\hspace{2em} \\theta_1 \\hspace{2em} ... \\hspace{2em} \\theta_n\\end{bmatrix}\\begin{bmatrix}x_0 \\newline x_1 \\newline \\vdots \\newline x_n\\end{bmatrix}= \\theta^T x\\end{align*}$$\n",
    "\n",
    "เมื่อ\n",
    "* $x_0 = 1$\n",
    "* $\\theta\\in \\mathbb{R}^{n+1}$\n",
    "* $x\\in \\mathbb{R}^{n+1}$\n",
    "* $h_\\theta(x) \\in \\mathbb{R}$\n",
    "\n",
    "\n",
    "This is a vectorization of our hypothesis function for one training example; see the lessons on vectorization to learn more.\n",
    "\n",
    "Remark: Note that for convenience reasons in this course we assume $x_{0}^{(i)} =1 \\text{ for } (i\\in { 1,\\dots, m } )$ This allows us to do matrix operations with theta and $x$. Hence making the two vectors '$\\theta$' and $x^{(i)}$ match each other element-wise (that is, have the same number of elements: n+1).]"
   ]
  },
  {
   "cell_type": "markdown",
   "metadata": {},
   "source": [
    "## Gradient Descent for Multiple Variables\n",
    "\n",
    "The gradient descent equation itself is generally the same form; we just have to repeat it for our 'n' features:\n",
    "\n",
    "$\n",
    "\\begin{align*} & \\text{repeat until convergence:} \\; \\lbrace \\newline \\; & \\theta_0 := \\theta_0 - \\alpha \\frac{1}{m} \\sum\\limits_{i=1}^{m} (h_\\theta(x^{(i)}) - y^{(i)}) \\cdot x_0^{(i)}\\newline \\; & \\theta_1 := \\theta_1 - \\alpha \\frac{1}{m} \\sum\\limits_{i=1}^{m} (h_\\theta(x^{(i)}) - y^{(i)}) \\cdot x_1^{(i)} \\newline \\; & \\theta_2 := \\theta_2 - \\alpha \\frac{1}{m} \\sum\\limits_{i=1}^{m} (h_\\theta(x^{(i)}) - y^{(i)}) \\cdot x_2^{(i)} \\newline & \\cdots \\newline \\rbrace \\end{align*}\n",
    "$\n",
    "\n",
    "In other words:\n",
    "\n",
    "$\n",
    "\\begin{align*}& \\text{repeat until convergence:} \\; \\lbrace \\newline \\; & \\theta_j := \\theta_j - \\alpha \\frac{1}{m} \\sum\\limits_{i=1}^{m} (h_\\theta(x^{(i)}) - y^{(i)}) \\cdot x_j^{(i)} \\; & \\text{for j := 0...n}\\newline \\rbrace\\end{align*}\n",
    "$\n",
    "\n",
    "The following image compares gradient descent with one variable to gradient descent with multiple variables:\n",
    "\n",
    "![](img/15.png)"
   ]
  },
  {
   "cell_type": "markdown",
   "metadata": {},
   "source": [
    "## Gradient Descent in Practice I - Feature Scaling\n",
    "\n",
    "***คือการทำให้ Gradient Descent วิ่งเข้าหาจุด Local Minimum ได้ไวมากขึ้น***\n",
    "\n",
    "We can speed up gradient descent by having each of our input values in roughly the same range. This is because θ will descend quickly on small ranges and slowly on large ranges, and so will oscillate inefficiently down to the optimum when the variables are very uneven.\n",
    "\n",
    "The way to prevent this is to modify the ranges of our input variables so that they are all roughly the same. Ideally:\n",
    "\n",
    "$-1 \\leq x_{(i)} \\leq 1$\n",
    "\n",
    "or\n",
    "\n",
    "$-0.5 \\leq x_{(i)} \\leq 0.5$\n",
    "\n",
    "These aren't exact requirements; we are only trying to speed things up. The goal is to get all input variables into roughly one of these ranges, give or take a few.\n",
    "\n",
    "Two techniques to help with this are **feature scaling** and **mean normalization**. \n",
    "\n",
    "**Feature scaling** involves dividing the input values by the range (i.e. the maximum value minus the minimum value) of the input variable, resulting in a new range of just 1. \n",
    "\n",
    "**Mean normalization** involves subtracting the average value for an input variable from the values for that input variable resulting in a new average value for the input variable of just zero. \n",
    "\n",
    "To implement both of these techniques, adjust your input values as shown in this formula:\n",
    "\n",
    "$$x_i := \\dfrac{x_i - \\mu_i}{s_i}$$\n",
    "\n",
    "Where \n",
    "- $μ_i$ is the average of all the values for feature (i) \n",
    "- $s_i$ is the range of values (max - min), or $s_i$ is the standard deviation. ($s_i = x_i^{max} - x_i^{min}$)\n",
    "\n",
    "*Note that dividing by the range, or dividing by the standard deviation, give different results. The quizzes in this course use range - the programming exercises use standard deviation.*\n",
    "\n",
    "For example, if $x_i$ represents housing prices with a range of 100 to 2000 and a mean value of 1000, then, \n",
    "\n",
    "$$x_i := \\dfrac{price-1000}{1900}$$\n",
    "\n",
    "\n",
    "\n"
   ]
  },
  {
   "cell_type": "markdown",
   "metadata": {},
   "source": [
    "## Gradient Descent in Practice II - Learning Rate ($\\alpha$)\n",
    "\n",
    "Debugging gradient descent. Make a plot with number of iterations on the x-axis. (iterations คือจำนวน loop ที่ใช้วนเพื่อหาจุดที่ $J(\\theta)$ มีค่าน้อยสุด) Now plot the cost function, $J(\\theta)$ over the number of iterations of gradient descent. If $J(\\theta)$ ever increases, then you probably need to decrease $\\alpha$.\n",
    "\n",
    "Automatic convergence test. Declare convergence if $J(\\theta)$ decreases by less than E in one iteration, where E is some small value such as 10−3. However in practice it's difficult to choose this threshold value.\n",
    "\n",
    "![](img/16.png)\n",
    "\n",
    "It has been proven that if learning rate α is sufficiently small, then J(θ) will decrease on every iteration.\n",
    "\n",
    "![](img/17.png)\n",
    "\n",
    "To summarize:\n",
    "\n",
    "If $\\alpha$ is too small: slow convergence.\n",
    "\n",
    "If $\\alpha$ is too large: ￼may not decrease on every iteration and thus may not converge."
   ]
  },
  {
   "cell_type": "markdown",
   "metadata": {},
   "source": [
    "## Features and Polynomial Regression\n",
    "\n",
    "We can improve our features and the form of our hypothesis function in a couple different ways.\n",
    "\n",
    "We can **combine** multiple features into one. \n",
    "\n",
    "**For example**, we can combine $x_1$ and $x_2$ into a new feature $x_3$ by taking $x_1\\cdot x_2$.\n",
    "\n",
    "### Polynomial Regression\n",
    "\n",
    "Our hypothesis function need not be linear (a straight line) if that does not fit the data well.\n",
    "\n",
    "We can **change the behavior or curve** of our hypothesis function by making it a **quadratic, cubic or square root function (or any other form)**.\n",
    "\n",
    "For example, if our hypothesis function is $h_{\\theta}(x) = \\theta_0+\\theta_1x_1$ then we can create additional features based on $x_1$, to get the quadratic function $h_{\\theta}(x) = \\theta_0+\\theta_1x_1+\\theta_2x_1^2$ or the cubic function $h_{\\theta}(x) = \\theta_0+\\theta_1x_1+\\theta_2x_1^2+\\theta_3x_1^3$\n",
    "\n",
    "In the cubic version, we have created new features $x_2$ and $x_3$ where $x_2=x^2_1$ and $x_3=x^3_1$.\n",
    "\n",
    "To make it a square root function, we could do: $h_{\\theta}(x) = \\theta_0+\\theta_1x_1+\\theta_2\\sqrt{x_1}$\n",
    "\n",
    "**One important thing to keep in mind is, if you choose your features this way then feature scaling becomes very important.**\n",
    "\n",
    "eg. if $x_1$ has range 1-1000 then range of $x^2_1$ becomes 1-1000000 and that of $x^3_1$ becomes 1-1000000000\n"
   ]
  },
  {
   "cell_type": "code",
   "execution_count": null,
   "metadata": {
    "collapsed": true
   },
   "outputs": [],
   "source": []
  }
 ],
 "metadata": {
  "kernelspec": {
   "display_name": "Python 3",
   "language": "python",
   "name": "python3"
  },
  "language_info": {
   "codemirror_mode": {
    "name": "ipython",
    "version": 3
   },
   "file_extension": ".py",
   "mimetype": "text/x-python",
   "name": "python",
   "nbconvert_exporter": "python",
   "pygments_lexer": "ipython3",
   "version": "3.6.3"
  }
 },
 "nbformat": 4,
 "nbformat_minor": 2
}
