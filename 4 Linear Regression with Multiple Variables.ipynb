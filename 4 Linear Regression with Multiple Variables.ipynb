{
 "cells": [
  {
   "cell_type": "markdown",
   "metadata": {},
   "source": [
    "# Multivariate Linear Regression\n"
   ]
  },
  {
   "cell_type": "markdown",
   "metadata": {},
   "source": [
    "## Multiple Features\n",
    "\n",
    "Linear regression with multiple variables is also known as \"multivariate linear regression\".\n",
    "\n",
    "We now introduce notation for equations where we can have any number of input variables.\n",
    "\n",
    "$$\\begin{align*}x_j^{(i)} &= \\text{value of feature } j \\text{ in the }i^{th}\\text{ training example} \\newline x^{(i)}& = \\text{the input (features) of the }i^{th}\\text{ training example} \\newline m &= \\text{the number of training examples} \\newline n &= \\text{the number of features} \\end{align*}$$\n",
    "\n",
    "The multivariable form of the hypothesis function accommodating these multiple features is as follows:\n",
    "\n",
    "$$h_\\theta (x) = \\theta_0 + \\theta_1 x_1 + \\theta_2 x_2 + \\theta_3 x_3 + \\cdots + \\theta_n x_n$$\n",
    "\n",
    "In order to develop intuition about this function, we can think about $\\theta_0$ as the basic price of a house, $\\theta_1$ as the price per square meter, $\\theta_2$ as the price per floor, etc. $x_1$ will be the number of square meters in the house, $x_2$ the number of floors, etc.\n",
    "\n",
    "Using the definition of matrix multiplication, our multivariable hypothesis function can be concisely represented as:\n",
    "\n",
    "$$\\begin{align*}h_\\theta(x) =\\begin{bmatrix}\\theta_0 \\hspace{2em} \\theta_1 \\hspace{2em} ... \\hspace{2em} \\theta_n\\end{bmatrix}\\begin{bmatrix}x_0 \\newline x_1 \\newline \\vdots \\newline x_n\\end{bmatrix}= \\theta^T x\\end{align*}$$\n",
    "\n",
    "เมื่อ\n",
    "* $x_0 = 1$\n",
    "* $\\theta\\in \\mathbb{R}^{n+1}$\n",
    "* $x\\in \\mathbb{R}^{n+1}$\n",
    "* $h_\\theta(x) \\in \\mathbb{R}$\n",
    "\n",
    "\n",
    "This is a vectorization of our hypothesis function for one training example; see the lessons on vectorization to learn more.\n",
    "\n",
    "Remark: Note that for convenience reasons in this course we assume $x_{0}^{(i)} =1 \\text{ for } (i\\in { 1,\\dots, m } )$ This allows us to do matrix operations with theta and $x$. Hence making the two vectors '$\\theta$' and $x^{(i)}$ match each other element-wise (that is, have the same number of elements: n+1).]"
   ]
  },
  {
   "cell_type": "markdown",
   "metadata": {},
   "source": [
    "## Gradient Descent for Multiple Variables\n",
    "\n",
    "The gradient descent equation itself is generally the same form; we just have to repeat it for our 'n' features:\n",
    "\n",
    "$\n",
    "\\begin{align*} & \\text{repeat until convergence:} \\; \\lbrace \\newline \\; & \\theta_0 := \\theta_0 - \\alpha \\frac{1}{m} \\sum\\limits_{i=1}^{m} (h_\\theta(x^{(i)}) - y^{(i)}) \\cdot x_0^{(i)}\\newline \\; & \\theta_1 := \\theta_1 - \\alpha \\frac{1}{m} \\sum\\limits_{i=1}^{m} (h_\\theta(x^{(i)}) - y^{(i)}) \\cdot x_1^{(i)} \\newline \\; & \\theta_2 := \\theta_2 - \\alpha \\frac{1}{m} \\sum\\limits_{i=1}^{m} (h_\\theta(x^{(i)}) - y^{(i)}) \\cdot x_2^{(i)} \\newline & \\cdots \\newline \\rbrace \\end{align*}\n",
    "$\n",
    "\n",
    "In other words:\n",
    "\n",
    "$\n",
    "\\begin{align*}& \\text{repeat until convergence:} \\; \\lbrace \\newline \\; & \\theta_j := \\theta_j - \\alpha \\frac{1}{m} \\sum\\limits_{i=1}^{m} (h_\\theta(x^{(i)}) - y^{(i)}) \\cdot x_j^{(i)} \\; & \\text{for j := 0...n}\\newline \\rbrace\\end{align*}\n",
    "$\n",
    "\n",
    "The following image compares gradient descent with one variable to gradient descent with multiple variables:\n",
    "\n",
    "![](img/15.png)"
   ]
  },
  {
   "cell_type": "markdown",
   "metadata": {},
   "source": [
    "## Gradient Descent in Practice I - Feature Scaling\n",
    "\n",
    "***คือการทำให้ Gradient Descent วิ่งเข้าหาจุด Local Minimum ได้ไวมากขึ้น***\n",
    "\n",
    "We can speed up gradient descent by having each of our input values in roughly the same range. This is because θ will descend quickly on small ranges and slowly on large ranges, and so will oscillate inefficiently down to the optimum when the variables are very uneven.\n",
    "\n",
    "The way to prevent this is to modify the ranges of our input variables so that they are all roughly the same. Ideally:\n",
    "\n",
    "$-1 \\leq x_{(i)} \\leq 1$\n",
    "\n",
    "or\n",
    "\n",
    "$-0.5 \\leq x_{(i)} \\leq 0.5$\n",
    "\n",
    "These aren't exact requirements; we are only trying to speed things up. The goal is to get all input variables into roughly one of these ranges, give or take a few.\n",
    "\n",
    "Two techniques to help with this are **feature scaling** and **mean normalization**. \n",
    "\n",
    "**Feature scaling** involves dividing the input values by the range (i.e. the maximum value minus the minimum value) of the input variable, resulting in a new range of just 1. \n",
    "\n",
    "**Mean normalization** involves subtracting the average value for an input variable from the values for that input variable resulting in a new average value for the input variable of just zero. \n",
    "\n",
    "To implement both of these techniques, adjust your input values as shown in this formula:\n",
    "\n",
    "$$x_i := \\dfrac{x_i - \\mu_i}{s_i}$$\n",
    "\n",
    "Where \n",
    "- $μ_i$ is the average of all the values for feature (i) \n",
    "- $s_i$ is the range of values (max - min), or $s_i$ is the standard deviation. ($s_i = x_i^{max} - x_i^{min}$)\n",
    "\n",
    "*Note that dividing by the range, or dividing by the standard deviation, give different results. The quizzes in this course use range - the programming exercises use standard deviation.*\n",
    "\n",
    "For example, if $x_i$ represents housing prices with a range of 100 to 2000 and a mean value of 1000, then, \n",
    "\n",
    "$$x_i := \\dfrac{price-1000}{1900}$$\n",
    "\n",
    "\n",
    "\n"
   ]
  },
  {
   "cell_type": "markdown",
   "metadata": {},
   "source": [
    "## Gradient Descent in Practice II - Learning Rate ($\\alpha$)\n",
    "\n",
    "Debugging gradient descent. Make a plot with number of iterations on the x-axis. (iterations คือจำนวน loop ที่ใช้วนเพื่อหาจุดที่ $J(\\theta)$ มีค่าน้อยสุด) Now plot the cost function, $J(\\theta)$ over the number of iterations of gradient descent. If $J(\\theta)$ ever increases, then you probably need to decrease $\\alpha$.\n",
    "\n",
    "Automatic convergence test. Declare convergence if $J(\\theta)$ decreases by less than E in one iteration, where E is some small value such as 10−3. However in practice it's difficult to choose this threshold value.\n",
    "\n",
    "![](img/16.png)\n",
    "\n",
    "It has been proven that if learning rate α is sufficiently small, then J(θ) will decrease on every iteration.\n",
    "\n",
    "![](img/17.png)\n",
    "\n",
    "To summarize:\n",
    "\n",
    "If $\\alpha$ is too small: slow convergence.\n",
    "\n",
    "If $\\alpha$ is too large: ￼may not decrease on every iteration and thus may not converge."
   ]
  },
  {
   "cell_type": "markdown",
   "metadata": {},
   "source": [
    "## Features and Polynomial Regression\n",
    "\n",
    "We can improve our features and the form of our hypothesis function in a couple different ways.\n",
    "\n",
    "We can **combine** multiple features into one. \n",
    "\n",
    "**For example**, we can combine $x_1$ and $x_2$ into a new feature $x_3$ by taking $x_1\\cdot x_2$.\n",
    "\n",
    "### Polynomial Regression\n",
    "\n",
    "Our hypothesis function need not be linear (a straight line) if that does not fit the data well.\n",
    "\n",
    "We can **change the behavior or curve** of our hypothesis function by making it a **quadratic, cubic or square root function (or any other form)**.\n",
    "\n",
    "For example, if our hypothesis function is $h_{\\theta}(x) = \\theta_0+\\theta_1x_1$ then we can create additional features based on $x_1$, to get the quadratic function $h_{\\theta}(x) = \\theta_0+\\theta_1x_1+\\theta_2x_1^2$ or the cubic function $h_{\\theta}(x) = \\theta_0+\\theta_1x_1+\\theta_2x_1^2+\\theta_3x_1^3$\n",
    "\n",
    "In the cubic version, we have created new features $x_2$ and $x_3$ where $x_2=x^2_1$ and $x_3=x^3_1$.\n",
    "\n",
    "To make it a square root function, we could do: $h_{\\theta}(x) = \\theta_0+\\theta_1x_1+\\theta_2\\sqrt{x_1}$\n",
    "\n",
    "**One important thing to keep in mind is, if you choose your features this way then feature scaling becomes very important.**\n",
    "\n",
    "eg. if $x_1$ has range 1-1000 then range of $x^2_1$ becomes 1-1000000 and that of $x^3_1$ becomes 1-1000000000\n"
   ]
  },
  {
   "cell_type": "markdown",
   "metadata": {},
   "source": [
    "# Computing Parameters Analytically"
   ]
  },
  {
   "cell_type": "markdown",
   "metadata": {},
   "source": [
    "## Normal Equation\n",
    "\n",
    "Gradient descent gives one way of minimizing $J$. Let’s discuss a second way of doing so, this time performing the minimization explicitly and without resorting to **an iterative algorithm(algorithm ที่ต้อง loop ซ้ำๆ)**. \n",
    "\n",
    "In the **\"Normal Equation\"** method, we will minimize $J$ by explicitly taking its derivatives with respect to the $\\theta_j$’s, and setting them to zero. This allows us to find the optimum theta without iteration. The normal equation formula is given below:\n",
    "\n",
    "$\\theta = (X^T X)^{-1}X^T y$\n",
    "\n",
    "![](img/18.png)\n",
    "\n",
    "There is no need to do **feature scaling** with the normal equation. (สำหรับ normal equation method ไม่ต้องใช้ feature scaling)\n",
    "\n",
    "The following is a comparison of gradient descent and the normal equation:\n",
    "![](img/19.png)\n",
    "\n",
    "With the normal equation, computing the inversion has complexity $\\mathcal{O}(n^3)$. So if we have a very large number of features, the normal equation will be slow. In practice, when $n$ exceeds 10,000 it might be a good time to go from a normal solution to an iterative process."
   ]
  },
  {
   "cell_type": "markdown",
   "metadata": {},
   "source": [
    "## Normal Equation Noninvertibility\n",
    "\n",
    "When implementing the normal equation in octave we want to use the 'pinv' function rather than 'inv.' \n",
    "\n",
    "**The 'pinv' function will give you a value of $\\theta$ even if $X^TX$ is not invertible.**\n",
    "\n",
    "If $X^TX$ is **noninvertible,** the common causes might be having :\n",
    "\n",
    "* Redundant features, where two features are very closely related (i.e. they are linearly dependent) (มีบาง features ที่ค่าซ้ำซ้อนกัน สามารถเขียนได้ในรูปของความสัมพันธ์เชิงเส้น เช่น $x_2 = 3x_1$)\n",
    "* Too many features (e.g. m ≤ n มี features เยอะเกินไป คือมากกว่า example ข้อมูลอีก). In this case, delete some features or use **\"regularization\" (to be explained in a later lesson)**.\n",
    "\n",
    "Solutions to the above problems include **deleting a feature that is linearly dependent with another or deleting one or more features when there are too many features**."
   ]
  },
  {
   "cell_type": "markdown",
   "metadata": {
    "collapsed": true
   },
   "source": [
    "# <center>================ Code Example ================</center>"
   ]
  },
  {
   "cell_type": "markdown",
   "metadata": {},
   "source": [
    "### ตัวอย่างข้อมูลสำหรับ  Linear Regression with Multiple Variable\n",
    "\n",
    "มี independence variable 2 ตัว (x1,x2) และ dependence variable 1 ตัว (y)"
   ]
  },
  {
   "cell_type": "code",
   "execution_count": 1,
   "metadata": {},
   "outputs": [
    {
     "data": {
      "text/html": [
       "<div>\n",
       "<style>\n",
       "    .dataframe thead tr:only-child th {\n",
       "        text-align: right;\n",
       "    }\n",
       "\n",
       "    .dataframe thead th {\n",
       "        text-align: left;\n",
       "    }\n",
       "\n",
       "    .dataframe tbody tr th {\n",
       "        vertical-align: top;\n",
       "    }\n",
       "</style>\n",
       "<table border=\"1\" class=\"dataframe\">\n",
       "  <thead>\n",
       "    <tr style=\"text-align: right;\">\n",
       "      <th></th>\n",
       "      <th>Size(feet2)</th>\n",
       "      <th>Number of bedrroms</th>\n",
       "      <th>Price($)</th>\n",
       "    </tr>\n",
       "  </thead>\n",
       "  <tbody>\n",
       "    <tr>\n",
       "      <th>0</th>\n",
       "      <td>2104</td>\n",
       "      <td>3</td>\n",
       "      <td>399900</td>\n",
       "    </tr>\n",
       "    <tr>\n",
       "      <th>1</th>\n",
       "      <td>1600</td>\n",
       "      <td>3</td>\n",
       "      <td>329900</td>\n",
       "    </tr>\n",
       "    <tr>\n",
       "      <th>2</th>\n",
       "      <td>2400</td>\n",
       "      <td>3</td>\n",
       "      <td>369000</td>\n",
       "    </tr>\n",
       "    <tr>\n",
       "      <th>3</th>\n",
       "      <td>1416</td>\n",
       "      <td>2</td>\n",
       "      <td>232000</td>\n",
       "    </tr>\n",
       "    <tr>\n",
       "      <th>4</th>\n",
       "      <td>3000</td>\n",
       "      <td>4</td>\n",
       "      <td>539900</td>\n",
       "    </tr>\n",
       "  </tbody>\n",
       "</table>\n",
       "</div>"
      ],
      "text/plain": [
       "   Size(feet2)  Number of bedrroms  Price($)\n",
       "0         2104                   3    399900\n",
       "1         1600                   3    329900\n",
       "2         2400                   3    369000\n",
       "3         1416                   2    232000\n",
       "4         3000                   4    539900"
      ]
     },
     "execution_count": 1,
     "metadata": {},
     "output_type": "execute_result"
    }
   ],
   "source": [
    "import pandas as pd\n",
    "import matplotlib.pyplot as plt\n",
    "\n",
    "# The file ex1data2.txt contains a training set of housing prices in Port-land, Oregon. \n",
    "# The first column is the size of the house (in square feet), \n",
    "# the second column is the number of bedrooms, and the third column is the price of the house.\n",
    "\n",
    "data2 = pd.read_csv('programing/machine-learning-ex1/ex1/ex1data2.txt',names=['Size(feet2)','Number of bedrroms','Price($)'])\n",
    "data2.head()"
   ]
  },
  {
   "cell_type": "markdown",
   "metadata": {},
   "source": [
    "ตัวแปรต้นคือ Size, Number of bedrooms ส่วน Price เป็นตัวแปรตาม\n",
    "\n",
    "ก่อนจะเริ่มทำอะไร ลอง visualize ดูความสัมพันธ์ของข้อมูลนี้สักหน่อยว่าเป็นแบบไหน"
   ]
  },
  {
   "cell_type": "code",
   "execution_count": 2,
   "metadata": {},
   "outputs": [
    {
     "data": {
      "image/png": "[encoded data removed]",
      "text/plain": [
       "<matplotlib.figure.Figure at 0x1076855c0>"
      ]
     },
     "metadata": {},
     "output_type": "display_data"
    }
   ],
   "source": [
    "from mpl_toolkits.mplot3d import Axes3D\n",
    "import matplotlib.pyplot as plt\n",
    "import numpy as np\n",
    "\n",
    "x1 = data2.values[:,0]\n",
    "x2 = data2.values[:,1]\n",
    "y  = data2.values[:,2]\n",
    "\n",
    "fig = plt.figure()\n",
    "ax = fig.add_subplot(111, projection='3d')\n",
    "ax.scatter(x1, x2, y)\n",
    "ax.set_xlabel('Size(ft^2)')\n",
    "ax.set_ylabel('Number of bedroom')\n",
    "ax.set_zlabel('Price')\n",
    "plt.show()"
   ]
  },
  {
   "cell_type": "markdown",
   "metadata": {},
   "source": [
    "ขนาดห้อง ถ้าเทียบกับจำนวนห้องนอนจะเห็นว่า scale ต่างกันมาก ดังนั้นควรทำ Feature Normalization (ทำเฉพาะกับ input) ก่อน ดังนี้\n",
    "\n",
    "$$x_i := \\dfrac{x_i - \\mu_i}{s_i}$$\n",
    "\n",
    "Where \n",
    "- $μ_i$ is the average of all the values for feature (i) \n",
    "- $s_i$ is the range of values (max - min), or $s_i$ is the standard deviation. ($s_i = x_i^{max} - x_i^{min}$)"
   ]
  },
  {
   "cell_type": "code",
   "execution_count": 3,
   "metadata": {},
   "outputs": [],
   "source": [
    "import numpy as np\n",
    "def featureNormalize(X):\n",
    "    X = np.array(X)\n",
    "    Xmean = X.mean()\n",
    "    Xmin  = X.min()\n",
    "    Xmax  = X.max()\n",
    "    Xstd  = X.std()\n",
    "    Xnorm = (X-Xmean)/Xstd\n",
    "\n",
    "    return [Xnorm,Xmean,Xstd]"
   ]
  },
  {
   "cell_type": "code",
   "execution_count": 4,
   "metadata": {},
   "outputs": [],
   "source": [
    "x1 = featureNormalize(x1)[0]\n",
    "x2 = featureNormalize(x2)[0]"
   ]
  },
  {
   "cell_type": "markdown",
   "metadata": {},
   "source": [
    "เมื่อเราจะอธิบายข้อมูลด้วย linear model จะได้ $\\hat{y}^{(i)}$ (ค่า predict ที่จุด i)\n",
    "$$h_\\theta (x^{(i)}) = \\theta_0 + \\theta_1 x_1^{(i)} + \\theta_2 x_2^{(i)} + \\theta_3 x_3^{(i)} + \\cdots + \\theta_n x_n^{(i)}$$"
   ]
  },
  {
   "cell_type": "markdown",
   "metadata": {},
   "source": [
    "$$\\begin{align*}h_\\theta(x^{(i)}) =\\begin{bmatrix}1 \\hspace{2em} x_1^{(i)} \\hspace{2em} ... \\hspace{2em} x_n^{(i)}\\end{bmatrix}\\begin{bmatrix}\\theta_0 \\newline \\theta_1 \\newline \\vdots \\newline \\theta_n\\end{bmatrix}= x\\theta\\end{align*}$$\n",
    "\n",
    "เมื่อ\n",
    "* $\\theta\\in \\mathbb{R}^{n+1}$\n",
    "* $x\\in \\mathbb{R}^{1x(n+1)}$\n",
    "* $h_\\theta(x) \\in \\mathbb{R}$\n",
    "\n",
    "ถ้า dataset เรามี m จุด (มี (x,y,z) m จุด) จะได้\n",
    "\n",
    "$$\\begin{align*}h_\\theta(X) =\\begin{bmatrix}1 \\hspace{2em} x_1^{(1)} \\hspace{2em} ... \\hspace{2em} x_n^{(1)} \\\\ 1 \\hspace{2em} x_1^{(2)} \\hspace{2em} ... \\hspace{2em} x_n^{(2)} \\\\ \\vdots \\hspace{2em} \\vdots \\hspace{2em} ... \\hspace{2em} \\vdots \\\\ 1 \\hspace{2em} x_1^{(m)} \\hspace{2em} ... \\hspace{2em} x_n^{(m)} \\end{bmatrix}\\begin{bmatrix}\\theta_0 \\newline \\theta_1 \\newline \\vdots \\newline \\theta_n\\end{bmatrix}= X\\theta\\end{align*}$$"
   ]
  },
  {
   "cell_type": "code",
   "execution_count": 5,
   "metadata": {},
   "outputs": [],
   "source": [
    "ones = np.ones(len(x1))\n",
    "x1one = np.vstack((ones,x1)) \n",
    "X = np.vstack((x1one,x2)).transpose() # --> X variable"
   ]
  },
  {
   "cell_type": "markdown",
   "metadata": {},
   "source": [
    "หา $\\theta$ ได้จาก Gradient Descent ซึ่งต้องหาค่า Cost Function จาก Lesson 2 จะได้\n",
    "\n",
    "$$ \n",
    "J(\\theta) = \\frac{1}{2m}(X\\theta -y)^{T}(X\\theta -y)\n",
    "$$ "
   ]
  },
  {
   "cell_type": "code",
   "execution_count": 10,
   "metadata": {
    "collapsed": true
   },
   "outputs": [],
   "source": [
    "import numpy as np\n",
    "\n",
    "def computeCost(X,y,theta):\n",
    "    # COMPUTECOST Compute cost for linear regression\n",
    "    # J = COMPUTECOST(X, y, theta) computes the cost of using theta as the\n",
    "    # parameter for linear regression to fit the data points in X and y\n",
    "    X = np.array(X)\n",
    "    y = np.array(y)\n",
    "    theta = np.array(theta)\n",
    "    \n",
    "    # Initialize some useful values\n",
    "    m = len(y) # number of training examples\n",
    "    J = 0\n",
    "    yhat = X.dot(theta)\n",
    "    deltaY = yhat-y\n",
    "    J = (deltaY.transpose().dot(deltaY))/(2*m) \n",
    "    return J"
   ]
  },
  {
   "cell_type": "code",
   "execution_count": 14,
   "metadata": {},
   "outputs": [
    {
     "data": {
      "text/plain": [
       "65591548106.457443"
      ]
     },
     "execution_count": 14,
     "metadata": {},
     "output_type": "execute_result"
    }
   ],
   "source": [
    "computeCost(X,y,[0,0,0])"
   ]
  },
  {
   "cell_type": "markdown",
   "metadata": {},
   "source": [
    "จาก Lesson 2\n",
    "\n",
    "### Gradient Descent \n",
    "\n",
    "\n",
    "$$ \\theta_{j} := \\theta_{j} − \\alpha \\frac{∂J(\\theta_{0},\\theta_{1})}{∂\\theta_{j}} $$\n",
    "where\n",
    "\n",
    "$j=0,1$ represents the feature index number.\n",
    "\n",
    "สำหรับ Linear Regression with One Variable จะได้\n",
    "\n",
    "$$ \\theta_{0} := \\theta_{0}− \\alpha\\frac{1}{m}\\sum_{i=1}^{m}(h_{\\theta}(x_{i})−y_{i}) $$\n",
    "\n",
    "$$ \\theta_{1} := \\theta_{1}− \\alpha\\frac{1}{m}\\sum_{i=1}^{m}((h_{\\theta}(x_{i})−y_{i})x_{i}) $$\n",
    "\n",
    "การทำ Gradient Descent คือการเริ่มหาค่า $J(\\theta)$ (cost function) ที่ค่า $\\theta$ ใด $\\theta$ หนึ่งก่อน แล้วก็วน(iteration)ทำซ้ำๆปรับค่า $\\theta$ ไปเรื่อยๆจนเจอค่า $\\theta$ ที่ทำให้ $J(\\theta)$ มีค่าน้อยสุด\n",
    "\n",
    "ดังนั้นในการทำ function GD จะต้องมี input ดังนี้ \n",
    "1. input สำหรับใช้กับ `computeCost(X,y,theta)` \n",
    "2. $\\alpha$ จากสมการข้างบน ใช้ปรับค่า $\\theta$\n",
    "3. จำนวนการทำซ้ำ \n"
   ]
  },
  {
   "cell_type": "code",
   "execution_count": 12,
   "metadata": {
    "collapsed": true
   },
   "outputs": [],
   "source": [
    "import numpy as np\n",
    "\n",
    "def gradientDescent(X, y, theta, alpha, num_iters):\n",
    "    # GRADIENTDESCENT Performs gradient descent to learn theta\n",
    "    #   theta = GRADIENTDESCENT(X, y, theta, alpha, num_iters) updates theta by \n",
    "    #   taking num_iters gradient steps with learning rate alpha\n",
    "\n",
    "    # Initialize some useful values\n",
    "    m = len(y) # number of training examples\n",
    "    J_history = np.zeros(num_iters)\n",
    "    n = len(theta)\n",
    "\n",
    "    for i in range(num_iters):\n",
    "        yhat = X.dot(theta)\n",
    "        deltaY = yhat-y\n",
    "        new_theta = np.zeros(n)\n",
    "        \n",
    "        for j in range(n):\n",
    "            new_theta[j] = theta[j] - (alpha/m)*sum(deltaY*X[:,j])\n",
    "\n",
    "        J_history[i] = computeCost(X, y, theta)\n",
    "        theta = new_theta\n",
    "\n",
    "    return [theta, J_history]"
   ]
  },
  {
   "cell_type": "markdown",
   "metadata": {},
   "source": [
    "จากข้อมูลในไฟล์ `ex1data2.txt` ถ้าให้ $\\theta$ เริ่มต้นที่ $\\begin{bmatrix} \\theta_0 \\\\ \\theta_1 \\\\ \\theta_2 \\end{bmatrix} = \\begin{bmatrix} 0 \\\\ 0 \\\\ 0 \\end{bmatrix}$ $\\alpha = 0.01$ ทำซ้ำ 50 ครั้ง จะได้ Gradient Descent ดังนี้"
   ]
  },
  {
   "cell_type": "code",
   "execution_count": 13,
   "metadata": {
    "collapsed": true
   },
   "outputs": [],
   "source": [
    "theta_with_J = gradientDescent(X,y,[0,0,0],0.01,50)"
   ]
  },
  {
   "cell_type": "markdown",
   "metadata": {},
   "source": [
    "ลอง check ค่าของ Cost Function ที่ได้จาก Gradient Decent ดูว่ามีพฤติกรรมยังไงเทียบกับจำนวน iterations"
   ]
  },
  {
   "cell_type": "code",
   "execution_count": 15,
   "metadata": {},
   "outputs": [
    {
     "data": {
      "image/png": "[encoded data removed]",
      "text/plain": [
       "<matplotlib.figure.Figure at 0x10efb66a0>"
      ]
     },
     "metadata": {},
     "output_type": "display_data"
    }
   ],
   "source": [
    "import matplotlib.pyplot as plt\n",
    "\n",
    "Jtheta = theta_with_J[1]\n",
    "plt.plot(Jtheta)\n",
    "plt.xlabel('Number of iterations')\n",
    "plt.ylabel('Cost J')\n",
    "plt.show()"
   ]
  },
  {
   "cell_type": "markdown",
   "metadata": {},
   "source": [
    "ถ้าลองที่ $\\alpha = 0.1$ ทำสัก 100 ครั้ง จะได้"
   ]
  },
  {
   "cell_type": "code",
   "execution_count": 20,
   "metadata": {},
   "outputs": [
    {
     "data": {
      "image/png": "[encoded data removed]",
      "text/plain": [
       "<matplotlib.figure.Figure at 0x10f47da90>"
      ]
     },
     "metadata": {},
     "output_type": "display_data"
    }
   ],
   "source": [
    "theta_with_J = gradientDescent(X,y,[0,0,0],0.1,100)\n",
    "Jtheta = theta_with_J[1]\n",
    "plt.plot(Jtheta)\n",
    "plt.xlabel('Number of iterations')\n",
    "plt.ylabel('Cost J')\n",
    "plt.show()"
   ]
  },
  {
   "cell_type": "markdown",
   "metadata": {},
   "source": [
    "จะเห็นว่าลู่เข้าเกือบขนานกับแกน x แล้ว ดูว่าได้ค่า $\\theta = \\begin{bmatrix} \\theta_0 \\\\ \\theta_1 \\\\ \\theta_2 \\end{bmatrix}$ เท่ากับ"
   ]
  },
  {
   "cell_type": "code",
   "execution_count": 22,
   "metadata": {},
   "outputs": [
    {
     "name": "stdout",
     "output_type": "stream",
     "text": [
      "[ 340403.61773803  108803.37852266   -5933.9413402 ]\n"
     ]
    }
   ],
   "source": [
    "print(theta_with_J[0])"
   ]
  },
  {
   "cell_type": "markdown",
   "metadata": {},
   "source": [
    "ทีนี้ลองมาเทียบกับวิธีหาด้วย Normal Equations ดูบ้าง จาก \n",
    "$\\theta = (X^T X)^{-1}X^T y$ (ผลเฉลยได้มาจากการใช้ Calculus แก้ปัญหา หาค่า $\\theta$ ที่ทำให้ Cost Function มีค่าต่ำสุด ซึ่งตรงกับปัญหา Least Mean Square )"
   ]
  },
  {
   "cell_type": "code",
   "execution_count": 25,
   "metadata": {},
   "outputs": [
    {
     "name": "stdout",
     "output_type": "stream",
     "text": [
      "[ 340412.65957447  109447.79646964   -6578.35485416]\n"
     ]
    }
   ],
   "source": [
    "from numpy.linalg import inv\n",
    "nor_theta = inv(X.transpose().dot(X)).dot(X.transpose()).dot(y)\n",
    "print(nor_theta)"
   ]
  },
  {
   "cell_type": "markdown",
   "metadata": {},
   "source": [
    "จะเห็นว่าค่าที่ได้จาก Normal Equation ต่างกับ ค่าที่ได้จาก Gradient Descent พอสมควร เลยจะลองเพิ่มจำนวนการทำซ้ำของ GD ดู เป็น 500 จะได้"
   ]
  },
  {
   "cell_type": "code",
   "execution_count": 28,
   "metadata": {},
   "outputs": [
    {
     "data": {
      "image/png": "[encoded data removed]",
      "text/plain": [
       "<matplotlib.figure.Figure at 0x10f86c828>"
      ]
     },
     "metadata": {},
     "output_type": "display_data"
    },
    {
     "name": "stdout",
     "output_type": "stream",
     "text": [
      "[ 340412.65957447  109447.79645983   -6578.35484435]\n"
     ]
    }
   ],
   "source": [
    "theta_with_J = gradientDescent(X,y,[0,0,0],0.1,500)\n",
    "Jtheta = theta_with_J[1]\n",
    "plt.plot(Jtheta)\n",
    "plt.xlabel('Number of iterations')\n",
    "plt.ylabel('Cost J')\n",
    "plt.show()\n",
    "print(theta_with_J[0])"
   ]
  },
  {
   "cell_type": "markdown",
   "metadata": {},
   "source": [
    "จะเห็นว่า $\\theta$ ที่ได้จาก GD ต่างกับที่ได้จาก NE นิดเดียว ถ้าทำซ้ำมากกว่านี้ หรือปรับ \\alpha ให้มากขึ้นหน่อย น่าจะได้ค่าตรงกันเลย "
   ]
  }
 ],
 "metadata": {
  "kernelspec": {
   "display_name": "Python 3",
   "language": "python",
   "name": "python3"
  },
  "language_info": {
   "codemirror_mode": {
    "name": "ipython",
    "version": 3
   },
   "file_extension": ".py",
   "mimetype": "text/x-python",
   "name": "python",
   "nbconvert_exporter": "python",
   "pygments_lexer": "ipython3",
   "version": "3.6.3"
  }
 },
 "nbformat": 4,
 "nbformat_minor": 2
}
