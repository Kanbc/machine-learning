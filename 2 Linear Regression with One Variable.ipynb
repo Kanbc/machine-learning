{
 "cells": [
  {
   "cell_type": "markdown",
   "metadata": {},
   "source": [
    "# Model Representation\n",
    "\n",
    "### Recap\n",
    "\n",
    "- Linear Regression เป็นปัญหา supervised learning เพราะเรามี \"right answer\" เป็น train data\n",
    "- Regression Problem > predict real-valued output for *continuous data*\n",
    "\n",
    "### Coursera\n",
    "\n",
    "To establish notation for future use, we’ll use $x^{(i)}$ to denote the “input” variables (living area in this example), also called input features, and $y^{(i)}$ to denote the “output” or target variable that we are trying to predict (price). \n",
    "\n",
    "A pair ($x^{(i)},y^{(i)}$) is called a training example, and the dataset that we’ll be using to learn—a list of m training examples ($x^{(i)},y^{(i)}$); i=1,...,m — is called a training set. Note that the superscript “$(i)$” in the notation is simply an index into the training set, and has nothing to do with exponentiation. We will also use $X$ to denote the space of input values, and $Y$ to denote the space of output values. In this example, $X = Y = ℝ$.\n",
    "\n",
    "To describe the supervised learning problem slightly more formally, our goal is, given a training set, to learn a function $h : X → Y$ so that $h(x)$ is a “good” predictor for the corresponding value of $y$. For historical reasons, this function $h$ is called a hypothesis.\n",
    "\n",
    "$$h_{\\theta}(x) = \\theta_{0}+\\theta_{1}x$$\n",
    "Linear regression with one variable = **Univariate linear regression.**\n",
    "One Variable ที่ว่าคือ $x$\n",
    "\n",
    "When the target variable that we’re trying to predict is continuous, such as in our housing example, we call the learning problem a regression problem. When $y$ can take on only a small number of discrete values (such as if, given the living area, we wanted to predict if a dwelling is a house or an apartment, say), we call it a classification problem."
   ]
  },
  {
   "cell_type": "markdown",
   "metadata": {},
   "source": [
    "# Cost Function (Mean squared error)\n",
    "\n",
    "We can measure the accuracy of our hypothesis function by using a cost function. This takes an average difference (actually a fancier version of an average) of all the results of the hypothesis with inputs from x's and the actual output y's.\n",
    "\n",
    "$$ J(\\theta_{0},\\theta_{1})=\\frac{1}{2m}\\sum_{i=1}^{m}(\\hat{y_{i}}−y_{i})^{2} = \\frac{1}{2m}\\sum_{i=1}^{m}(h_{\\theta}(x_{i})−y_{i})^{2} $$\n",
    "\n",
    "To break it apart, it is $\\frac{1}{2}\\bar{x}$ where $\\bar{x}$ is the mean of the squares of $h_{\\theta}(x_{i})−y_{i}$ , or the difference between the predicted value and the actual value.\n",
    "\n",
    "This function is otherwise called the \"Squared error function\", or \"Mean squared error\". The mean is halved ($\\frac{1}{2}$) as a convenience for the computation of the gradient descent, as the derivative term of the square function will cancel out the $\\frac{1}{2}$ term. The following image summarizes what the cost function does:\n",
    "\n",
    "![cost_function](img/1.png)"
   ]
  },
  {
   "cell_type": "markdown",
   "metadata": {},
   "source": [
    "# Cost Function - Intuition I\n",
    "\n",
    "If we try to think of it in visual terms, our training data set is scattered on the $x-y$ plane. We are trying to make a straight line (defined by $h_{\\theta}(x)$) which passes through these scattered data points.\n",
    "\n",
    "Our objective is to get the best possible line. The best possible line will be such so that the average squared vertical distances of the scattered points from the line will be the least. Ideally, the line should pass through all the points of our training data set. In such a case, the value of $J(\\theta_{0},\\theta_{1})$ will be 0. The following example shows the ideal situation where we have a cost function of 0.\n",
    "\n",
    "![](img/2.png)\n",
    "\n",
    "When $\\theta_{1} = 1$, we get a slope of 1 which goes through every single data point in our model. Conversely, when $\\theta_{1} = 0.5$, we see the vertical distance from our fit to the data points increase.\n",
    "\n",
    "![](img/3.png)\n",
    "\n",
    "This increases our cost function to 0.58. Plotting several other points yields to the following graph:\n",
    "\n",
    "![](img/4.png)\n",
    "\n",
    "Thus as a goal, we should try to minimize the cost function. In this case, $\\theta_{1}=1$ is our global minimum."
   ]
  },
  {
   "cell_type": "markdown",
   "metadata": {},
   "source": [
    "# Cost Function - Intuition II\n",
    "\n",
    "A contour plot is a graph that contains many contour lines. A contour line of a two variable function has a constant value at all points of the same line. An example of such a graph is the one to the right below.\n",
    "\n",
    "![](img/5.png)\n",
    "\n",
    "Taking any color and going along the 'circle', one would expect to get the same value of the cost function. For example, the three green points found on the green line above have the same value for $J(\\theta_{0},\\theta_{1})$ and as a result, they are found along the same line. The circled $x$ displays the value of the cost function for the graph on the left when $\\theta_{0} = 800$ and $\\theta_{1} = -0.15$. Taking another $h(x)$ and plotting its contour plot, one gets the following graphs:\n",
    "\n",
    "![](img/6.png)\n",
    "\n",
    "When $\\theta_{0} = 360$ and $\\theta_{1} = 0$, the value of $J(\\theta_{0},\\theta_{1})$ in the contour plot gets closer to the center thus reducing the cost function error. Now giving our hypothesis function a slightly positive slope results in a better fit of the data.\n",
    "\n",
    "![](img/7.png)\n",
    "\n",
    "The graph above minimizes the cost function as much as possible and consequently, the result of $\\theta_{1}$ and $\\theta_{0}$ tend to be around 0.12 and 250 respectively. Plotting those values on our graph to the right seems to put our point in the center of the inner most 'circle'."
   ]
  },
  {
   "cell_type": "markdown",
   "metadata": {},
   "source": [
    "# Gradient Descent\n",
    "So we have our hypothesis function and we have a way of measuring how well it fits into the data. Now we need to estimate the parameters in the hypothesis function. That's where gradient descent comes in.\n",
    "\n",
    "Imagine that we graph our hypothesis function based on its fields $\\theta_{0}$ and $\\theta_{1}$ (actually we are graphing the cost function as a function of the parameter estimates). We are not graphing $x$ and $y$ itself, but the parameter range of our hypothesis function and the cost resulting from selecting a particular set of parameters.\n",
    "\n",
    "We put $\\theta_{0}$ on the $x$ axis and $\\theta_{1}$ on the $y$ axis, with the cost function on the vertical $z$ axis. The points on our graph will be the result of the cost function using our hypothesis with those specific theta parameters. The graph below depicts such a setup.\n",
    "\n",
    "![](img/8.png)\n",
    "\n",
    "We will know that we have succeeded when our cost function is at the very bottom of the pits in our graph, i.e. when its value is the minimum. The red arrows show the minimum points in the graph.\n",
    "\n",
    "The way we do this is by taking the derivative (the tangential line to a function) of our cost function. The slope of the tangent is the derivative at that point and it will give us a direction to move towards. We make steps down the cost function in the direction with the steepest descent. **The size of each step is determined by the parameter $\\alpha$, which is called the learning rate.**\n",
    "\n",
    "For example, the distance between each 'star' in the graph above represents a step determined by our parameter $\\alpha$. A smaller $\\alpha$ would result in a smaller step and a larger $\\alpha$ results in a larger step. The direction in which the step is taken is determined by the partial derivative of $J(\\theta_{0},\\theta_{1})$. Depending on where one starts on the graph, one could end up at different points. The image above shows us two different starting points that end up in two different places.\n",
    "\n",
    "The gradient descent algorithm is:\n",
    "\n",
    "repeat until convergence:\n",
    "\n",
    "\n",
    "$$ \\theta_{j} := \\theta_{j} − \\alpha \\frac{∂J(\\theta_{0},\\theta_{1})}{∂\\theta_{j}} $$\n",
    "where\n",
    "\n",
    "$j=0,1$ represents the feature index number.\n",
    "\n",
    "At each iteration $j$, one should simultaneously update the parameters $θ_{1},θ_{2},...,θ_{n}$. Updating a specific parameter prior to calculating another one on the $j(th)$ iteration would yield to a wrong implementation.\n",
    "\n",
    "![](img/9.png)"
   ]
  },
  {
   "cell_type": "markdown",
   "metadata": {},
   "source": [
    "# Gradient Descent Intuition\n",
    "\n",
    "In this video we explored the scenario where we used one parameter $\\theta_{1}$ and plotted its cost function to implement a gradient descent. Our formula for a single parameter was :\n",
    "\n",
    "Repeat until convergence:\n",
    "$$\\theta_{1} := \\theta_{1} − \\alpha \\frac{dJ(\\theta_{1})}{d\\theta_{1}}$$\n",
    "\n",
    "Regardless of the slope's sign for $\\frac{dJ(\\theta_{1})}{d\\theta_{1}}$, $\\theta_{1}$ eventually converges to its minimum value. The following graph shows that when the slope is negative, the value of $\\theta_{1}$ increases and when it is positive, the value of $\\theta_{1}$ decreases.\n",
    "\n",
    "![](img/10.png)\n",
    "\n",
    "On a side note, we should adjust our parameter $\\alpha$ to ensure that the gradient descent algorithm converges in a reasonable time. Failure to converge or too much time to obtain the minimum value imply that our step size is wrong.\n",
    "\n",
    "![](img/11.png)\n",
    "\n",
    "How does gradient descent converge with a fixed step size $\\alpha$?\n",
    "\n",
    "The intuition behind the convergence is that $\\frac{dJ(\\theta_{1})}{d\\theta_{1}}$ approaches 0 as we approach the bottom of our convex function. At the minimum, the derivative will always be 0 and thus we get:\n",
    "\n",
    "$$ \\theta_{1} := \\theta_{1}−\\alpha\\cdot0 $$\n",
    "\n",
    "![](img/12.png)\n"
   ]
  },
  {
   "cell_type": "markdown",
   "metadata": {},
   "source": [
    "# Gradient Descent For Linear Regression\n",
    "\n",
    "When specifically applied to the case of linear regression, a new form of the gradient descent equation can be derived. We can substitute our actual cost function and our actual hypothesis function and modify the equation to :\n",
    "\n",
    "repeat until convergence: {\n",
    "\n",
    "$$ \\theta_{0} := \\theta_{0}− \\alpha\\frac{1}{m}\\sum_{i=1}^{m}(h_{\\theta}(x_{i})−y_{i}) $$\n",
    "\n",
    "$$ \\theta_{1} := \\theta_{1}− \\alpha\\frac{1}{m}\\sum_{i=1}^{m}((h_{\\theta}(x_{i})−y_{i})x_{i}) $$\n",
    "\n",
    "}\n",
    "\n",
    "where $m$ is the size of the training set, $\\theta_{0}$ a constant that will be changing simultaneously with $\\theta_{1}$ and $x^{(i)}$,yiare values of the given training set (data).\n",
    "\n",
    "Note that we have separated out the two cases for $\\theta_{j}$ into separate equations for $\\theta_{0}$ and $\\theta_{1}$; and that for $\\theta_{1}$ we are multiplying $x_{i}$ at the end due to the derivative. The following is a derivation of $\\frac{\\partial J(\\theta)}{\\partial\\theta_{j}}$ for a single example :\n",
    "\n",
    "![](img/13.png)\n",
    "\n",
    "> The point of all this is that if we start with a guess for our hypothesis and then repeatedly apply these gradient descent equations, our hypothesis will become more and more accurate.\n",
    "\n",
    "So, this is simply gradient descent on the original cost function J. **This method looks at every example in the entire training set on every step, and is called batch gradient descent.** \n",
    "\n",
    "**Note that, while gradient descent can be susceptible to local minima in general, the optimization problem we have posed here for linear regression has only one global, and no other local, optima; thus gradient descent always converges (assuming the learning rate α is not too large) to the global minimum. **\n",
    "\n",
    "Indeed, J is a convex quadratic function. Here is an example of gradient descent as it is run to minimize a quadratic function.\n",
    "\n",
    "![](img/14.png)\n",
    "\n",
    "The ellipses shown above are the contours of a quadratic function. Also shown is the trajectory taken by gradient descent, which was initialized at (48,30). The x’s in the figure (joined by straight lines) mark the successive values of θ that gradient descent went through as it converged to its minimum."
   ]
  },
  {
   "cell_type": "markdown",
   "metadata": {
    "collapsed": true
   },
   "source": [
    "# <center>================ Code Example ================</center>"
   ]
  },
  {
   "cell_type": "markdown",
   "metadata": {},
   "source": [
    "### ตัวอย่างข้อมูลสำหรับ  Linear Regression with One Variable\n",
    "\n",
    "มี independence variable 1 ตัว (x) และ dependence variable 1 ตัว (y)"
   ]
  },
  {
   "cell_type": "code",
   "execution_count": 56,
   "metadata": {},
   "outputs": [
    {
     "data": {
      "text/html": [
       "<div>\n",
       "<style>\n",
       "    .dataframe thead tr:only-child th {\n",
       "        text-align: right;\n",
       "    }\n",
       "\n",
       "    .dataframe thead th {\n",
       "        text-align: left;\n",
       "    }\n",
       "\n",
       "    .dataframe tbody tr th {\n",
       "        vertical-align: top;\n",
       "    }\n",
       "</style>\n",
       "<table border=\"1\" class=\"dataframe\">\n",
       "  <thead>\n",
       "    <tr style=\"text-align: right;\">\n",
       "      <th></th>\n",
       "      <th>Population</th>\n",
       "      <th>Profit of food truck</th>\n",
       "    </tr>\n",
       "  </thead>\n",
       "  <tbody>\n",
       "    <tr>\n",
       "      <th>0</th>\n",
       "      <td>6.1101</td>\n",
       "      <td>17.5920</td>\n",
       "    </tr>\n",
       "    <tr>\n",
       "      <th>1</th>\n",
       "      <td>5.5277</td>\n",
       "      <td>9.1302</td>\n",
       "    </tr>\n",
       "    <tr>\n",
       "      <th>2</th>\n",
       "      <td>8.5186</td>\n",
       "      <td>13.6620</td>\n",
       "    </tr>\n",
       "    <tr>\n",
       "      <th>3</th>\n",
       "      <td>7.0032</td>\n",
       "      <td>11.8540</td>\n",
       "    </tr>\n",
       "    <tr>\n",
       "      <th>4</th>\n",
       "      <td>5.8598</td>\n",
       "      <td>6.8233</td>\n",
       "    </tr>\n",
       "  </tbody>\n",
       "</table>\n",
       "</div>"
      ],
      "text/plain": [
       "   Population  Profit of food truck\n",
       "0      6.1101               17.5920\n",
       "1      5.5277                9.1302\n",
       "2      8.5186               13.6620\n",
       "3      7.0032               11.8540\n",
       "4      5.8598                6.8233"
      ]
     },
     "execution_count": 56,
     "metadata": {},
     "output_type": "execute_result"
    }
   ],
   "source": [
    "import pandas as pd\n",
    "import matplotlib.pyplot as plt\n",
    "\n",
    "# The file ex1data1.txt contains the dataset for our linear regression prob- lem. \n",
    "# The first column is the population of a city and the second column is the profit of a food truck in that city. \n",
    "# A negative value for profit indicates a loss.\n",
    "\n",
    "data1 = pd.read_csv('programing/machine-learning-ex1/ex1/ex1data1.txt',names=['Population','Profit of food truck'])\n",
    "data1.head()"
   ]
  },
  {
   "cell_type": "markdown",
   "metadata": {},
   "source": [
    "ก่อนจะเริ่มทำอะไร ลอง visualize ดูความสัมพันธ์ของข้อมูลนี้สักหน่อยว่าเป็นแบบไหน"
   ]
  },
  {
   "cell_type": "code",
   "execution_count": 31,
   "metadata": {},
   "outputs": [
    {
     "data": {
      "image/png": "[encoded data removed]",
      "text/plain": [
       "<matplotlib.figure.Figure at 0x1142fdd68>"
      ]
     },
     "metadata": {},
     "output_type": "display_data"
    }
   ],
   "source": [
    "x = data1.values[:,0]\n",
    "y = data1.values[:,1]\n",
    "plt.scatter(x, y)\n",
    "plt.xlabel('Population of City in 10,000s')\n",
    "plt.ylabel('Profit in $10,000s')\n",
    "plt.show()"
   ]
  },
  {
   "cell_type": "markdown",
   "metadata": {},
   "source": [
    "ดูแล้วน่าจะเป็น Linear นะ แล้วมี input แค่ตัวเดียว ดังนั้น Model น่าจะเป็น Univariate linear regression. ซึ่ง**แต่ละจุด** ของ model คือ ($x_{i},y_{i}$) จะมีความสัมพันธ์กันดังนี้\n",
    "\n",
    "$$\n",
    "\\hat{y_{i}} = h_{\\theta}(x_{i}) = \\theta_{0}+\\theta_{1}x_{i}\n",
    "$$\n",
    "\n",
    "ดังนั้น step ถัดไปคือ เราต้องหา พารามิเตอร์ $\\theta_{0}$, $\\theta_{1}$ ด้วย Gradient Descent (วนหาค่า $\\theta_{0}$, $\\theta_{1}$ ที่ทำให้ Cost Function มีค่าน้อยสุด)\n",
    "\n",
    "จาก dataset ตอนนี้ค่าที่เรามีคือ $x = \\begin{bmatrix} x_{1}\\\\x_{2}\\\\\\vdots \\\\x_{m}\\end{bmatrix}$ และ $y = \\begin{bmatrix} y_{1}\\\\y_{2}\\\\\\vdots \\\\y_{m}\\end{bmatrix}$ เมื่อ $m$ คือจำนวนจุด(แถว)ของ dataset ที่เรามี\n",
    "\n",
    "เมื่อ $\\hat{y_{i}}$ เป็น function ของ $x_{i}$ จะได้ว่า\n",
    "\n",
    "$$ \n",
    "\\begin{bmatrix} \\hat{y_{1}}\\\\\\hat{y_{2}}\\\\\\vdots \\\\\\hat{y_{m}}\\end{bmatrix} = \\begin{bmatrix} \\theta_{0}+\\theta_{1}x_{1}\\\\\\theta_{0}+\\theta_{1}x_{2}\\\\\\vdots \\\\\\theta_{0}+\\theta_{1}x_{m}\\end{bmatrix}\n",
    "$$\n",
    "\n",
    "ทำ Vectorization จะได้\n",
    "\n",
    "$$ \n",
    "\\begin{bmatrix} \\hat{y_{1}}\\\\\\hat{y_{2}}\\\\\\vdots \\\\\\hat{y_{m}}\\end{bmatrix} = \\begin{bmatrix} 1 & x_{1}\\\\1 & x_{2}\\\\\\vdots & \\vdots \\\\1 & x_{m}\\end{bmatrix}\\begin{bmatrix}\\theta_{0}\\\\\\theta_{1}\\end{bmatrix}\n",
    "$$\n",
    "\n",
    "$$y = X\\theta$$\n",
    "\n",
    "เมื่อ $y \\in \\mathbb{R}^m$, $X \\in \\mathbb{R}^{mx2}$ และ $\\theta\\in\\mathbb{R}^2$"
   ]
  },
  {
   "cell_type": "markdown",
   "metadata": {},
   "source": [
    "### Cost Function (Mean squared error)\n",
    "\n",
    "$$ J(\\theta_{0},\\theta_{1})=\\frac{1}{2m}\\sum_{i=1}^{m}(\\hat{y_{i}}−y_{i})^{2} = \\frac{1}{2m}\\sum_{i=1}^{m}(h_{\\theta}(x_{i})−y_{i})^{2} $$\n",
    "\n",
    "เมื่อ $m$ คือจำนวนจุดทั้งหมด(แถว)ของ dataset ที่เรามี\n",
    "\n",
    "จะได้\n",
    "\n",
    "$$ J(\\theta_{0},\\theta_{1})=\\frac{1}{2m}\\cdot \\text{sum}\\Bigg(\\begin{bmatrix} (\\hat{y_{1}} - y_1)^2 \\\\(\\hat{y_{2}}-y_2)^2\\\\\\vdots \\\\(\\hat{y_{m}}-y_m)^2\\end{bmatrix} \\Bigg) $$\n",
    "\n",
    "ทำให้อยู่ในรูปของฟังก์ชั่นของ dataset ที่เรามีจะได้\n",
    "$$ \n",
    "J(\\theta_{0},\\theta_{1}) = \\frac{1}{2m}\\cdot \\text{sum}\\Bigg(\\text{square_each_row}\\Bigg( \\begin{bmatrix} 1 & x_{1}\\\\1 & x_{2}\\\\\\vdots & \\vdots \\\\1 & x_{m}\\end{bmatrix}\\begin{bmatrix}\\theta_{0}\\\\\\theta_{1}\\end{bmatrix} - \\begin{bmatrix} y_{1}\\\\y_{2}\\\\\\vdots \\\\y_{m}\\end{bmatrix}\\Bigg)\\Bigg)\n",
    "$$ \n",
    "\n",
    "$$ \n",
    "J(\\theta) = \\frac{1}{2m}(X\\theta -y)^{T}(X\\theta -y)\n",
    "$$ \n",
    "\n",
    "จะเห็นว่าถ้าเราแทนค่า $X$ และ $y$ (ค่าจาก dataset) ลงไป ฟังก์ชั่น $J(\\theta)$ จะขึ้นกับการเปลี่ยนค่าของ $\\theta$ เท่านั้น ซึ่งนี่คือสิ่งที่ Gradient Descent ทำเพื่อที่จะหาค่า $\\text{min}\\big(J(\\theta)\\big)$\n",
    "\n",
    "สร้าง ฟังก์ชั่นคำนวณค่า Cost Function จะได้"
   ]
  },
  {
   "cell_type": "code",
   "execution_count": 53,
   "metadata": {},
   "outputs": [],
   "source": [
    "import numpy as np\n",
    "\n",
    "def computeCost(X,y,theta):\n",
    "    # COMPUTECOST Compute cost for linear regression\n",
    "    # J = COMPUTECOST(X, y, theta) computes the cost of using theta as the\n",
    "    # parameter for linear regression to fit the data points in X and y\n",
    "    X = np.array(X)\n",
    "    y = np.array(y)\n",
    "    theta = np.array(theta)\n",
    "    \n",
    "    # Initialize some useful values\n",
    "    m = len(y) # number of training examples\n",
    "    J = 0\n",
    "    yhat = X.dot(theta)\n",
    "    deltaY = yhat-y\n",
    "    sqrDeltaY = deltaY*deltaY\n",
    "    J = sum(sqrDeltaY)/(2*m)\n",
    "    return J"
   ]
  },
  {
   "cell_type": "markdown",
   "metadata": {},
   "source": [
    "จากข้อมูลในไฟล์ `ex1data1.txt` ถ้าให้ $\\theta = \\begin{bmatrix} \\theta_0 \\\\ \\theta_1 \\end{bmatrix} = \\begin{bmatrix} 0 \\\\ 0 \\end{bmatrix}$ จะได้ค่า Cost Function ดังนี้ (ควรได้ 32.07)  "
   ]
  },
  {
   "cell_type": "code",
   "execution_count": 151,
   "metadata": {},
   "outputs": [
    {
     "name": "stdout",
     "output_type": "stream",
     "text": [
      "32.0727338775\n"
     ]
    }
   ],
   "source": [
    "import pandas as pd\n",
    "import matplotlib.pyplot as plt\n",
    "import numpy as np\n",
    "\n",
    "data1 = pd.read_csv('programing/machine-learning-ex1/ex1/ex1data1.txt',names=['Population','Profit of food truck'])\n",
    "\n",
    "y = data1.values[:,1] # --> y variable\n",
    "x = data1.values[:,0]\n",
    "ones = np.ones(len(x))\n",
    "X = np.stack((ones,x)).transpose() # --> X variable\n",
    "theta = np.array([0,0]) # --> theta variable\n",
    "\n",
    "J = computeCost(X,y,theta)\n",
    "print(J)"
   ]
  },
  {
   "cell_type": "markdown",
   "metadata": {},
   "source": [
    "### Gradient Descent \n",
    "\n",
    "\n",
    "$$ \\theta_{j} := \\theta_{j} − \\alpha \\frac{∂J(\\theta_{0},\\theta_{1})}{∂\\theta_{j}} $$\n",
    "where\n",
    "\n",
    "$j=0,1$ represents the feature index number.\n",
    "\n",
    "สำหรับ Linear Regression with One Variable จะได้\n",
    "\n",
    "$$ \\theta_{0} := \\theta_{0}− \\alpha\\frac{1}{m}\\sum_{i=1}^{m}(h_{\\theta}(x_{i})−y_{i}) $$\n",
    "\n",
    "$$ \\theta_{1} := \\theta_{1}− \\alpha\\frac{1}{m}\\sum_{i=1}^{m}((h_{\\theta}(x_{i})−y_{i})x_{i}) $$\n",
    "\n",
    "การทำ Gradient Descent คือการเริ่มหาค่า $J(\\theta)$ (cost function) ที่ค่า $\\theta$ ใด $\\theta$ หนึ่งก่อน แล้วก็วน(iteration)ทำซ้ำๆปรับค่า $\\theta$ ไปเรื่อยๆจนเจอค่า $\\theta$ ที่ทำให้ $J(\\theta)$ มีค่าน้อยสุด\n",
    "\n",
    "ดังนั้นในการทำ function GD จะต้องมี input ดังนี้ \n",
    "1. input สำหรับใช้กับ `computeCost(X,y,theta)` \n",
    "2. $\\alpha$ จากสมการข้างบน ใช้ปรับค่า $\\theta$\n",
    "3. จำนวนการทำซ้ำ \n"
   ]
  },
  {
   "cell_type": "code",
   "execution_count": 193,
   "metadata": {},
   "outputs": [],
   "source": [
    "import numpy as np\n",
    "\n",
    "def gradientDescent(X, y, theta, alpha, num_iters):\n",
    "    # GRADIENTDESCENT Performs gradient descent to learn theta\n",
    "    #   theta = GRADIENTDESCENT(X, y, theta, alpha, num_iters) updates theta by \n",
    "    #   taking num_iters gradient steps with learning rate alpha\n",
    "\n",
    "    # Initialize some useful values\n",
    "    m = len(y) # number of training examples\n",
    "    J_history = np.zeros(num_iters)\n",
    "    n = len(theta)\n",
    "\n",
    "    for i in range(num_iters):\n",
    "        yhat = X.dot(theta)\n",
    "        deltaY = yhat-y\n",
    "        new_theta = np.zeros(n)\n",
    "        \n",
    "        for j in range(n):\n",
    "            new_theta[j] = theta[j] - (alpha/m)*sum(deltaY*X[:,j])\n",
    "\n",
    "        J_history[i] = computeCost(X, y, theta)\n",
    "        theta = new_theta\n",
    "\n",
    "    return [theta, J_history]"
   ]
  },
  {
   "cell_type": "markdown",
   "metadata": {},
   "source": [
    "จากข้อมูลในไฟล์ `ex1data1.txt` ถ้าให้ $\\theta$ เริ่มต้นที่ $\\begin{bmatrix} \\theta_0 \\\\ \\theta_1 \\end{bmatrix} = \\begin{bmatrix} 0 \\\\ 0 \\end{bmatrix}$ $\\alpha = 0.01$ ทำซ้ำ 50 ครั้ง จะได้ Gradient Descent ดังนี้"
   ]
  },
  {
   "cell_type": "code",
   "execution_count": 194,
   "metadata": {},
   "outputs": [],
   "source": [
    "import pandas as pd\n",
    "import matplotlib.pyplot as plt\n",
    "import numpy as np\n",
    "\n",
    "data1 = pd.read_csv('programing/machine-learning-ex1/ex1/ex1data1.txt',names=['Population','Profit of food truck'])\n",
    "\n",
    "y = data1.values[:,1] # --> y variable\n",
    "x = data1.values[:,0]\n",
    "ones = np.ones(len(x))\n",
    "X = np.stack((ones,x)).transpose() # --> X variable\n",
    "theta = np.array([0,0]) # --> theta variable\n",
    "alpha = 0.01 # --> alpha variable\n",
    "num_iters = 50\n",
    "\n",
    "theta_with_J = gradientDescent(X,y,theta,alpha,num_iters)"
   ]
  },
  {
   "cell_type": "markdown",
   "metadata": {},
   "source": [
    "ลอง check ค่าของ Cost Function ที่ได้จาก Gradient Decent ดูว่ามีพฤติกรรมยังไงเทียบกับจำนวน iterations"
   ]
  },
  {
   "cell_type": "code",
   "execution_count": 195,
   "metadata": {},
   "outputs": [
    {
     "data": {
      "image/png": "[encoded data removed]",
      "text/plain": [
       "<matplotlib.figure.Figure at 0x11dbdc128>"
      ]
     },
     "metadata": {},
     "output_type": "display_data"
    }
   ],
   "source": [
    "import matplotlib.pyplot as plt\n",
    "\n",
    "Jtheta = theta_with_J[1]\n",
    "plt.plot(Jtheta)\n",
    "plt.xlabel('Number of iterations')\n",
    "plt.ylabel('Cost J')\n",
    "plt.show()"
   ]
  },
  {
   "cell_type": "markdown",
   "metadata": {},
   "source": [
    "ถ้าลอง $\\alpha = 0.001$ จะได้"
   ]
  },
  {
   "cell_type": "code",
   "execution_count": 196,
   "metadata": {},
   "outputs": [
    {
     "data": {
      "image/png": "[encoded data removed]",
      "text/plain": [
       "<matplotlib.figure.Figure at 0x11d2d9898>"
      ]
     },
     "metadata": {},
     "output_type": "display_data"
    }
   ],
   "source": [
    "alpha = 0.001 # --> alpha variable\n",
    "theta_with_J = gradientDescent(X,y,theta,alpha,num_iters)\n",
    "Jtheta = theta_with_J[1]\n",
    "plt.plot(Jtheta)\n",
    "plt.xlabel('Number of iterations')\n",
    "plt.ylabel('Cost J')\n",
    "plt.show()"
   ]
  },
  {
   "cell_type": "markdown",
   "metadata": {},
   "source": [
    "ถ้าลอง $\\alpha = 0.03$ จะได้"
   ]
  },
  {
   "cell_type": "code",
   "execution_count": 197,
   "metadata": {},
   "outputs": [
    {
     "data": {
      "image/png": "[encoded data removed]",
      "text/plain": [
       "<matplotlib.figure.Figure at 0x11e4779b0>"
      ]
     },
     "metadata": {},
     "output_type": "display_data"
    }
   ],
   "source": [
    "alpha = 0.03 # --> alpha variable\n",
    "theta_with_J = gradientDescent(X,y,theta,alpha,num_iters)\n",
    "Jtheta = theta_with_J[1]\n",
    "plt.plot(Jtheta)\n",
    "plt.xlabel('Number of iterations')\n",
    "plt.ylabel('Cost J')\n",
    "plt.show()"
   ]
  },
  {
   "cell_type": "markdown",
   "metadata": {},
   "source": [
    "เลือก $\\alpha$ ใหญ่ไป GD ลู่ออก"
   ]
  },
  {
   "cell_type": "markdown",
   "metadata": {},
   "source": [
    "ลองเอามาหา contour plot (แกน x,y คือ $\\theta_0$,$\\theta_1$ แกน z คือ $J(\\theta)$) จะได้\n",
    "\n",
    "($\\theta_0$,$\\theta_1$ มีค่า 0-10 แต่ค่าเพิ่มทีละ 0.01)"
   ]
  },
  {
   "cell_type": "code",
   "execution_count": 252,
   "metadata": {},
   "outputs": [],
   "source": [
    "import numpy as np\n",
    "import matplotlib\n",
    "import matplotlib.cm as cm\n",
    "import matplotlib.mlab as mlab\n",
    "import matplotlib.pyplot as plt\n",
    "\n",
    "def contourOfCostFunc(theta0min,theta0max,theta1min,theta1max,step):\n",
    "\n",
    "    theta0 = np.arange(theta0min,theta0max,step)\n",
    "    theta1 = np.arange(theta1min,theta1max,step)\n",
    "\n",
    "    # initialize J vals to a matrix of 0's\n",
    "    J_vals = np.zeros([len(theta0),len(theta1)])\n",
    "\n",
    "    # Fill out J vals\n",
    "    for i in range(len(theta0)):\n",
    "        for j in range(len(theta1)):\n",
    "            thetas = np.array([theta0[i],theta1[j]])\n",
    "            J_vals[i,j] = computeCost(X, y, thetas)\n",
    "    \n",
    "    CS = plt.contour(theta0,theta1, J_vals.transpose(), 25, linewidths=0.5, colors='k')\n",
    "    CS = plt.contourf(theta0, theta1, J_vals.transpose(), 25,vmax=abs(J_vals.transpose()).max(), vmin=-abs(J_vals.transpose()).max())\n",
    "    plt.colorbar()  # draw colorbar\n",
    "    plt.title('Contour, Showing minimum')\n",
    "    plt.xlabel('Theta0')\n",
    "    plt.ylabel('Theta1')\n",
    "    plt.show()"
   ]
  },
  {
   "cell_type": "code",
   "execution_count": 253,
   "metadata": {},
   "outputs": [
    {
     "data": {
      "image/png": "[encoded data removed]",
      "text/plain": [
       "<matplotlib.figure.Figure at 0x11e18a400>"
      ]
     },
     "metadata": {},
     "output_type": "display_data"
    }
   ],
   "source": [
    "contourOfCostFunc(-10,10,-1,4,0.01)"
   ]
  }
 ],
 "metadata": {
  "kernelspec": {
   "display_name": "Python 3",
   "language": "python",
   "name": "python3"
  },
  "language_info": {
   "codemirror_mode": {
    "name": "ipython",
    "version": 3
   },
   "file_extension": ".py",
   "mimetype": "text/x-python",
   "name": "python",
   "nbconvert_exporter": "python",
   "pygments_lexer": "ipython3",
   "version": "3.6.3"
  }
 },
 "nbformat": 4,
 "nbformat_minor": 2
}
